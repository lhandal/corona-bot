{
 "cells": [
  {
   "cell_type": "code",
   "execution_count": 21,
   "metadata": {
    "ExecuteTime": {
     "end_time": "2020-05-28T16:43:35.063290Z",
     "start_time": "2020-05-28T16:43:32.489480Z"
    }
   },
   "outputs": [],
   "source": [
    "import emoji\n",
    "from twilio.twiml.messaging_response import MessagingResponse\n",
    "from flask import request\n",
    "import requests\n",
    "from bs4 import BeautifulSoup\n",
    "import pandas as pd\n",
    "import re"
   ]
  },
  {
   "cell_type": "code",
   "execution_count": 11,
   "metadata": {
    "ExecuteTime": {
     "end_time": "2020-05-28T00:37:45.528399Z",
     "start_time": "2020-05-28T00:37:45.523685Z"
    }
   },
   "outputs": [],
   "source": [
    "resp = MessagingResponse()\n",
    "msg = resp.message()\n",
    "responded = False\n",
    "\n",
    "text = 'Hola! :wave:'\n",
    "# text = emoji.emojize(f'*Hola! :wave:*', use_aliases=True)\n",
    "msg = msg.body(emoji.emojize(text, use_aliases=True))\n",
    "responded = True"
   ]
  },
  {
   "cell_type": "code",
   "execution_count": 225,
   "metadata": {
    "ExecuteTime": {
     "end_time": "2020-05-28T03:07:54.494974Z",
     "start_time": "2020-05-28T03:07:53.754145Z"
    }
   },
   "outputs": [
    {
     "name": "stdout",
     "output_type": "stream",
     "text": [
      "7,768 280 689\n"
     ]
    },
    {
     "ename": "NameError",
     "evalue": "name 'nacional' is not defined",
     "output_type": "error",
     "traceback": [
      "\u001b[0;31m---------------------------------------------------------------------------\u001b[0m",
      "\u001b[0;31mNameError\u001b[0m                                 Traceback (most recent call last)",
      "\u001b[0;32m<ipython-input-225-2e75aaff1944>\u001b[0m in \u001b[0;36m<module>\u001b[0;34m\u001b[0m\n\u001b[1;32m     35\u001b[0m     \u001b[0mstep\u001b[0m\u001b[0;34m+=\u001b[0m\u001b[0;36m5\u001b[0m\u001b[0;34m\u001b[0m\u001b[0;34m\u001b[0m\u001b[0m\n\u001b[1;32m     36\u001b[0m \u001b[0;34m\u001b[0m\u001b[0m\n\u001b[0;32m---> 37\u001b[0;31m \u001b[0mnacional\u001b[0m\u001b[0;34m\u001b[0m\u001b[0;34m\u001b[0m\u001b[0m\n\u001b[0m\u001b[1;32m     38\u001b[0m \u001b[0;34m\u001b[0m\u001b[0m\n\u001b[1;32m     39\u001b[0m \u001b[0;34m\u001b[0m\u001b[0m\n",
      "\u001b[0;31mNameError\u001b[0m: name 'nacional' is not defined"
     ]
    }
   ],
   "source": [
    "page = requests.get('https://www.boliviasegura.gob.bo/')\n",
    "\n",
    "soup = BeautifulSoup(page.content, 'html.parser')\n",
    "\n",
    "item = soup.select('body > div.container > div.row.mapa > div > div:nth-child(2) > div > div.col-lg-5.col-md-5.col-sm-12.mapanuevos')\n",
    "\n",
    "def cleanhtml(raw_html):\n",
    "    raw_html = str(raw_html)\n",
    "    cleanr = re.compile('<.*?>')\n",
    "    cleantext = re.sub(cleanr, '', raw_html)\n",
    "    return cleantext\n",
    "\n",
    "fecha = cleanhtml(soup.find_all('h5')[0])\n",
    "fecha\n",
    "\n",
    "nacional_hoy = cleanhtml(soup.find_all('h4')[0])\n",
    "nacional_hoy\n",
    "\n",
    "nacional_total = cleanhtml(soup.find_all('td')[:3][0])\n",
    "nacional_decesos = cleanhtml(soup.find_all('td')[:3][1])\n",
    "nacional_recuperados = cleanhtml(soup.find_all('td')[:3][2])\n",
    "print(nacional_total,\n",
    "nacional_decesos,\n",
    "nacional_recuperados)\n",
    "\n",
    "ls = []\n",
    "for element in soup.find_all('td')[3:48]:\n",
    "    ls.append(cleanhtml(element))\n",
    "\n",
    "departamentos = ls[0::5]\n",
    "\n",
    "step=0\n",
    "for dep in departamentos:\n",
    "    exec(str(dep.lower().replace(' ','_'))+f'={ls[step:5+step]}')\n",
    "    step+=5\n",
    "\n",
    "nacional\n",
    "\n",
    "\n"
   ]
  },
  {
   "cell_type": "code",
   "execution_count": 77,
   "metadata": {
    "ExecuteTime": {
     "end_time": "2020-05-28T01:33:39.849633Z",
     "start_time": "2020-05-28T01:33:39.805109Z"
    }
   },
   "outputs": [],
   "source": [
    "soup = BeautifulSoup(page.content, 'html.parser')"
   ]
  },
  {
   "cell_type": "code",
   "execution_count": 83,
   "metadata": {
    "ExecuteTime": {
     "end_time": "2020-05-28T01:39:15.817575Z",
     "start_time": "2020-05-28T01:39:15.798496Z"
    }
   },
   "outputs": [],
   "source": [
    "item = soup.select('body > div.container > div.row.mapa > div > div:nth-child(2) > div > div.col-lg-5.col-md-5.col-sm-12.mapanuevos')"
   ]
  },
  {
   "cell_type": "code",
   "execution_count": 138,
   "metadata": {
    "ExecuteTime": {
     "end_time": "2020-05-28T01:52:41.136377Z",
     "start_time": "2020-05-28T01:52:41.132684Z"
    }
   },
   "outputs": [],
   "source": [
    "def cleanhtml(raw_html):\n",
    "    raw_html = str(raw_html)\n",
    "    cleanr = re.compile('<.*?>')\n",
    "    cleantext = re.sub(cleanr, '', raw_html)\n",
    "    return cleantext"
   ]
  },
  {
   "cell_type": "code",
   "execution_count": 154,
   "metadata": {
    "ExecuteTime": {
     "end_time": "2020-05-28T01:57:14.540919Z",
     "start_time": "2020-05-28T01:57:14.523931Z"
    }
   },
   "outputs": [
    {
     "data": {
      "text/plain": [
       "'Martes, 26 de Mayo de 2020'"
      ]
     },
     "execution_count": 154,
     "metadata": {},
     "output_type": "execute_result"
    }
   ],
   "source": [
    "fecha = cleanhtml(soup.find_all('h5')[0])\n",
    "fecha"
   ]
  },
  {
   "cell_type": "code",
   "execution_count": 155,
   "metadata": {
    "ExecuteTime": {
     "end_time": "2020-05-28T01:57:19.028581Z",
     "start_time": "2020-05-28T01:57:19.020739Z"
    }
   },
   "outputs": [
    {
     "data": {
      "text/plain": [
       "'CONFIRMADOS HOY: 476'"
      ]
     },
     "execution_count": 155,
     "metadata": {},
     "output_type": "execute_result"
    }
   ],
   "source": [
    "nacional_hoy = cleanhtml(soup.find_all('h4')[0])\n",
    "nacional_hoy"
   ]
  },
  {
   "cell_type": "code",
   "execution_count": 158,
   "metadata": {
    "ExecuteTime": {
     "end_time": "2020-05-28T01:58:37.434495Z",
     "start_time": "2020-05-28T01:58:37.427511Z"
    }
   },
   "outputs": [
    {
     "name": "stdout",
     "output_type": "stream",
     "text": [
      "7,136 274 677\n"
     ]
    }
   ],
   "source": [
    "nacional_total = cleanhtml(soup.find_all('td')[:3][0])\n",
    "nacional_decesos = cleanhtml(soup.find_all('td')[:3][1])\n",
    "nacional_recuperados = cleanhtml(soup.find_all('td')[:3][2])\n",
    "print(nacional_total,\n",
    "nacional_decesos,\n",
    "nacional_recuperados)"
   ]
  },
  {
   "cell_type": "code",
   "execution_count": 170,
   "metadata": {
    "ExecuteTime": {
     "end_time": "2020-05-28T02:02:08.127349Z",
     "start_time": "2020-05-28T02:02:08.121323Z"
    }
   },
   "outputs": [],
   "source": [
    "ls = []\n",
    "for element in soup.find_all('td')[3:48]:\n",
    "    ls.append(cleanhtml(element))"
   ]
  },
  {
   "cell_type": "code",
   "execution_count": 207,
   "metadata": {
    "ExecuteTime": {
     "end_time": "2020-05-28T02:24:37.780600Z",
     "start_time": "2020-05-28T02:24:37.777397Z"
    }
   },
   "outputs": [],
   "source": [
    "departamentos = ls[0::5]"
   ]
  },
  {
   "cell_type": "code",
   "execution_count": 208,
   "metadata": {
    "ExecuteTime": {
     "end_time": "2020-05-28T02:24:38.220808Z",
     "start_time": "2020-05-28T02:24:38.216920Z"
    }
   },
   "outputs": [],
   "source": [
    "step=0\n",
    "for dep in departamentos:\n",
    "    exec(str(dep.lower().replace(' ','_'))+f'={ls[step:5+step]}')\n",
    "    step+=5"
   ]
  },
  {
   "cell_type": "code",
   "execution_count": 210,
   "metadata": {
    "ExecuteTime": {
     "end_time": "2020-05-28T02:25:15.783326Z",
     "start_time": "2020-05-28T02:25:15.779256Z"
    }
   },
   "outputs": [
    {
     "data": {
      "text/plain": [
       "['La Paz', '7', '410', '24', '219']"
      ]
     },
     "execution_count": 210,
     "metadata": {},
     "output_type": "execute_result"
    }
   ],
   "source": [
    "la_paz"
   ]
  },
  {
   "cell_type": "code",
   "execution_count": null,
   "metadata": {},
   "outputs": [],
   "source": []
  },
  {
   "cell_type": "code",
   "execution_count": 177,
   "metadata": {
    "ExecuteTime": {
     "end_time": "2020-05-28T02:09:53.973071Z",
     "start_time": "2020-05-28T02:09:53.969751Z"
    }
   },
   "outputs": [],
   "source": [
    "departamentos = ls[0::5]\n",
    "dep_hoy = ls[1::5]\n",
    "dep_total = ls[2::5]\n",
    "dep_decesos = ls[3::5]\n",
    "dep_recuperadps = ls[4::5]"
   ]
  },
  {
   "cell_type": "code",
   "execution_count": 188,
   "metadata": {
    "ExecuteTime": {
     "end_time": "2020-05-28T02:16:12.069108Z",
     "start_time": "2020-05-28T02:16:12.050944Z"
    }
   },
   "outputs": [
    {
     "data": {
      "text/html": [
       "<div>\n",
       "<style scoped>\n",
       "    .dataframe tbody tr th:only-of-type {\n",
       "        vertical-align: middle;\n",
       "    }\n",
       "\n",
       "    .dataframe tbody tr th {\n",
       "        vertical-align: top;\n",
       "    }\n",
       "\n",
       "    .dataframe thead th {\n",
       "        text-align: right;\n",
       "    }\n",
       "</style>\n",
       "<table border=\"1\" class=\"dataframe\">\n",
       "  <thead>\n",
       "    <tr style=\"text-align: right;\">\n",
       "      <th></th>\n",
       "      <th>dep_hoy</th>\n",
       "      <th>dep_total</th>\n",
       "      <th>dep_recuperadps</th>\n",
       "      <th>dep_decesos</th>\n",
       "    </tr>\n",
       "  </thead>\n",
       "  <tbody>\n",
       "    <tr>\n",
       "      <th>Beni</th>\n",
       "      <td>100</td>\n",
       "      <td>77</td>\n",
       "      <td>1,242</td>\n",
       "      <td>8</td>\n",
       "    </tr>\n",
       "    <tr>\n",
       "      <th>Chuquisaca</th>\n",
       "      <td>0</td>\n",
       "      <td>2</td>\n",
       "      <td>22</td>\n",
       "      <td>11</td>\n",
       "    </tr>\n",
       "    <tr>\n",
       "      <th>Cochabamba</th>\n",
       "      <td>6</td>\n",
       "      <td>18</td>\n",
       "      <td>345</td>\n",
       "      <td>60</td>\n",
       "    </tr>\n",
       "    <tr>\n",
       "      <th>La Paz</th>\n",
       "      <td>7</td>\n",
       "      <td>24</td>\n",
       "      <td>410</td>\n",
       "      <td>219</td>\n",
       "    </tr>\n",
       "    <tr>\n",
       "      <th>Oruro</th>\n",
       "      <td>2</td>\n",
       "      <td>13</td>\n",
       "      <td>153</td>\n",
       "      <td>72</td>\n",
       "    </tr>\n",
       "    <tr>\n",
       "      <th>Pando</th>\n",
       "      <td>0</td>\n",
       "      <td>1</td>\n",
       "      <td>13</td>\n",
       "      <td>7</td>\n",
       "    </tr>\n",
       "    <tr>\n",
       "      <th>Potosí</th>\n",
       "      <td>0</td>\n",
       "      <td>1</td>\n",
       "      <td>44</td>\n",
       "      <td>20</td>\n",
       "    </tr>\n",
       "    <tr>\n",
       "      <th>Santa Cruz</th>\n",
       "      <td>361</td>\n",
       "      <td>135</td>\n",
       "      <td>4,888</td>\n",
       "      <td>273</td>\n",
       "    </tr>\n",
       "    <tr>\n",
       "      <th>Tarija</th>\n",
       "      <td>0</td>\n",
       "      <td>3</td>\n",
       "      <td>19</td>\n",
       "      <td>7</td>\n",
       "    </tr>\n",
       "  </tbody>\n",
       "</table>\n",
       "</div>"
      ],
      "text/plain": [
       "           dep_hoy dep_total dep_recuperadps dep_decesos\n",
       "Beni           100        77           1,242           8\n",
       "Chuquisaca       0         2              22          11\n",
       "Cochabamba       6        18             345          60\n",
       "La Paz           7        24             410         219\n",
       "Oruro            2        13             153          72\n",
       "Pando            0         1              13           7\n",
       "Potosí           0         1              44          20\n",
       "Santa Cruz     361       135           4,888         273\n",
       "Tarija           0         3              19           7"
      ]
     },
     "execution_count": 188,
     "metadata": {},
     "output_type": "execute_result"
    }
   ],
   "source": [
    "df = pd.DataFrame(index=departamentos)\n",
    "df['dep_hoy'] = dep_hoy\n",
    "df['dep_total'] = dep_decesos\n",
    "df['dep_recuperadps'] = dep_total\n",
    "df['dep_decesos'] = dep_recuperadps\n",
    "df"
   ]
  },
  {
   "cell_type": "code",
   "execution_count": 190,
   "metadata": {
    "ExecuteTime": {
     "end_time": "2020-05-28T02:17:43.821527Z",
     "start_time": "2020-05-28T02:17:43.748750Z"
    }
   },
   "outputs": [
    {
     "ename": "TypeError",
     "evalue": "Cannot index by location index with a non-integer key",
     "output_type": "error",
     "traceback": [
      "\u001b[0;31m---------------------------------------------------------------------------\u001b[0m",
      "\u001b[0;31mTypeError\u001b[0m                                 Traceback (most recent call last)",
      "\u001b[0;32m<ipython-input-190-53951446c978>\u001b[0m in \u001b[0;36m<module>\u001b[0;34m\u001b[0m\n\u001b[0;32m----> 1\u001b[0;31m \u001b[0mdf\u001b[0m\u001b[0;34m.\u001b[0m\u001b[0miloc\u001b[0m\u001b[0;34m[\u001b[0m\u001b[0;34m'Beni'\u001b[0m\u001b[0;34m]\u001b[0m\u001b[0;34m\u001b[0m\u001b[0;34m\u001b[0m\u001b[0m\n\u001b[0m",
      "\u001b[0;32m/opt/anaconda3/envs/wa/lib/python3.6/site-packages/pandas/core/indexing.py\u001b[0m in \u001b[0;36m__getitem__\u001b[0;34m(self, key)\u001b[0m\n\u001b[1;32m   1766\u001b[0m \u001b[0;34m\u001b[0m\u001b[0m\n\u001b[1;32m   1767\u001b[0m             \u001b[0mmaybe_callable\u001b[0m \u001b[0;34m=\u001b[0m \u001b[0mcom\u001b[0m\u001b[0;34m.\u001b[0m\u001b[0mapply_if_callable\u001b[0m\u001b[0;34m(\u001b[0m\u001b[0mkey\u001b[0m\u001b[0;34m,\u001b[0m \u001b[0mself\u001b[0m\u001b[0;34m.\u001b[0m\u001b[0mobj\u001b[0m\u001b[0;34m)\u001b[0m\u001b[0;34m\u001b[0m\u001b[0;34m\u001b[0m\u001b[0m\n\u001b[0;32m-> 1768\u001b[0;31m             \u001b[0;32mreturn\u001b[0m \u001b[0mself\u001b[0m\u001b[0;34m.\u001b[0m\u001b[0m_getitem_axis\u001b[0m\u001b[0;34m(\u001b[0m\u001b[0mmaybe_callable\u001b[0m\u001b[0;34m,\u001b[0m \u001b[0maxis\u001b[0m\u001b[0;34m=\u001b[0m\u001b[0maxis\u001b[0m\u001b[0;34m)\u001b[0m\u001b[0;34m\u001b[0m\u001b[0;34m\u001b[0m\u001b[0m\n\u001b[0m\u001b[1;32m   1769\u001b[0m \u001b[0;34m\u001b[0m\u001b[0m\n\u001b[1;32m   1770\u001b[0m     \u001b[0;32mdef\u001b[0m \u001b[0m_is_scalar_access\u001b[0m\u001b[0;34m(\u001b[0m\u001b[0mself\u001b[0m\u001b[0;34m,\u001b[0m \u001b[0mkey\u001b[0m\u001b[0;34m:\u001b[0m \u001b[0mTuple\u001b[0m\u001b[0;34m)\u001b[0m\u001b[0;34m:\u001b[0m\u001b[0;34m\u001b[0m\u001b[0;34m\u001b[0m\u001b[0m\n",
      "\u001b[0;32m/opt/anaconda3/envs/wa/lib/python3.6/site-packages/pandas/core/indexing.py\u001b[0m in \u001b[0;36m_getitem_axis\u001b[0;34m(self, key, axis)\u001b[0m\n\u001b[1;32m   2133\u001b[0m             \u001b[0mkey\u001b[0m \u001b[0;34m=\u001b[0m \u001b[0mitem_from_zerodim\u001b[0m\u001b[0;34m(\u001b[0m\u001b[0mkey\u001b[0m\u001b[0;34m)\u001b[0m\u001b[0;34m\u001b[0m\u001b[0;34m\u001b[0m\u001b[0m\n\u001b[1;32m   2134\u001b[0m             \u001b[0;32mif\u001b[0m \u001b[0;32mnot\u001b[0m \u001b[0mis_integer\u001b[0m\u001b[0;34m(\u001b[0m\u001b[0mkey\u001b[0m\u001b[0;34m)\u001b[0m\u001b[0;34m:\u001b[0m\u001b[0;34m\u001b[0m\u001b[0;34m\u001b[0m\u001b[0m\n\u001b[0;32m-> 2135\u001b[0;31m                 \u001b[0;32mraise\u001b[0m \u001b[0mTypeError\u001b[0m\u001b[0;34m(\u001b[0m\u001b[0;34m\"Cannot index by location index with a non-integer key\"\u001b[0m\u001b[0;34m)\u001b[0m\u001b[0;34m\u001b[0m\u001b[0;34m\u001b[0m\u001b[0m\n\u001b[0m\u001b[1;32m   2136\u001b[0m \u001b[0;34m\u001b[0m\u001b[0m\n\u001b[1;32m   2137\u001b[0m             \u001b[0;31m# validate the location\u001b[0m\u001b[0;34m\u001b[0m\u001b[0;34m\u001b[0m\u001b[0;34m\u001b[0m\u001b[0m\n",
      "\u001b[0;31mTypeError\u001b[0m: Cannot index by location index with a non-integer key"
     ]
    }
   ],
   "source": [
    "df.iloc[]"
   ]
  },
  {
   "cell_type": "code",
   "execution_count": null,
   "metadata": {},
   "outputs": [],
   "source": []
  },
  {
   "cell_type": "code",
   "execution_count": 214,
   "metadata": {
    "ExecuteTime": {
     "end_time": "2020-05-28T02:51:00.920191Z",
     "start_time": "2020-05-28T02:51:00.917691Z"
    }
   },
   "outputs": [],
   "source": [
    "incoming ='la paz'"
   ]
  },
  {
   "cell_type": "code",
   "execution_count": 217,
   "metadata": {
    "ExecuteTime": {
     "end_time": "2020-05-28T02:51:58.513503Z",
     "start_time": "2020-05-28T02:51:58.509281Z"
    }
   },
   "outputs": [
    {
     "data": {
      "text/plain": [
       "['Beni',\n",
       " 'Chuquisaca',\n",
       " 'Cochabamba',\n",
       " 'La Paz',\n",
       " 'Oruro',\n",
       " 'Pando',\n",
       " 'Potosí',\n",
       " 'Santa Cruz',\n",
       " 'Tarija']"
      ]
     },
     "execution_count": 217,
     "metadata": {},
     "output_type": "execute_result"
    }
   ],
   "source": [
    "departamentos"
   ]
  },
  {
   "cell_type": "code",
   "execution_count": 223,
   "metadata": {
    "ExecuteTime": {
     "end_time": "2020-05-28T02:55:38.732873Z",
     "start_time": "2020-05-28T02:55:38.727577Z"
    }
   },
   "outputs": [
    {
     "name": "stdout",
     "output_type": "stream",
     "text": [
      "la_paz\n"
     ]
    }
   ],
   "source": [
    "if any(dep.lower().replace(' ','_') in incoming.lower().replace(' ','_') for dep in departamentos):\n",
    "    print(incoming.lower().replace(' ','_'))"
   ]
  },
  {
   "cell_type": "code",
   "execution_count": null,
   "metadata": {},
   "outputs": [],
   "source": []
  },
  {
   "cell_type": "code",
   "execution_count": null,
   "metadata": {},
   "outputs": [],
   "source": []
  },
  {
   "cell_type": "code",
   "execution_count": null,
   "metadata": {},
   "outputs": [],
   "source": []
  },
  {
   "cell_type": "code",
   "execution_count": null,
   "metadata": {},
   "outputs": [],
   "source": []
  },
  {
   "cell_type": "code",
   "execution_count": 3,
   "metadata": {
    "ExecuteTime": {
     "end_time": "2020-05-28T16:19:46.807425Z",
     "start_time": "2020-05-28T16:19:46.804685Z"
    }
   },
   "outputs": [],
   "source": [
    "from twilio.rest import Client"
   ]
  },
  {
   "cell_type": "code",
   "execution_count": 57,
   "metadata": {
    "ExecuteTime": {
     "end_time": "2020-05-28T18:09:42.071006Z",
     "start_time": "2020-05-28T18:09:41.226006Z"
    }
   },
   "outputs": [
    {
     "name": "stdout",
     "output_type": "stream",
     "text": [
      "SM0a7d2f7573ad43a485224165e64a7553\n"
     ]
    }
   ],
   "source": [
    "account_sid = 'AC667fbac37254b78ca7b095a9c0f3276a'\n",
    "auth_token = '20008dd197eaee728fdcfca628a428dc'\n",
    "client = Client(account_sid, auth_token)\n",
    "\n",
    "message = client.messages.create(\n",
    "                              body='testing.com--> result a hyperlink on whatsapp testing. com--> result as text',\n",
    "                              from_='whatsapp:+14155238886',\n",
    "                              to='whatsapp:+34695686937'\n",
    "                          )\n",
    "\n",
    "print(message.sid)"
   ]
  },
  {
   "cell_type": "code",
   "execution_count": 22,
   "metadata": {
    "ExecuteTime": {
     "end_time": "2020-05-28T16:43:55.440378Z",
     "start_time": "2020-05-28T16:43:54.866354Z"
    }
   },
   "outputs": [],
   "source": [
    "r = requests.get('https://www.instagram.com/p/CAtzWM6JK9r/')"
   ]
  },
  {
   "cell_type": "code",
   "execution_count": 28,
   "metadata": {
    "ExecuteTime": {
     "end_time": "2020-05-28T16:45:04.099566Z",
     "start_time": "2020-05-28T16:45:04.084098Z"
    }
   },
   "outputs": [
    {
     "data": {
      "text/plain": [
       "'<!DOCTYPE html>\\n<html lang=\"en\" class=\"no-js not-logged-in client-root\">\\n    <head>\\n        <meta charset=\"utf-8\">\\n        <meta http-equiv=\"X-UA-Compatible\" content=\"IE=edge\">\\n\\n        <title>\\nCOVID Bolivia on Instagram: “⚠️NUEVOS DATOS⚠️\\n.\\nMIÉRCOLES 27 DE MAYO\\n.\\n.\\n#covidbolivia #covid19 #datos #donabolivia #bolivia”\\n</title>\\n\\n        \\n        <meta name=\"robots\" content=\"noimageindex, noarchive\">\\n        <meta name=\"apple-mobile-web-app-status-bar-style\" content=\"default\">\\n        <meta name=\"mobile-web-app-capable\" content=\"yes\">\\n        <meta name=\"theme-color\" content=\"#ffffff\">\\n        <meta id=\"viewport\" name=\"viewport\" content=\"width=device-width, initial-scale=1, minimum-scale=1, maximum-scale=1, viewport-fit=cover\">\\n        <link rel=\"manifest\" href=\"/data/manifest.json\">\\n\\n        <link rel=\"preload\" href=\"/static/bundles/metro/ConsumerUICommons.css/0d73027e4285.css\" as=\"style\" type=\"text/css\" crossorigin=\"anonymous\" />\\n<link rel=\"preload\" href=\"/static/bundles/metro/ConsumerAsyncCommons.css/638f1bd337c8.css\" as=\"style\" type=\"text/css\" crossorigin=\"anonymous\" />\\n<link rel=\"preload\" href=\"/static/bundles/metro/Consumer.css/3e0c88f3bf5f.css\" as=\"style\" type=\"text/css\" crossorigin=\"anonymous\" />\\n<link rel=\"preload\" href=\"/static/bundles/metro/PostPageContainer.css/293183b85aba.css\" as=\"style\" type=\"text/css\" crossorigin=\"anonymous\" />\\n<link rel=\"preload\" href=\"/static/bundles/metro/Vendor.js/5a56d51ae30f.js\" as=\"script\" type=\"text/javascript\" crossorigin=\"anonymous\" />\\n<link rel=\"preload\" href=\"/static/bundles/metro/en_US.js/8e3da7b52644.js\" as=\"script\" type=\"text/javascript\" crossorigin=\"anonymous\" />\\n<link rel=\"preload\" href=\"/static/bundles/metro/ConsumerLibCommons.js/05410ad63474.js\" as=\"script\" type=\"text/javascript\" crossorigin=\"anonymous\" />\\n<link rel=\"preload\" href=\"/static/bundles/metro/ConsumerUICommons.js/43a9329f0abc.js\" as=\"script\" type=\"text/javascript\" crossorigin=\"anonymous\" />\\n<link rel=\"preload\" href=\"/static/bundles/metro/ConsumerAsyncCommons.js/e4644ebe45be.js\" as=\"script\" type=\"text/javascript\" crossorigin=\"anonymous\" />\\n<link rel=\"preload\" href=\"/static/bundles/metro/Consumer.js/bf98dbd2ada8.js\" as=\"script\" type=\"text/javascript\" crossorigin=\"anonymous\" />\\n<link rel=\"preload\" href=\"/static/bundles/metro/PostPageContainer.js/0632a0c45754.js\" as=\"script\" type=\"text/javascript\" crossorigin=\"anonymous\" />\\n        \\n        \\n\\n        <script type=\"text/javascript\">\\n        (function() {\\n  var docElement = document.documentElement;\\n  var classRE = new RegExp(\\'(^|\\\\\\\\s)no-js(\\\\\\\\s|$)\\');\\n  var className = docElement.className;\\n  docElement.className = className.replace(classRE, \\'$1js$2\\');\\n})();\\n</script>\\n        <script type=\"text/javascript\">\\n(function() {\\n  if (\\'PerformanceObserver\\' in window && \\'PerformancePaintTiming\\' in window) {\\n    window.__bufferedPerformance = [];\\n    var ob = new PerformanceObserver(function(e) {\\n      window.__bufferedPerformance.push.apply(window.__bufferedPerformance,e.getEntries());\\n    });\\n    ob.observe({entryTypes:[\\'paint\\']});\\n  }\\n\\n  window.__bufferedErrors = [];\\n  window.onerror = function(message, url, line, column, error) {\\n    window.__bufferedErrors.push({\\n      message: message,\\n      url: url,\\n      line: line,\\n      column: column,\\n      error: error\\n    });\\n    return false;\\n  };\\n  window.__initialData = {\\n    pending: true,\\n    waiting: []\\n  };\\n  function asyncFetchSharedData(extra) {\\n    var sharedDataReq = new XMLHttpRequest();\\n    sharedDataReq.onreadystatechange = function() {\\n          if (sharedDataReq.readyState === 4) {\\n            if(sharedDataReq.status === 200){\\n              var sharedData = JSON.parse(sharedDataReq.responseText);\\n              window.__initialDataLoaded(sharedData, extra);\\n            }\\n          }\\n        }\\n    sharedDataReq.open(\\'GET\\', \\'/data/shared_data/\\', true);\\n    sharedDataReq.send(null);\\n  }\\n  function notifyLoaded(item, data) {\\n    item.pending = false;\\n    item.data = data;\\n    for (var i = 0;i < item.waiting.length; ++i) {\\n      item.waiting[i].resolve(item.data);\\n    }\\n    item.waiting = [];\\n  }\\n  function notifyError(item, msg) {\\n    item.pending = false;\\n    item.error = new Error(msg);\\n    for (var i = 0;i < item.waiting.length; ++i) {\\n      item.waiting[i].reject(item.error);\\n    }\\n    item.waiting = [];\\n  }\\n  window.__initialDataLoaded = function(initialData, extraData) {\\n    if (extraData) {\\n      for (var key in extraData) {\\n        initialData[key] = extraData[key];\\n      }\\n    }\\n    notifyLoaded(window.__initialData, initialData);\\n  };\\n  window.__initialDataError = function(msg) {\\n    notifyError(window.__initialData, msg);\\n  };\\n  window.__additionalData = {};\\n  window.__pendingAdditionalData = function(paths) {\\n    for (var i = 0;i < paths.length; ++i) {\\n      window.__additionalData[paths[i]] = {\\n        pending: true,\\n        waiting: []\\n      };\\n    }\\n  };\\n  window.__additionalDataLoaded = function(path, data) {\\n    if (path in window.__additionalData) {\\n      notifyLoaded(window.__additionalData[path], data);\\n    } else {\\n      console.error(\\'Unexpected additional data loaded \"\\' + path + \\'\"\\');\\n    }\\n  };\\n  window.__additionalDataError = function(path, msg) {\\n    if (path in window.__additionalData) {\\n      notifyError(window.__additionalData[path], msg);\\n    } else {\\n      console.error(\\'Unexpected additional data encountered an error \"\\' + path + \\'\": \\' + msg);\\n    }\\n  };\\n  \\n})();\\n</script><script type=\"text/javascript\">\\n\\n/*\\n Copyright 2018 Google Inc. All Rights Reserved.\\n Licensed under the Apache License, Version 2.0 (the \"License\");\\n you may not use this file except in compliance with the License.\\n You may obtain a copy of the License at\\n\\n     http://www.apache.org/licenses/LICENSE-2.0\\n\\n Unless required by applicable law or agreed to in writing, software\\n distributed under the License is distributed on an \"AS IS\" BASIS,\\n WITHOUT WARRANTIES OR CONDITIONS OF ANY KIND, either express or implied.\\n See the License for the specific language governing permissions and\\n limitations under the License.\\n*/\\n\\n(function(){function g(a,c){b||(b=a,f=c,h.forEach(function(a){removeEventListener(a,l,e)}),m())}function m(){b&&f&&0<d.length&&(d.forEach(function(a){a(b,f)}),d=[])}function n(a,c){function k(){g(a,c);d()}function b(){d()}function d(){removeEventListener(\"pointerup\",k,e);removeEventListener(\"pointercancel\",b,e)}addEventListener(\"pointerup\",k,e);addEventListener(\"pointercancel\",b,e)}function l(a){if(a.cancelable){var c=performance.now(),b=a.timeStamp;b>c&&(c=+new Date);c-=b;\"pointerdown\"==a.type?n(c,\\na):g(c,a)}}var e={passive:!0,capture:!0},h=[\"click\",\"mousedown\",\"keydown\",\"touchstart\",\"pointerdown\"],b,f,d=[];h.forEach(function(a){addEventListener(a,l,e)});window.perfMetrics=window.perfMetrics||{};window.perfMetrics.onFirstInputDelay=function(a){d.push(a);m()}})();\\n</script>\\n    \\n                <link rel=\"apple-touch-icon-precomposed\" sizes=\"76x76\" href=\"/static/images/ico/apple-touch-icon-76x76-precomposed.png/666282be8229.png\">\\n                <link rel=\"apple-touch-icon-precomposed\" sizes=\"120x120\" href=\"/static/images/ico/apple-touch-icon-120x120-precomposed.png/8a5bd3f267b1.png\">\\n                <link rel=\"apple-touch-icon-precomposed\" sizes=\"152x152\" href=\"/static/images/ico/apple-touch-icon-152x152-precomposed.png/68193576ffc5.png\">\\n                <link rel=\"apple-touch-icon-precomposed\" sizes=\"167x167\" href=\"/static/images/ico/apple-touch-icon-167x167-precomposed.png/4985e31c9100.png\">\\n                <link rel=\"apple-touch-icon-precomposed\" sizes=\"180x180\" href=\"/static/images/ico/apple-touch-icon-180x180-precomposed.png/c06fdb2357bd.png\">\\n                \\n                    <link rel=\"icon\" sizes=\"192x192\" href=\"/static/images/ico/favicon-192.png/68d99ba29cc8.png\">\\n                \\n            \\n            \\n                    <link rel=\"mask-icon\" href=\"/static/images/ico/favicon.svg/fc72dd4bfde8.svg\" color=\"#262626\">\\n                  \\n                  <link rel=\"shortcut icon\" type=\"image/x-icon\" href=\"/static/images/ico/favicon.ico/36b3ee2d91ed.ico\">\\n                \\n            \\n            \\n            \\n    \\n    <link rel=\"canonical\" href=\"https://www.instagram.com/p/CAtzWM6JK9r/\" />\\n    <meta content=\"43 Likes, 0 Comments - COVID Bolivia (@covid_bolivia) on Instagram: “⚠️NUEVOS DATOS⚠️&#10;.&#10;MIÉRCOLES 27 DE MAYO&#10;.&#10;.&#10;#covidbolivia #covid19 #datos #donabolivia #bolivia”\" name=\"description\" />\\n    <meta property=\"og:site_name\" content=\"Instagram\" />\\n    <meta property=\"og:title\" content=\"COVID Bolivia on Instagram: “⚠️NUEVOS DATOS⚠️\\n.\\nMIÉRCOLES 27 DE MAYO\\n.\\n.\\n#covidbolivia #covid19 #datos #donabolivia #bolivia”\" />\\n    <meta property=\"og:image\" content=\"https://instagram.flpb2-2.fna.fbcdn.net/v/t51.2885-15/e35/101095290_720365315379220_6480925661623412122_n.jpg?_nc_ht=instagram.flpb2-2.fna.fbcdn.net&_nc_cat=104&_nc_ohc=K9qX3EXsr-QAX_wKNIk&oh=acf365847fe4ae7b5cb9fc07a28eacef&oe=5EF85E16\" />\\n    <meta property=\"og:description\" content=\"43 Likes, 0 Comments - COVID Bolivia (@covid_bolivia) on Instagram: “⚠️NUEVOS DATOS⚠️\\n.\\nMIÉRCOLES 27 DE MAYO\\n.\\n.\\n#covidbolivia #covid19 #datos #donabolivia #bolivia”\" />\\n    <meta property=\"fb:app_id\" content=\"124024574287414\" />\\n    <meta property=\"og:url\" content=\"https://www.instagram.com/p/CAtzWM6JK9r/\" />\\n    <meta property=\"instapp:owner_user_id\" content=\"32885252578\" />\\n    \\n    <meta property=\"al:ios:app_name\" content=\"Instagram\" />\\n    <meta property=\"al:ios:app_store_id\" content=\"389801252\" />\\n    <meta property=\"al:ios:url\" content=\"instagram://media?id=2318735209226612587\" />\\n    <meta property=\"al:android:app_name\" content=\"Instagram\" />\\n    <meta property=\"al:android:package\" content=\"com.instagram.android\" />\\n    <meta property=\"al:android:url\" content=\"https://www.instagram.com/p/CAtzWM6JK9r/\" />\\n    \\n    \\n    <meta name=\"medium\" content=\"image\" />\\n    <meta property=\"og:type\" content=\"instapp:photo\" />\\n    <meta property=\"instapp:hashtags\" content=\"datos\" /><meta property=\"instapp:hashtags\" content=\"donabolivia\" /><meta property=\"instapp:hashtags\" content=\"bolivia\" /><meta property=\"instapp:hashtags\" content=\"covidbolivia\" /><meta property=\"instapp:hashtags\" content=\"covid19\" />\\n\\n    <link rel=\"alternate\" href=\"android-app://com.instagram.android/https/instagram.com/p/CAtzWM6JK9r/\" />\\n    \\n            <script type=\"application/ld+json\">\\n                {\"@context\":\"http:\\\\/\\\\/schema.org\",\"@type\":\"ImageObject\",\"caption\":\"\\\\u26a0\\\\ufe0fNUEVOS DATOS\\\\u26a0\\\\ufe0f\\\\n.\\\\nMI\\\\u00c9RCOLES 27 DE MAYO\\\\n.\\\\n.\\\\n#covidbolivia #covid19 #datos #donabolivia #bolivia\",\"representativeOfPage\":\"http:\\\\/\\\\/schema.org\\\\/True\",\"uploadDate\":\"2020-05-28T02:59:58\",\"author\":{\"@type\":\"Person\",\"alternateName\":\"@covid_bolivia\",\"mainEntityofPage\":{\"@type\":\"ProfilePage\",\"@id\":\"https:\\\\/\\\\/www.instagram.com\\\\/covid_bolivia\\\\/\"}},\"commentCount\":\"0\",\"contentLocation\":{\"@type\":\"Place\",\"name\":\"Bolivia\",\"mainEntityofPage\":{\"@type\":\"CollectionPage\",\"@id\":\"https:\\\\/\\\\/www.instagram.com\\\\/explore\\\\/locations\\\\/567071078\\\\/bolivia\\\\/\"},\"address\":{\"@type\":\"PostalAddress\",\"addressCountry\":{\"@type\":\"Country\",\"name\":\"BO\"}}},\"interactionStatistic\":{\"@type\":\"InteractionCounter\",\"interactionType\":{\"@type\":\"LikeAction\"},\"userInteractionCount\":\"43\"},\"mainEntityofPage\":{\"@type\":\"ItemPage\",\"@id\":\"https:\\\\/\\\\/www.instagram.com\\\\/p\\\\/CAtzWM6JK9r\\\\/\"},\"description\":\"43 Likes, 0 Comments - COVID Bolivia (@covid_bolivia) on Instagram: \\\\u201c\\\\u26a0\\\\ufe0fNUEVOS DATOS\\\\u26a0\\\\ufe0f\\\\n.\\\\nMI\\\\u00c9RCOLES 27 DE MAYO\\\\n.\\\\n.\\\\n#covidbolivia #covid19 #datos #donabolivia #bolivia\\\\u201d\",\"name\":\"COVID Bolivia on Instagram: \\\\u201c\\\\u26a0\\\\ufe0fNUEVOS DATOS\\\\u26a0\\\\ufe0f\\\\n.\\\\nMI\\\\u00c9RCOLES 27 DE MAYO\\\\n.\\\\n.\\\\n#covidbolivia #covid19 #datos #donabolivia #bolivia\\\\u201d\"}\\n            </script>\\n        \\n    \\n    <link rel=\"alternate\" href=\"https://www.instagram.com/p/CAtzWM6JK9r/\" hreflang=\"x-default\" />\\n<link rel=\"alternate\" href=\"https://www.instagram.com/p/CAtzWM6JK9r/?hl=en\" hreflang=\"en\" />\\n<link rel=\"alternate\" href=\"https://www.instagram.com/p/CAtzWM6JK9r/?hl=fr\" hreflang=\"fr\" />\\n<link rel=\"alternate\" href=\"https://www.instagram.com/p/CAtzWM6JK9r/?hl=it\" hreflang=\"it\" />\\n<link rel=\"alternate\" href=\"https://www.instagram.com/p/CAtzWM6JK9r/?hl=de\" hreflang=\"de\" />\\n<link rel=\"alternate\" href=\"https://www.instagram.com/p/CAtzWM6JK9r/?hl=es\" hreflang=\"es\" />\\n<link rel=\"alternate\" href=\"https://www.instagram.com/p/CAtzWM6JK9r/?hl=zh-cn\" hreflang=\"zh-cn\" />\\n<link rel=\"alternate\" href=\"https://www.instagram.com/p/CAtzWM6JK9r/?hl=zh-tw\" hreflang=\"zh-tw\" />\\n<link rel=\"alternate\" href=\"https://www.instagram.com/p/CAtzWM6JK9r/?hl=ja\" hreflang=\"ja\" />\\n<link rel=\"alternate\" href=\"https://www.instagram.com/p/CAtzWM6JK9r/?hl=ko\" hreflang=\"ko\" />\\n<link rel=\"alternate\" href=\"https://www.instagram.com/p/CAtzWM6JK9r/?hl=pt\" hreflang=\"pt\" />\\n<link rel=\"alternate\" href=\"https://www.instagram.com/p/CAtzWM6JK9r/?hl=pt-br\" hreflang=\"pt-br\" />\\n<link rel=\"alternate\" href=\"https://www.instagram.com/p/CAtzWM6JK9r/?hl=af\" hreflang=\"af\" />\\n<link rel=\"alternate\" href=\"https://www.instagram.com/p/CAtzWM6JK9r/?hl=cs\" hreflang=\"cs\" />\\n<link rel=\"alternate\" href=\"https://www.instagram.com/p/CAtzWM6JK9r/?hl=da\" hreflang=\"da\" />\\n<link rel=\"alternate\" href=\"https://www.instagram.com/p/CAtzWM6JK9r/?hl=el\" hreflang=\"el\" />\\n<link rel=\"alternate\" href=\"https://www.instagram.com/p/CAtzWM6JK9r/?hl=fi\" hreflang=\"fi\" />\\n<link rel=\"alternate\" href=\"https://www.instagram.com/p/CAtzWM6JK9r/?hl=hr\" hreflang=\"hr\" />\\n<link rel=\"alternate\" href=\"https://www.instagram.com/p/CAtzWM6JK9r/?hl=hu\" hreflang=\"hu\" />\\n<link rel=\"alternate\" href=\"https://www.instagram.com/p/CAtzWM6JK9r/?hl=id\" hreflang=\"id\" />\\n<link rel=\"alternate\" href=\"https://www.instagram.com/p/CAtzWM6JK9r/?hl=ms\" hreflang=\"ms\" />\\n<link rel=\"alternate\" href=\"https://www.instagram.com/p/CAtzWM6JK9r/?hl=nb\" hreflang=\"nb\" />\\n<link rel=\"alternate\" href=\"https://www.instagram.com/p/CAtzWM6JK9r/?hl=nl\" hreflang=\"nl\" />\\n<link rel=\"alternate\" href=\"https://www.instagram.com/p/CAtzWM6JK9r/?hl=pl\" hreflang=\"pl\" />\\n<link rel=\"alternate\" href=\"https://www.instagram.com/p/CAtzWM6JK9r/?hl=ru\" hreflang=\"ru\" />\\n<link rel=\"alternate\" href=\"https://www.instagram.com/p/CAtzWM6JK9r/?hl=sk\" hreflang=\"sk\" />\\n<link rel=\"alternate\" href=\"https://www.instagram.com/p/CAtzWM6JK9r/?hl=sv\" hreflang=\"sv\" />\\n<link rel=\"alternate\" href=\"https://www.instagram.com/p/CAtzWM6JK9r/?hl=th\" hreflang=\"th\" />\\n<link rel=\"alternate\" href=\"https://www.instagram.com/p/CAtzWM6JK9r/?hl=tl\" hreflang=\"tl\" />\\n<link rel=\"alternate\" href=\"https://www.instagram.com/p/CAtzWM6JK9r/?hl=tr\" hreflang=\"tr\" />\\n<link rel=\"alternate\" href=\"https://www.instagram.com/p/CAtzWM6JK9r/?hl=hi\" hreflang=\"hi\" />\\n<link rel=\"alternate\" href=\"https://www.instagram.com/p/CAtzWM6JK9r/?hl=bn\" hreflang=\"bn\" />\\n<link rel=\"alternate\" href=\"https://www.instagram.com/p/CAtzWM6JK9r/?hl=gu\" hreflang=\"gu\" />\\n<link rel=\"alternate\" href=\"https://www.instagram.com/p/CAtzWM6JK9r/?hl=kn\" hreflang=\"kn\" />\\n<link rel=\"alternate\" href=\"https://www.instagram.com/p/CAtzWM6JK9r/?hl=ml\" hreflang=\"ml\" />\\n<link rel=\"alternate\" href=\"https://www.instagram.com/p/CAtzWM6JK9r/?hl=mr\" hreflang=\"mr\" />\\n<link rel=\"alternate\" href=\"https://www.instagram.com/p/CAtzWM6JK9r/?hl=pa\" hreflang=\"pa\" />\\n<link rel=\"alternate\" href=\"https://www.instagram.com/p/CAtzWM6JK9r/?hl=ta\" hreflang=\"ta\" />\\n<link rel=\"alternate\" href=\"https://www.instagram.com/p/CAtzWM6JK9r/?hl=te\" hreflang=\"te\" />\\n<link rel=\"alternate\" href=\"https://www.instagram.com/p/CAtzWM6JK9r/?hl=ne\" hreflang=\"ne\" />\\n<link rel=\"alternate\" href=\"https://www.instagram.com/p/CAtzWM6JK9r/?hl=si\" hreflang=\"si\" />\\n<link rel=\"alternate\" href=\"https://www.instagram.com/p/CAtzWM6JK9r/?hl=ur\" hreflang=\"ur\" />\\n<link rel=\"alternate\" href=\"https://www.instagram.com/p/CAtzWM6JK9r/?hl=vi\" hreflang=\"vi\" />\\n<link rel=\"alternate\" href=\"https://www.instagram.com/p/CAtzWM6JK9r/?hl=bg\" hreflang=\"bg\" />\\n<link rel=\"alternate\" href=\"https://www.instagram.com/p/CAtzWM6JK9r/?hl=fr-ca\" hreflang=\"fr-ca\" />\\n<link rel=\"alternate\" href=\"https://www.instagram.com/p/CAtzWM6JK9r/?hl=ro\" hreflang=\"ro\" />\\n<link rel=\"alternate\" href=\"https://www.instagram.com/p/CAtzWM6JK9r/?hl=sr\" hreflang=\"sr\" />\\n<link rel=\"alternate\" href=\"https://www.instagram.com/p/CAtzWM6JK9r/?hl=uk\" hreflang=\"uk\" />\\n<link rel=\"alternate\" href=\"https://www.instagram.com/p/CAtzWM6JK9r/?hl=zh-hk\" hreflang=\"zh-hk\" />\\n<link rel=\"alternate\" href=\"https://www.instagram.com/p/CAtzWM6JK9r/?hl=es-la\" hreflang=\"es-ar\" />\\n<link rel=\"alternate\" href=\"https://www.instagram.com/p/CAtzWM6JK9r/?hl=es-la\" hreflang=\"es-co\" />\\n<link rel=\"alternate\" href=\"https://www.instagram.com/p/CAtzWM6JK9r/?hl=es-la\" hreflang=\"es-pe\" />\\n<link rel=\"alternate\" href=\"https://www.instagram.com/p/CAtzWM6JK9r/?hl=es-la\" hreflang=\"es-cl\" />\\n<link rel=\"alternate\" href=\"https://www.instagram.com/p/CAtzWM6JK9r/?hl=es-la\" hreflang=\"es-pa\" />\\n<link rel=\"alternate\" href=\"https://www.instagram.com/p/CAtzWM6JK9r/?hl=es-la\" hreflang=\"es-mx\" />\\n<link rel=\"alternate\" href=\"https://www.instagram.com/p/CAtzWM6JK9r/?hl=es-la\" hreflang=\"es-cr\" />\\n<link rel=\"alternate\" href=\"https://www.instagram.com/p/CAtzWM6JK9r/?hl=es-la\" hreflang=\"es-py\" />\\n<link rel=\"alternate\" href=\"https://www.instagram.com/p/CAtzWM6JK9r/?hl=es-la\" hreflang=\"es-hn\" />\\n<link rel=\"alternate\" href=\"https://www.instagram.com/p/CAtzWM6JK9r/?hl=es-la\" hreflang=\"es-sv\" />\\n<link rel=\"alternate\" href=\"https://www.instagram.com/p/CAtzWM6JK9r/?hl=es-la\" hreflang=\"es-cu\" />\\n<link rel=\"alternate\" href=\"https://www.instagram.com/p/CAtzWM6JK9r/?hl=es-la\" hreflang=\"es-bo\" />\\n<link rel=\"alternate\" href=\"https://www.instagram.com/p/CAtzWM6JK9r/?hl=es-la\" hreflang=\"es-gt\" />\\n<link rel=\"alternate\" href=\"https://www.instagram.com/p/CAtzWM6JK9r/?hl=es-la\" hreflang=\"es-uy\" />\\n<link rel=\"alternate\" href=\"https://www.instagram.com/p/CAtzWM6JK9r/?hl=es-la\" hreflang=\"es-ve\" />\\n<link rel=\"alternate\" href=\"https://www.instagram.com/p/CAtzWM6JK9r/?hl=es-la\" hreflang=\"es-ni\" />\\n<link rel=\"alternate\" href=\"https://www.instagram.com/p/CAtzWM6JK9r/?hl=es-la\" hreflang=\"es-ec\" />\\n<link rel=\"alternate\" href=\"https://www.instagram.com/p/CAtzWM6JK9r/?hl=es-la\" hreflang=\"es-pr\" />\\n<link rel=\"alternate\" href=\"https://www.instagram.com/p/CAtzWM6JK9r/?hl=es-la\" hreflang=\"es-do\" />\\n</head>\\n    <body class=\"\" style=\"\\n    background: white;\\n\">\\n        \\n    <div id=\"react-root\">\\n      \\n        <span><svg width=\"50\" height=\"50\" viewBox=\"0 0 50 50\" style=\"position:absolute;top:50%;left:50%;margin:-25px 0 0 -25px;fill:#c7c7c7\"><path d=\"M25 1c-6.52 0-7.34.03-9.9.14-2.55.12-4.3.53-5.82 1.12a11.76 11.76 0 0 0-4.25 2.77 11.76 11.76 0 0 0-2.77 4.25c-.6 1.52-1 3.27-1.12 5.82C1.03 17.66 1 18.48 1 25c0 6.5.03 7.33.14 9.88.12 2.56.53 4.3 1.12 5.83a11.76 11.76 0 0 0 2.77 4.25 11.76 11.76 0 0 0 4.25 2.77c1.52.59 3.27 1 5.82 1.11 2.56.12 3.38.14 9.9.14 6.5 0 7.33-.02 9.88-.14 2.56-.12 4.3-.52 5.83-1.11a11.76 11.76 0 0 0 4.25-2.77 11.76 11.76 0 0 0 2.77-4.25c.59-1.53 1-3.27 1.11-5.83.12-2.55.14-3.37.14-9.89 0-6.51-.02-7.33-.14-9.89-.12-2.55-.52-4.3-1.11-5.82a11.76 11.76 0 0 0-2.77-4.25 11.76 11.76 0 0 0-4.25-2.77c-1.53-.6-3.27-1-5.83-1.12A170.2 170.2 0 0 0 25 1zm0 4.32c6.4 0 7.16.03 9.69.14 2.34.11 3.6.5 4.45.83 1.12.43 1.92.95 2.76 1.8a7.43 7.43 0 0 1 1.8 2.75c.32.85.72 2.12.82 4.46.12 2.53.14 3.29.14 9.7 0 6.4-.02 7.16-.14 9.69-.1 2.34-.5 3.6-.82 4.45a7.43 7.43 0 0 1-1.8 2.76 7.43 7.43 0 0 1-2.76 1.8c-.84.32-2.11.72-4.45.82-2.53.12-3.3.14-9.7.14-6.4 0-7.16-.02-9.7-.14-2.33-.1-3.6-.5-4.45-.82a7.43 7.43 0 0 1-2.76-1.8 7.43 7.43 0 0 1-1.8-2.76c-.32-.84-.71-2.11-.82-4.45a166.5 166.5 0 0 1-.14-9.7c0-6.4.03-7.16.14-9.7.11-2.33.5-3.6.83-4.45a7.43 7.43 0 0 1 1.8-2.76 7.43 7.43 0 0 1 2.75-1.8c.85-.32 2.12-.71 4.46-.82 2.53-.11 3.29-.14 9.7-.14zm0 7.35a12.32 12.32 0 1 0 0 24.64 12.32 12.32 0 0 0 0-24.64zM25 33a8 8 0 1 1 0-16 8 8 0 0 1 0 16zm15.68-20.8a2.88 2.88 0 1 0-5.76 0 2.88 2.88 0 0 0 5.76 0z\"/></svg></span>\\n      \\n    </div>\\n\\n        \\n\\n\\n        \\n            <link rel=\"stylesheet\" href=\"/static/bundles/metro/ConsumerUICommons.css/0d73027e4285.css\" type=\"text/css\" crossorigin=\"anonymous\" />\\n<link rel=\"stylesheet\" href=\"/static/bundles/metro/ConsumerAsyncCommons.css/638f1bd337c8.css\" type=\"text/css\" crossorigin=\"anonymous\" />\\n<link rel=\"stylesheet\" href=\"/static/bundles/metro/Consumer.css/3e0c88f3bf5f.css\" type=\"text/css\" crossorigin=\"anonymous\" />\\n<script type=\"text/javascript\">window._sharedData = {\"config\":{\"csrf_token\":\"IiTq8UNNlBtwnTikmFXTcdXP6a9dUUh8\",\"viewer\":null,\"viewerId\":null},\"country_code\":\"BO\",\"language_code\":\"en\",\"locale\":\"en_US\",\"entry_data\":{\"PostPage\":[{\"graphql\":{\"shortcode_media\":{\"__typename\":\"GraphSidecar\",\"id\":\"2318735209226612587\",\"shortcode\":\"CAtzWM6JK9r\",\"dimensions\":{\"height\":1080,\"width\":1080},\"gating_info\":null,\"fact_check_overall_rating\":null,\"fact_check_information\":null,\"sensitivity_friction_info\":null,\"media_overlay_info\":null,\"media_preview\":null,\"display_url\":\"https://instagram.flpb2-2.fna.fbcdn.net/v/t51.2885-15/e35/101095290_720365315379220_6480925661623412122_n.jpg?_nc_ht=instagram.flpb2-2.fna.fbcdn.net\\\\u0026_nc_cat=104\\\\u0026_nc_ohc=K9qX3EXsr-QAX_wKNIk\\\\u0026oh=acf365847fe4ae7b5cb9fc07a28eacef\\\\u0026oe=5EF85E16\",\"display_resources\":[{\"src\":\"https://instagram.flpb2-2.fna.fbcdn.net/v/t51.2885-15/sh0.08/e35/s640x640/101095290_720365315379220_6480925661623412122_n.jpg?_nc_ht=instagram.flpb2-2.fna.fbcdn.net\\\\u0026_nc_cat=104\\\\u0026_nc_ohc=K9qX3EXsr-QAX_wKNIk\\\\u0026oh=dbdc346b6ef8d8c463ce2df639f42592\\\\u0026oe=5EF9C130\",\"config_width\":640,\"config_height\":640},{\"src\":\"https://instagram.flpb2-2.fna.fbcdn.net/v/t51.2885-15/sh0.08/e35/s750x750/101095290_720365315379220_6480925661623412122_n.jpg?_nc_ht=instagram.flpb2-2.fna.fbcdn.net\\\\u0026_nc_cat=104\\\\u0026_nc_ohc=K9qX3EXsr-QAX_wKNIk\\\\u0026oh=e534b9b6ceb14d9ad825531bdc92bcfa\\\\u0026oe=5EF8986C\",\"config_width\":750,\"config_height\":750},{\"src\":\"https://instagram.flpb2-2.fna.fbcdn.net/v/t51.2885-15/e35/101095290_720365315379220_6480925661623412122_n.jpg?_nc_ht=instagram.flpb2-2.fna.fbcdn.net\\\\u0026_nc_cat=104\\\\u0026_nc_ohc=K9qX3EXsr-QAX_wKNIk\\\\u0026oh=acf365847fe4ae7b5cb9fc07a28eacef\\\\u0026oe=5EF85E16\",\"config_width\":1080,\"config_height\":1080}],\"is_video\":false,\"tracking_token\":\"eyJ2ZXJzaW9uIjo1LCJwYXlsb2FkIjp7ImlzX2FuYWx5dGljc190cmFja2VkIjp0cnVlLCJ1dWlkIjoiOWRmNzY2MjUxMzA0NDA2Nzk2MmIyZTQzZTAyOTgzODgyMzE4NzM1MjA5MjI2NjEyNTg3In0sInNpZ25hdHVyZSI6IiJ9\",\"edge_media_to_tagged_user\":{\"edges\":[]},\"edge_media_to_caption\":{\"edges\":[{\"node\":{\"text\":\"\\\\u26a0\\\\ufe0fNUEVOS DATOS\\\\u26a0\\\\ufe0f\\\\n.\\\\nMI\\\\u00c9RCOLES 27 DE MAYO\\\\n.\\\\n.\\\\n#covidbolivia #covid19 #datos #donabolivia #bolivia\"}}]},\"caption_is_edited\":false,\"has_ranked_comments\":false,\"edge_media_to_parent_comment\":{\"count\":0,\"page_info\":{\"has_next_page\":false,\"end_cursor\":null},\"edges\":[]},\"edge_media_to_hoisted_comment\":{\"edges\":[]},\"edge_media_preview_comment\":{\"count\":0,\"edges\":[]},\"comments_disabled\":false,\"commenting_disabled_for_viewer\":false,\"taken_at_timestamp\":1590634798,\"edge_media_preview_like\":{\"count\":43,\"edges\":[]},\"edge_media_to_sponsor_user\":{\"edges\":[]},\"location\":{\"id\":\"567071078\",\"has_public_page\":true,\"name\":\"Bolivia\",\"slug\":\"bolivia\",\"address_json\":\"{\\\\\"street_address\\\\\": \\\\\"\\\\\", \\\\\"zip_code\\\\\": \\\\\"\\\\\", \\\\\"city_name\\\\\": \\\\\"\\\\\", \\\\\"region_name\\\\\": \\\\\"\\\\\", \\\\\"country_code\\\\\": \\\\\"BO\\\\\", \\\\\"exact_city_match\\\\\": false, \\\\\"exact_region_match\\\\\": false, \\\\\"exact_country_match\\\\\": true}\"},\"viewer_has_liked\":false,\"viewer_has_saved\":false,\"viewer_has_saved_to_collection\":false,\"viewer_in_photo_of_you\":false,\"viewer_can_reshare\":true,\"owner\":{\"id\":\"32885252578\",\"is_verified\":false,\"profile_pic_url\":\"https://instagram.flpb2-1.fna.fbcdn.net/v/t51.2885-19/s150x150/91544340_501877177364348_9099976449619656704_n.jpg?_nc_ht=instagram.flpb2-1.fna.fbcdn.net\\\\u0026_nc_ohc=nO4--0hCBn8AX8AE4Z7\\\\u0026oh=18c1ffca14dafdfc27165187206d2bb1\\\\u0026oe=5EF7BE33\",\"username\":\"covid_bolivia\",\"blocked_by_viewer\":false,\"restricted_by_viewer\":null,\"followed_by_viewer\":false,\"full_name\":\"COVID Bolivia\",\"has_blocked_viewer\":false,\"is_private\":false,\"is_unpublished\":false,\"requested_by_viewer\":false,\"edge_owner_to_timeline_media\":{\"count\":65},\"edge_followed_by\":{\"count\":4333}},\"is_ad\":false,\"edge_web_media_to_related_media\":{\"edges\":[]},\"edge_sidecar_to_children\":{\"edges\":[{\"node\":{\"__typename\":\"GraphImage\",\"id\":\"2318735205502256932\",\"shortcode\":\"CAtzWJcJ4ck\",\"dimensions\":{\"height\":1080,\"width\":1080},\"gating_info\":null,\"fact_check_overall_rating\":null,\"fact_check_information\":null,\"sensitivity_friction_info\":null,\"media_overlay_info\":null,\"media_preview\":\"ACoq276dreFpEwWGMZ6ckCsJNYuGIHyDPsf/AIqtvUYXngZIxljjA6dCDWGdOl/55cf7yj9cn8aaAm/tO49Y/wAAT6/7XXjp71E+r3CHHyH3AP8AjR/Z0vQRf+PL/j/n2pBp03/PL/x5f/ivx/DHfNPQDT0u+kut4kx8uMY4659z6VrVj6VaSW5cyDaGxgZBPGfT61sUmAxl3dDiom8xMBQG9yeald9tRCMSHeev4dgR6Z7n9KQDVafuB+mf5geuPw6UuZTwwAHf9ff6frQLVQNuW654OO2O3b26Uhtlxkkn3J+p9Pf8O3SgB8UPlktksWx19qnpiOH6dqfQF76hUUpYD5OTUtFAnqrFRmlP3e4HTH9e/wCmM98URGbf8+NuOwxz/P0/X2q3RTAQADpS0UUhn//Z\",\"display_url\":\"https://instagram.flpb2-2.fna.fbcdn.net/v/t51.2885-15/e35/101095290_720365315379220_6480925661623412122_n.jpg?_nc_ht=instagram.flpb2-2.fna.fbcdn.net\\\\u0026_nc_cat=104\\\\u0026_nc_ohc=K9qX3EXsr-QAX_wKNIk\\\\u0026oh=acf365847fe4ae7b5cb9fc07a28eacef\\\\u0026oe=5EF85E16\",\"display_resources\":[{\"src\":\"https://instagram.flpb2-2.fna.fbcdn.net/v/t51.2885-15/sh0.08/e35/s640x640/101095290_720365315379220_6480925661623412122_n.jpg?_nc_ht=instagram.flpb2-2.fna.fbcdn.net\\\\u0026_nc_cat=104\\\\u0026_nc_ohc=K9qX3EXsr-QAX_wKNIk\\\\u0026oh=dbdc346b6ef8d8c463ce2df639f42592\\\\u0026oe=5EF9C130\",\"config_width\":640,\"config_height\":640},{\"src\":\"https://instagram.flpb2-2.fna.fbcdn.net/v/t51.2885-15/sh0.08/e35/s750x750/101095290_720365315379220_6480925661623412122_n.jpg?_nc_ht=instagram.flpb2-2.fna.fbcdn.net\\\\u0026_nc_cat=104\\\\u0026_nc_ohc=K9qX3EXsr-QAX_wKNIk\\\\u0026oh=e534b9b6ceb14d9ad825531bdc92bcfa\\\\u0026oe=5EF8986C\",\"config_width\":750,\"config_height\":750},{\"src\":\"https://instagram.flpb2-2.fna.fbcdn.net/v/t51.2885-15/e35/101095290_720365315379220_6480925661623412122_n.jpg?_nc_ht=instagram.flpb2-2.fna.fbcdn.net\\\\u0026_nc_cat=104\\\\u0026_nc_ohc=K9qX3EXsr-QAX_wKNIk\\\\u0026oh=acf365847fe4ae7b5cb9fc07a28eacef\\\\u0026oe=5EF85E16\",\"config_width\":1080,\"config_height\":1080}],\"accessibility_caption\":\"Photo by COVID Bolivia on May 27, 2020. Image may contain: text that says \\'DATOS ESTAD\\\\u00cdSTICOS MI\\\\u00c9RCOLES 27 DE MAYO COVID BOLIVIA\\'\",\"is_video\":false,\"tracking_token\":\"eyJ2ZXJzaW9uIjo1LCJwYXlsb2FkIjp7ImlzX2FuYWx5dGljc190cmFja2VkIjp0cnVlLCJ1dWlkIjoiOWRmNzY2MjUxMzA0NDA2Nzk2MmIyZTQzZTAyOTgzODgyMzE4NzM1MjA1NTAyMjU2OTMyIn0sInNpZ25hdHVyZSI6IiJ9\",\"edge_media_to_tagged_user\":{\"edges\":[]}}},{\"node\":{\"__typename\":\"GraphImage\",\"id\":\"2318735205510561393\",\"shortcode\":\"CAtzWJcpj5x\",\"dimensions\":{\"height\":1080,\"width\":1080},\"gating_info\":null,\"fact_check_overall_rating\":null,\"fact_check_information\":null,\"sensitivity_friction_info\":null,\"media_overlay_info\":null,\"media_preview\":\"ACoq6UnAz1qPzD/db8v/AK9S1GzlTjaT7jH+NADfN/2W/L/69PL4GcE+3eomZyeAwHpgH+tSLuK9cH1x/SgBynIzjHtTqSloAKYzFcYBP0xx+dPqJzzw2324/rQAxnY/dDD8F/xp+GZepB9cD+XIpvP9/wDlTm+6Mtj345oAeoIGCc+9OpidOu734/pT6ACmMo6kAke1PooApmQYGI857YH+H+fzxNE28crtAOMHFTUUCQgAHA4FLRRQM//Z\",\"display_url\":\"https://instagram.flpb2-1.fna.fbcdn.net/v/t51.2885-15/e35/100996814_183747383085103_6502934770063219423_n.jpg?_nc_ht=instagram.flpb2-1.fna.fbcdn.net\\\\u0026_nc_cat=107\\\\u0026_nc_ohc=GE5XNsmWWtsAX-2Tfk5\\\\u0026oh=2eeaeb162a02681b85dac3cac83fba5a\\\\u0026oe=5EFAB82E\",\"display_resources\":[{\"src\":\"https://instagram.flpb2-1.fna.fbcdn.net/v/t51.2885-15/sh0.08/e35/s640x640/100996814_183747383085103_6502934770063219423_n.jpg?_nc_ht=instagram.flpb2-1.fna.fbcdn.net\\\\u0026_nc_cat=107\\\\u0026_nc_ohc=GE5XNsmWWtsAX-2Tfk5\\\\u0026oh=a1821dbe3335a610df7b5f2d1d2f7c48\\\\u0026oe=5EF9C618\",\"config_width\":640,\"config_height\":640},{\"src\":\"https://instagram.flpb2-1.fna.fbcdn.net/v/t51.2885-15/sh0.08/e35/s750x750/100996814_183747383085103_6502934770063219423_n.jpg?_nc_ht=instagram.flpb2-1.fna.fbcdn.net\\\\u0026_nc_cat=107\\\\u0026_nc_ohc=GE5XNsmWWtsAX-2Tfk5\\\\u0026oh=36af62eee5156b49699c6bfe0110aee3\\\\u0026oe=5EF85854\",\"config_width\":750,\"config_height\":750},{\"src\":\"https://instagram.flpb2-1.fna.fbcdn.net/v/t51.2885-15/e35/100996814_183747383085103_6502934770063219423_n.jpg?_nc_ht=instagram.flpb2-1.fna.fbcdn.net\\\\u0026_nc_cat=107\\\\u0026_nc_ohc=GE5XNsmWWtsAX-2Tfk5\\\\u0026oh=2eeaeb162a02681b85dac3cac83fba5a\\\\u0026oe=5EFAB82E\",\"config_width\":1080,\"config_height\":1080}],\"accessibility_caption\":\"Photo by COVID Bolivia on May 27, 2020. Image may contain: text\",\"is_video\":false,\"tracking_token\":\"eyJ2ZXJzaW9uIjo1LCJwYXlsb2FkIjp7ImlzX2FuYWx5dGljc190cmFja2VkIjp0cnVlLCJ1dWlkIjoiOWRmNzY2MjUxMzA0NDA2Nzk2MmIyZTQzZTAyOTgzODgyMzE4NzM1MjA1NTEwNTYxMzkzIn0sInNpZ25hdHVyZSI6IiJ9\",\"edge_media_to_tagged_user\":{\"edges\":[]}}},{\"node\":{\"__typename\":\"GraphImage\",\"id\":\"2318735205510461075\",\"shortcode\":\"CAtzWJcpLaT\",\"dimensions\":{\"height\":1080,\"width\":1080},\"gating_info\":null,\"fact_check_overall_rating\":null,\"fact_check_information\":null,\"sensitivity_friction_info\":null,\"media_overlay_info\":null,\"media_preview\":\"ACoq6U5xx17VCHk/u59yQM/gM/zqaigCAvL12gjA4zyD39qN8v8AcH/fQqeigBqEkfMMH0p9NJxTqAEoppYA80nmD3NAD6OlR+Z7Um71yf5UAPHJz+VPqISZOMVLQAlIeBmnUUAVTMcZCk59/wDP+fxxJE5kBypXBxyamooEgooooGf/2Q==\",\"display_url\":\"https://instagram.flpb2-1.fna.fbcdn.net/v/t51.2885-15/e35/100898162_116873513368416_2084299010233213227_n.jpg?_nc_ht=instagram.flpb2-1.fna.fbcdn.net\\\\u0026_nc_cat=100\\\\u0026_nc_ohc=SarT4wDGEyAAX_ABt0k\\\\u0026oh=748f987cad02d1be2f129878fda610c8\\\\u0026oe=5EF7EC37\",\"display_resources\":[{\"src\":\"https://instagram.flpb2-1.fna.fbcdn.net/v/t51.2885-15/sh0.08/e35/s640x640/100898162_116873513368416_2084299010233213227_n.jpg?_nc_ht=instagram.flpb2-1.fna.fbcdn.net\\\\u0026_nc_cat=100\\\\u0026_nc_ohc=SarT4wDGEyAAX_ABt0k\\\\u0026oh=d1745e0b37827978c1bbec163aab1b95\\\\u0026oe=5EF8B88D\",\"config_width\":640,\"config_height\":640},{\"src\":\"https://instagram.flpb2-1.fna.fbcdn.net/v/t51.2885-15/sh0.08/e35/s750x750/100898162_116873513368416_2084299010233213227_n.jpg?_nc_ht=instagram.flpb2-1.fna.fbcdn.net\\\\u0026_nc_cat=100\\\\u0026_nc_ohc=SarT4wDGEyAAX_ABt0k\\\\u0026oh=780db9b6dab651e04f0f98c226f71da8\\\\u0026oe=5EF941C9\",\"config_width\":750,\"config_height\":750},{\"src\":\"https://instagram.flpb2-1.fna.fbcdn.net/v/t51.2885-15/e35/100898162_116873513368416_2084299010233213227_n.jpg?_nc_ht=instagram.flpb2-1.fna.fbcdn.net\\\\u0026_nc_cat=100\\\\u0026_nc_ohc=SarT4wDGEyAAX_ABt0k\\\\u0026oh=748f987cad02d1be2f129878fda610c8\\\\u0026oe=5EF7EC37\",\"config_width\":1080,\"config_height\":1080}],\"accessibility_caption\":\"Photo by COVID Bolivia on May 27, 2020. Image may contain: text that says \\'Curva Nacional COVID BOLIVIA\\'\",\"is_video\":false,\"tracking_token\":\"eyJ2ZXJzaW9uIjo1LCJwYXlsb2FkIjp7ImlzX2FuYWx5dGljc190cmFja2VkIjp0cnVlLCJ1dWlkIjoiOWRmNzY2MjUxMzA0NDA2Nzk2MmIyZTQzZTAyOTgzODgyMzE4NzM1MjA1NTEwNDYxMDc1In0sInNpZ25hdHVyZSI6IiJ9\",\"edge_media_to_tagged_user\":{\"edges\":[]}}},{\"node\":{\"__typename\":\"GraphImage\",\"id\":\"2318735205535635895\",\"shortcode\":\"CAtzWJeJNm3\",\"dimensions\":{\"height\":1080,\"width\":1080},\"gating_info\":null,\"fact_check_overall_rating\":null,\"fact_check_information\":null,\"sensitivity_friction_info\":null,\"media_overlay_info\":null,\"media_preview\":\"ACoq6aq/mSD+HPvkAf1z9ePoKnJAprFWBB6EY70AQ+dJnGz36jH504yv2TPHqPU//r/Go/s6erYHbJ/zxUyBUGBn8cmgCQe9LTdw6U6gBp60tIeuaMigBaKY0qr1NVJrrHCc++PYf5NO1xXSLIcM+B2B/nU1ZtmxaRmbqRWlQ1YE7iUh4GadRSGVTOcAhSc/5/z/APrxLE5cElSuDjmpaKBISloooGf/2Q==\",\"display_url\":\"https://instagram.flpb2-2.fna.fbcdn.net/v/t51.2885-15/e35/100939209_614833989149557_7262866975472010754_n.jpg?_nc_ht=instagram.flpb2-2.fna.fbcdn.net\\\\u0026_nc_cat=101\\\\u0026_nc_ohc=xkej69HlliAAX9KNbv1\\\\u0026oh=679568c20f9ccb3e8f9cd1b7be1aee4c\\\\u0026oe=5EF93C65\",\"display_resources\":[{\"src\":\"https://instagram.flpb2-2.fna.fbcdn.net/v/t51.2885-15/sh0.08/e35/s640x640/100939209_614833989149557_7262866975472010754_n.jpg?_nc_ht=instagram.flpb2-2.fna.fbcdn.net\\\\u0026_nc_cat=101\\\\u0026_nc_ohc=xkej69HlliAAX9KNbv1\\\\u0026oh=0dd5bdc72613f78ecccac1014ab30b36\\\\u0026oe=5EFA68DF\",\"config_width\":640,\"config_height\":640},{\"src\":\"https://instagram.flpb2-2.fna.fbcdn.net/v/t51.2885-15/sh0.08/e35/s750x750/100939209_614833989149557_7262866975472010754_n.jpg?_nc_ht=instagram.flpb2-2.fna.fbcdn.net\\\\u0026_nc_cat=101\\\\u0026_nc_ohc=xkej69HlliAAX9KNbv1\\\\u0026oh=71c7ec1aff3c228c28305a8a18d77c8d\\\\u0026oe=5EF7EC1B\",\"config_width\":750,\"config_height\":750},{\"src\":\"https://instagram.flpb2-2.fna.fbcdn.net/v/t51.2885-15/e35/100939209_614833989149557_7262866975472010754_n.jpg?_nc_ht=instagram.flpb2-2.fna.fbcdn.net\\\\u0026_nc_cat=101\\\\u0026_nc_ohc=xkej69HlliAAX9KNbv1\\\\u0026oh=679568c20f9ccb3e8f9cd1b7be1aee4c\\\\u0026oe=5EF93C65\",\"config_width\":1080,\"config_height\":1080}],\"accessibility_caption\":\"Photo by COVID Bolivia on May 27, 2020.\",\"is_video\":false,\"tracking_token\":\"eyJ2ZXJzaW9uIjo1LCJwYXlsb2FkIjp7ImlzX2FuYWx5dGljc190cmFja2VkIjp0cnVlLCJ1dWlkIjoiOWRmNzY2MjUxMzA0NDA2Nzk2MmIyZTQzZTAyOTgzODgyMzE4NzM1MjA1NTM1NjM1ODk1In0sInNpZ25hdHVyZSI6IiJ9\",\"edge_media_to_tagged_user\":{\"edges\":[]}}},{\"node\":{\"__typename\":\"GraphImage\",\"id\":\"2318735205527328336\",\"shortcode\":\"CAtzWJdphZQ\",\"dimensions\":{\"height\":1080,\"width\":1080},\"gating_info\":null,\"fact_check_overall_rating\":null,\"fact_check_information\":null,\"sensitivity_friction_info\":null,\"media_overlay_info\":null,\"media_preview\":\"ACoq6KQuB8gBPvUe+X+4P++h/hU9FAEJeTrt7dMjrn1+mCOKaZJR/AD9D/8AW/yKsUUARozn7y7fxzUtNJxS0AIKWijNABRTd4qF5fSgB8jcgeuP51JVRclh9f61bpsQpGetNKgDOKfRSGVDLwCEJz/n/P8A+vEkR3gkqVwcc1PRQJDdopaWigZ//9k=\",\"display_url\":\"https://instagram.flpb2-1.fna.fbcdn.net/v/t51.2885-15/e35/100963410_594427657869944_8593726308398021290_n.jpg?_nc_ht=instagram.flpb2-1.fna.fbcdn.net\\\\u0026_nc_cat=108\\\\u0026_nc_ohc=asiNkvJgtv0AX9BF2IS\\\\u0026oh=064d355edd684f0431f767f145ab2793\\\\u0026oe=5EF860B2\",\"display_resources\":[{\"src\":\"https://instagram.flpb2-1.fna.fbcdn.net/v/t51.2885-15/sh0.08/e35/s640x640/100963410_594427657869944_8593726308398021290_n.jpg?_nc_ht=instagram.flpb2-1.fna.fbcdn.net\\\\u0026_nc_cat=108\\\\u0026_nc_ohc=asiNkvJgtv0AX9BF2IS\\\\u0026oh=20920f393b8d291fbddce3dd29d309fd\\\\u0026oe=5EFAC50C\",\"config_width\":640,\"config_height\":640},{\"src\":\"https://instagram.flpb2-1.fna.fbcdn.net/v/t51.2885-15/sh0.08/e35/s750x750/100963410_594427657869944_8593726308398021290_n.jpg?_nc_ht=instagram.flpb2-1.fna.fbcdn.net\\\\u0026_nc_cat=108\\\\u0026_nc_ohc=asiNkvJgtv0AX9BF2IS\\\\u0026oh=686329501b9f17fec317d968feae9396\\\\u0026oe=5EFA0E50\",\"config_width\":750,\"config_height\":750},{\"src\":\"https://instagram.flpb2-1.fna.fbcdn.net/v/t51.2885-15/e35/100963410_594427657869944_8593726308398021290_n.jpg?_nc_ht=instagram.flpb2-1.fna.fbcdn.net\\\\u0026_nc_cat=108\\\\u0026_nc_ohc=asiNkvJgtv0AX9BF2IS\\\\u0026oh=064d355edd684f0431f767f145ab2793\\\\u0026oe=5EF860B2\",\"config_width\":1080,\"config_height\":1080}],\"accessibility_caption\":\"Photo by COVID Bolivia on May 27, 2020.\",\"is_video\":false,\"tracking_token\":\"eyJ2ZXJzaW9uIjo1LCJwYXlsb2FkIjp7ImlzX2FuYWx5dGljc190cmFja2VkIjp0cnVlLCJ1dWlkIjoiOWRmNzY2MjUxMzA0NDA2Nzk2MmIyZTQzZTAyOTgzODgyMzE4NzM1MjA1NTI3MzI4MzM2In0sInNpZ25hdHVyZSI6IiJ9\",\"edge_media_to_tagged_user\":{\"edges\":[]}}},{\"node\":{\"__typename\":\"GraphImage\",\"id\":\"2318735205527402680\",\"shortcode\":\"CAtzWJdpzi4\",\"dimensions\":{\"height\":1080,\"width\":1080},\"gating_info\":null,\"fact_check_overall_rating\":null,\"fact_check_information\":null,\"sensitivity_friction_info\":null,\"media_overlay_info\":null,\"media_preview\":\"ACoq6amMTj5cEg//AK/xxT6qrFG5LDOc88kc/wCRQA8SSHGUx/wIUqO5JDLtHY5Bz/nrTRbL3LH/AIEaaYIwQpJyenJoAtUUgGBiloAKrW/8X+8anZggyeBVaFtoc+5NMh7r5k8snljPXnFUC5znPILY/Kp5n3xBumSKrd/xb+VUjOTu/LQs27FmOTn5RVyqNt94/wC6KvVLNIbDWUMMHkUwxKOcDualopFWKZcbQAhI7D6f5/zzh8SiQElduCeuO/erNFMLdxixqvIGO1PoopDP/9k=\",\"display_url\":\"https://instagram.flpb2-2.fna.fbcdn.net/v/t51.2885-15/e35/100937767_2946293098823833_6275252354190509015_n.jpg?_nc_ht=instagram.flpb2-2.fna.fbcdn.net\\\\u0026_nc_cat=101\\\\u0026_nc_ohc=moQNa7sQozwAX9RMuWF\\\\u0026oh=a87594c0dce59fc39b81edcd4dc50c76\\\\u0026oe=5EF7F6BA\",\"display_resources\":[{\"src\":\"https://instagram.flpb2-2.fna.fbcdn.net/v/t51.2885-15/sh0.08/e35/s640x640/100937767_2946293098823833_6275252354190509015_n.jpg?_nc_ht=instagram.flpb2-2.fna.fbcdn.net\\\\u0026_nc_cat=101\\\\u0026_nc_ohc=moQNa7sQozwAX9RMuWF\\\\u0026oh=29cd8508690c451d7a8530067f4f1925\\\\u0026oe=5EF8D7A1\",\"config_width\":640,\"config_height\":640},{\"src\":\"https://instagram.flpb2-2.fna.fbcdn.net/v/t51.2885-15/sh0.08/e35/s750x750/100937767_2946293098823833_6275252354190509015_n.jpg?_nc_ht=instagram.flpb2-2.fna.fbcdn.net\\\\u0026_nc_cat=101\\\\u0026_nc_ohc=moQNa7sQozwAX9RMuWF\\\\u0026oh=e1d72c964d85b6117d878e5f2312d04b\\\\u0026oe=5EFAA49A\",\"config_width\":750,\"config_height\":750},{\"src\":\"https://instagram.flpb2-2.fna.fbcdn.net/v/t51.2885-15/e35/100937767_2946293098823833_6275252354190509015_n.jpg?_nc_ht=instagram.flpb2-2.fna.fbcdn.net\\\\u0026_nc_cat=101\\\\u0026_nc_ohc=moQNa7sQozwAX9RMuWF\\\\u0026oh=a87594c0dce59fc39b81edcd4dc50c76\\\\u0026oe=5EF7F6BA\",\"config_width\":1080,\"config_height\":1080}],\"accessibility_caption\":\"Photo by COVID Bolivia on May 27, 2020. Image may contain: text\",\"is_video\":false,\"tracking_token\":\"eyJ2ZXJzaW9uIjo1LCJwYXlsb2FkIjp7ImlzX2FuYWx5dGljc190cmFja2VkIjp0cnVlLCJ1dWlkIjoiOWRmNzY2MjUxMzA0NDA2Nzk2MmIyZTQzZTAyOTgzODgyMzE4NzM1MjA1NTI3NDAyNjgwIn0sInNpZ25hdHVyZSI6IiJ9\",\"edge_media_to_tagged_user\":{\"edges\":[]}}},{\"node\":{\"__typename\":\"GraphImage\",\"id\":\"2318735205485298110\",\"shortcode\":\"CAtzWJbJMG-\",\"dimensions\":{\"height\":1080,\"width\":1080},\"gating_info\":null,\"fact_check_overall_rating\":null,\"fact_check_information\":null,\"sensitivity_friction_info\":null,\"media_overlay_info\":null,\"media_preview\":\"ACoq6ao3LAfLzz09qkqOSMSDByPocdsf1oAYJHJAKYHruFOjd2zvXb6cg5qCWKKMZclQTgcnqf8AGpkgVDkZzjHJJ/z0oAmooooAKKhuJvJjMmM7e341mx3xUvuySSdg6gcZx24ppXJbS0J9T/1a/wC+v9avNIqfeIH1OK56Sd5vvnj92cdgc9qkvZVmbcucbGHI7hqvl2RHNuzcSVZM7SDjripKy9N6yfUfyrUqGrOxondXEpG4GadRSGVTOcAhCc/0/wA/55xJE3mA5Urg45qaigSEpaKKBn//2Q==\",\"display_url\":\"https://instagram.flpb2-2.fna.fbcdn.net/v/t51.2885-15/e35/101029292_142792767370667_8312776353748940892_n.jpg?_nc_ht=instagram.flpb2-2.fna.fbcdn.net\\\\u0026_nc_cat=111\\\\u0026_nc_ohc=ZlZ5BFOeqnYAX_l0azT\\\\u0026oh=e89e4754a3b92ea83c393fce1217da06\\\\u0026oe=5EFB242B\",\"display_resources\":[{\"src\":\"https://instagram.flpb2-2.fna.fbcdn.net/v/t51.2885-15/sh0.08/e35/s640x640/101029292_142792767370667_8312776353748940892_n.jpg?_nc_ht=instagram.flpb2-2.fna.fbcdn.net\\\\u0026_nc_cat=111\\\\u0026_nc_ohc=ZlZ5BFOeqnYAX_l0azT\\\\u0026oh=60e3814a74a61ca1be666a945dac0b4d\\\\u0026oe=5EF8CC11\",\"config_width\":640,\"config_height\":640},{\"src\":\"https://instagram.flpb2-2.fna.fbcdn.net/v/t51.2885-15/sh0.08/e35/s750x750/101029292_142792767370667_8312776353748940892_n.jpg?_nc_ht=instagram.flpb2-2.fna.fbcdn.net\\\\u0026_nc_cat=111\\\\u0026_nc_ohc=ZlZ5BFOeqnYAX_l0azT\\\\u0026oh=8aed73b9b1cfd8550dc9ba3aedf17eae\\\\u0026oe=5EF95D55\",\"config_width\":750,\"config_height\":750},{\"src\":\"https://instagram.flpb2-2.fna.fbcdn.net/v/t51.2885-15/e35/101029292_142792767370667_8312776353748940892_n.jpg?_nc_ht=instagram.flpb2-2.fna.fbcdn.net\\\\u0026_nc_cat=111\\\\u0026_nc_ohc=ZlZ5BFOeqnYAX_l0azT\\\\u0026oh=e89e4754a3b92ea83c393fce1217da06\\\\u0026oe=5EFB242B\",\"config_width\":1080,\"config_height\":1080}],\"accessibility_caption\":\"Photo by COVID Bolivia on May 27, 2020. Image may contain: text\",\"is_video\":false,\"tracking_token\":\"eyJ2ZXJzaW9uIjo1LCJwYXlsb2FkIjp7ImlzX2FuYWx5dGljc190cmFja2VkIjp0cnVlLCJ1dWlkIjoiOWRmNzY2MjUxMzA0NDA2Nzk2MmIyZTQzZTAyOTgzODgyMzE4NzM1MjA1NDg1Mjk4MTEwIn0sInNpZ25hdHVyZSI6IiJ9\",\"edge_media_to_tagged_user\":{\"edges\":[]}}}]}}}}]},\"hostname\":\"www.instagram.com\",\"is_whitelisted_crawl_bot\":false,\"deployment_stage\":\"c2\",\"platform\":\"web\",\"nonce\":\"KDAG9HWLlxq2/tPVTRGkBg==\",\"mid_pct\":38.74699,\"zero_data\":{},\"cache_schema_version\":3,\"server_checks\":{},\"knobx\":{\"17\":false,\"20\":true,\"22\":true,\"23\":true,\"24\":true,\"25\":true,\"26\":true,\"27\":true,\"28\":true,\"29\":true,\"30\":true,\"4\":false},\"to_cache\":{\"gatekeepers\":{\"10\":false,\"100\":false,\"101\":true,\"102\":true,\"103\":true,\"104\":true,\"105\":true,\"106\":true,\"107\":false,\"108\":true,\"109\":false,\"11\":false,\"111\":false,\"112\":false,\"113\":true,\"114\":true,\"116\":true,\"117\":true,\"119\":false,\"12\":false,\"120\":false,\"121\":true,\"123\":false,\"124\":true,\"13\":true,\"14\":true,\"15\":true,\"16\":true,\"18\":true,\"19\":false,\"23\":false,\"24\":false,\"26\":true,\"27\":false,\"28\":false,\"29\":true,\"31\":false,\"32\":true,\"34\":false,\"35\":false,\"38\":true,\"4\":true,\"40\":true,\"41\":false,\"43\":true,\"5\":false,\"59\":true,\"6\":false,\"61\":false,\"62\":false,\"63\":false,\"64\":false,\"65\":false,\"67\":true,\"68\":false,\"69\":true,\"7\":false,\"71\":false,\"72\":true,\"73\":false,\"74\":false,\"75\":true,\"77\":false,\"78\":true,\"79\":false,\"8\":false,\"81\":false,\"82\":true,\"84\":false,\"86\":false,\"88\":true,\"9\":false,\"91\":false,\"95\":true,\"97\":false,\"99\":false},\"qe\":{\"app_upsell\":{\"g\":\"\",\"p\":{}},\"igl_app_upsell\":{\"g\":\"\",\"p\":{}},\"notif\":{\"g\":\"\",\"p\":{}},\"onetaplogin\":{\"g\":\"\",\"p\":{}},\"felix_clear_fb_cookie\":{\"g\":\"\",\"p\":{}},\"felix_creation_duration_limits\":{\"g\":\"\",\"p\":{}},\"felix_creation_fb_crossposting\":{\"g\":\"\",\"p\":{}},\"felix_creation_fb_crossposting_v2\":{\"g\":\"\",\"p\":{}},\"felix_creation_validation\":{\"g\":\"\",\"p\":{}},\"post_options\":{\"g\":\"\",\"p\":{}},\"sticker_tray\":{\"g\":\"\",\"p\":{}},\"web_sentry\":{\"g\":\"\",\"p\":{}},\"0\":{\"p\":{\"9\":false},\"l\":{},\"qex\":true},\"100\":{\"p\":{\"0\":true},\"l\":{},\"qex\":true},\"101\":{\"p\":{\"0\":false,\"1\":false},\"l\":{},\"qex\":true},\"102\":{\"p\":{\"0\":true},\"l\":{},\"qex\":true},\"103\":{\"p\":{\"0\":false,\"1\":false},\"l\":{},\"qex\":true},\"104\":{\"p\":{\"0\":true},\"l\":{},\"qex\":true},\"108\":{\"p\":{\"0\":true,\"1\":false},\"l\":{\"0\":true,\"1\":true},\"qex\":true},\"109\":{\"p\":{},\"l\":{},\"qex\":true},\"110\":{\"p\":{},\"l\":{},\"qex\":true},\"111\":{\"p\":{\"0\":false,\"1\":false},\"l\":{},\"qex\":true},\"112\":{\"p\":{\"0\":false},\"l\":{\"0\":true},\"qex\":true},\"113\":{\"p\":{\"0\":false,\"1\":false,\"2\":true,\"3\":true,\"4\":false},\"l\":{},\"qex\":true},\"114\":{\"p\":{\"1\":true},\"l\":{},\"qex\":true},\"115\":{\"p\":{\"0\":true,\"1\":true,\"2\":true,\"3\":true},\"l\":{\"0\":true,\"1\":true,\"2\":true,\"3\":true},\"qex\":true},\"116\":{\"p\":{\"0\":true},\"l\":{\"0\":true},\"qex\":true},\"117\":{\"p\":{\"0\":true},\"l\":{\"0\":true},\"qex\":true},\"118\":{\"p\":{\"0\":false},\"l\":{},\"qex\":true},\"119\":{\"p\":{\"0\":false},\"l\":{},\"qex\":true},\"12\":{\"p\":{\"0\":5},\"l\":{},\"qex\":true},\"120\":{\"p\":{\"0\":false},\"l\":{},\"qex\":true},\"13\":{\"p\":{\"0\":true},\"l\":{},\"qex\":true},\"16\":{\"p\":{\"0\":false},\"l\":{},\"qex\":true},\"21\":{\"p\":{\"2\":false},\"l\":{},\"qex\":true},\"22\":{\"p\":{\"1\":false,\"10\":0.0,\"11\":15,\"12\":3,\"13\":false,\"2\":8.0,\"3\":0.85,\"4\":0.95},\"l\":{},\"qex\":true},\"23\":{\"p\":{\"0\":false,\"1\":false},\"l\":{},\"qex\":true},\"25\":{\"p\":{},\"l\":{},\"qex\":true},\"26\":{\"p\":{\"0\":\"\"},\"l\":{},\"qex\":true},\"28\":{\"p\":{\"0\":false},\"l\":{},\"qex\":true},\"29\":{\"p\":{},\"l\":{},\"qex\":true},\"31\":{\"p\":{},\"l\":{},\"qex\":true},\"33\":{\"p\":{},\"l\":{},\"qex\":true},\"34\":{\"p\":{\"0\":false},\"l\":{},\"qex\":true},\"36\":{\"p\":{\"0\":true,\"1\":true,\"2\":false,\"3\":false,\"4\":false},\"l\":{},\"qex\":true},\"37\":{\"p\":{\"0\":false},\"l\":{},\"qex\":true},\"39\":{\"p\":{\"0\":false,\"14\":false,\"6\":false,\"7\":false,\"8\":false},\"l\":{},\"qex\":true},\"41\":{\"p\":{\"3\":true},\"l\":{},\"qex\":true},\"42\":{\"p\":{\"0\":true},\"l\":{},\"qex\":true},\"43\":{\"p\":{\"0\":false,\"1\":false,\"2\":false},\"l\":{},\"qex\":true},\"44\":{\"p\":{\"1\":\"inside_media\",\"2\":0.2},\"l\":{},\"qex\":true},\"45\":{\"p\":{\"13\":false,\"17\":0,\"26\":\"control\",\"32\":false,\"33\":false,\"35\":false,\"36\":\"control\",\"37\":false,\"38\":false},\"l\":{},\"qex\":true},\"46\":{\"p\":{\"0\":false},\"l\":{},\"qex\":true},\"47\":{\"p\":{\"0\":true,\"1\":true,\"10\":false,\"11\":false,\"2\":false,\"3\":false,\"4\":false,\"6\":false,\"8\":false,\"9\":false},\"l\":{},\"qex\":true},\"49\":{\"p\":{\"0\":false},\"l\":{},\"qex\":true},\"50\":{\"p\":{\"0\":false},\"l\":{},\"qex\":true},\"54\":{\"p\":{\"0\":false},\"l\":{},\"qex\":true},\"55\":{\"p\":{\"0\":false},\"l\":{},\"qex\":true},\"58\":{\"p\":{\"0\":0.0,\"1\":false},\"l\":{},\"qex\":true},\"59\":{\"p\":{\"0\":true},\"l\":{},\"qex\":true},\"62\":{\"p\":{\"0\":false},\"l\":{},\"qex\":true},\"65\":{\"p\":{},\"l\":{},\"qex\":true},\"66\":{\"p\":{\"0\":false},\"l\":{},\"qex\":true},\"67\":{\"p\":{\"0\":true,\"1\":true,\"2\":true,\"3\":true,\"4\":false,\"5\":true,\"6\":false,\"7\":false,\"8\":false},\"l\":{\"4\":true,\"5\":true},\"qex\":true},\"68\":{\"p\":{\"0\":false},\"l\":{\"0\":true},\"qex\":true},\"69\":{\"p\":{\"0\":true},\"l\":{},\"qex\":true},\"71\":{\"p\":{\"1\":\"^/explore/.*|^/accounts/activity/$\"},\"l\":{},\"qex\":true},\"72\":{\"p\":{\"0\":false,\"1\":false,\"2\":false,\"3\":false,\"4\":false},\"l\":{\"1\":true,\"2\":true},\"qex\":true},\"73\":{\"p\":{\"0\":false},\"l\":{},\"qex\":true},\"74\":{\"p\":{\"1\":true,\"12\":false,\"2\":false,\"3\":true,\"4\":false,\"7\":false,\"9\":true},\"l\":{},\"qex\":true},\"75\":{\"p\":{\"0\":true,\"1\":false},\"l\":{},\"qex\":true},\"77\":{\"p\":{\"1\":false},\"l\":{},\"qex\":true},\"78\":{\"p\":{\"0\":true,\"1\":true,\"2\":false,\"3\":false},\"l\":{},\"qex\":true},\"80\":{\"p\":{\"3\":true},\"l\":{},\"qex\":true},\"84\":{\"p\":{\"0\":true,\"1\":true,\"2\":true,\"3\":true,\"4\":true,\"5\":true,\"6\":false,\"8\":false},\"l\":{},\"qex\":true},\"85\":{\"p\":{\"0\":false,\"1\":\"Pictures and Videos\"},\"l\":{},\"qex\":true},\"87\":{\"p\":{\"0\":true},\"l\":{},\"qex\":true},\"89\":{\"p\":{\"0\":false},\"l\":{},\"qex\":true},\"92\":{\"p\":{\"0\":36},\"l\":{},\"qex\":true},\"93\":{\"p\":{\"0\":true},\"l\":{},\"qex\":true},\"95\":{\"p\":{\"0\":false,\"1\":false},\"l\":{\"1\":true},\"qex\":true},\"96\":{\"p\":{\"0\":true},\"l\":{},\"qex\":true},\"97\":{\"p\":{},\"l\":{},\"qex\":true},\"98\":{\"p\":{\"1\":false},\"l\":{},\"qex\":true},\"99\":{\"p\":{\"0\":true,\"1\":true,\"2\":true,\"3\":10,\"4\":10000000,\"5\":30000},\"l\":{},\"qex\":true}},\"probably_has_app\":false,\"cb\":false},\"device_id\":\"366142D6-7213-49D9-AE7B-B052778B9599\",\"encryption\":{\"key_id\":\"107\",\"public_key\":\"306d4ebc013ab79b50c812bc9fa41e1c5123ff6e5bd03bb1f5413f65a3a8c356\",\"version\":\"10\"},\"is_dev\":false,\"rollout_hash\":\"20b0be9e4331\",\"bundle_variant\":\"metro\",\"is_c1\":false,\"is_canary\":false};</script>\\n<script type=\"text/javascript\">window.__initialDataLoaded(window._sharedData);</script>\\n<script type=\"text/javascript\">var __BUNDLE_START_TIME__=this.nativePerformanceNow?nativePerformanceNow():Date.now(),__DEV__=false,process=this.process||{};process.env=process.env||{};process.env.NODE_ENV=process.env.NODE_ENV||\"production\";!(function(r){\"use strict\";function e(){return c=Object.create(null)}function t(r){var e=r,t=c[e];return t&&t.isInitialized?t.publicModule.exports:o(e,t)}function n(r){var e=r;if(c[e]&&c[e].importedDefault!==f)return c[e].importedDefault;var n=t(e),i=n&&n.__esModule?n.default:n;return c[e].importedDefault=i}function i(r){var e=r;if(c[e]&&c[e].importedAll!==f)return c[e].importedAll;var n,i=t(e);if(i&&i.__esModule)n=i;else{if(n={},i)for(var o in i)p.call(i,o)&&(n[o]=i[o]);n.default=i}return c[e].importedAll=n}function o(e,t){if(!s&&r.ErrorUtils){s=!0;var n;try{n=u(e,t)}catch(e){r.ErrorUtils.reportFatalError(e)}return s=!1,n}return u(e,t)}function l(r){return{segmentId:r>>>v,localId:r&h}}function u(e,o){if(!o&&g.length>0){var u=l(e),f=u.segmentId,p=u.localId,s=g[f];null!=s&&(s(p),o=c[e])}var v=r.nativeRequire;if(!o&&v){var h=l(e),I=h.segmentId;v(h.localId,I),o=c[e]}if(!o)throw a(e);if(o.hasError)throw d(e,o.error);o.isInitialized=!0;var _=o,w=_.factory,y=_.dependencyMap;try{var M=o.publicModule;if(M.id=e,m.length>0)for(var b=0;b<m.length;++b)m[b].cb(e,M);return w(r,t,n,i,M,M.exports,y),o.factory=void 0,o.dependencyMap=void 0,M.exports}catch(r){throw o.hasError=!0,o.error=r,o.isInitialized=!1,o.publicModule.exports=void 0,r}}function a(r){var e=\\'Requiring unknown module \"\\'+r+\\'\".\\';return Error(e)}function d(r,e){var t=r;return Error(\\'Requiring module \"\\'+t+\\'\", which threw an exception: \\'+e)}r.__r=t,r.__d=function(r,e,t){null==c[e]&&(c[e]={dependencyMap:t,factory:r,hasError:!1,importedAll:f,importedDefault:f,isInitialized:!1,publicModule:{exports:{}}})},r.__c=e,r.__registerSegment=function(r,e){g[r]=e};var c=e(),f={},p={}.hasOwnProperty;t.importDefault=n,t.importAll=i;var s=!1,v=16,h=65535;t.unpackModuleId=l,t.packModuleId=function(r){return(r.segmentId<<v)+r.localId};var m=[];t.registerHook=function(r){var e={cb:r};return m.push(e),{release:function(){for(var r=0;r<m.length;++r)if(m[r]===e){m.splice(r,1);break}}}};var g=[]})(\\'undefined\\'!=typeof global?global:\\'undefined\\'!=typeof window?window:this);\\n__s={\"js\":{\"146\":\"/static/bundles/metro/EncryptionUtils.js/21a28b4798c8.js\",\"147\":\"/static/bundles/metro/MobileStoriesLoginPage.js/94b7717b4fdc.js\",\"148\":\"/static/bundles/metro/DesktopStoriesLoginPage.js/81b3d627c3c8.js\",\"149\":\"/static/bundles/metro/AvenyFont.js/bf0ef5ae6bb7.js\",\"150\":\"/static/bundles/metro/DirectSearchUserContainer.js/6910f5ea039f.js\",\"151\":\"/static/bundles/metro/MobileStoriesPage.js/c74715fb6f5d.js\",\"152\":\"/static/bundles/metro/DesktopStoriesPage.js/846463e55bac.js\",\"153\":\"/static/bundles/metro/ActivityFeedPage.js/81671e9ed94c.js\",\"154\":\"/static/bundles/metro/AdsSettingsPage.js/e05373200545.js\",\"155\":\"/static/bundles/metro/DonateCheckoutPage.js/aba1fffb09d3.js\",\"156\":\"/static/bundles/metro/CameraPage.js/9b5b5b658f70.js\",\"157\":\"/static/bundles/metro/SettingsModules.js/1d0a80e7f1ea.js\",\"158\":\"/static/bundles/metro/ContactHistoryPage.js/f0222492d98a.js\",\"159\":\"/static/bundles/metro/AccessToolPage.js/402fa9b34845.js\",\"160\":\"/static/bundles/metro/AccessToolViewAllPage.js/4d2cc5641c4c.js\",\"161\":\"/static/bundles/metro/AccountPrivacyBugPage.js/3b80452b1394.js\",\"162\":\"/static/bundles/metro/FirstPartyPlaintextPasswordLandingPage.js/dc7829ab8c70.js\",\"163\":\"/static/bundles/metro/ThirdPartyPlaintextPasswordLandingPage.js/5c4a3528d489.js\",\"164\":\"/static/bundles/metro/ShoppingBagLandingPage.js/fabaa4818fbf.js\",\"165\":\"/static/bundles/metro/PlaintextPasswordBugPage.js/0f0413df13c6.js\",\"166\":\"/static/bundles/metro/PrivateAccountMadePublicBugPage.js/5af26e0ed827.js\",\"167\":\"/static/bundles/metro/PublicAccountNotMadePrivateBugPage.js/ce34245cb62f.js\",\"168\":\"/static/bundles/metro/BlockedAccountsBugPage.js/6d4980136272.js\",\"169\":\"/static/bundles/metro/AndroidBetaPrivacyBugPage.js/530494f57e1e.js\",\"170\":\"/static/bundles/metro/DataControlsSupportPage.js/0705d6de718d.js\",\"171\":\"/static/bundles/metro/DataDownloadRequestPage.js/d71267ee3374.js\",\"172\":\"/static/bundles/metro/DataDownloadRequestConfirmPage.js/81dab9f0e6df.js\",\"173\":\"/static/bundles/metro/CheckpointUnderageAppealPage.js/f000f922ea36.js\",\"174\":\"/static/bundles/metro/AccountRecoveryLandingPage.js/6d8012242b60.js\",\"175\":\"/static/bundles/metro/ContactInvitesOptOutPage.js/bebd5896d9a4.js\",\"176\":\"/static/bundles/metro/ParentalConsentPage.js/36618d659c6d.js\",\"177\":\"/static/bundles/metro/ParentalConsentNotParentPage.js/a1cc7c15a93c.js\",\"178\":\"/static/bundles/metro/TermsAcceptPage.js/82799d3784e2.js\",\"179\":\"/static/bundles/metro/TermsUnblockPage.js/372ec2600821.js\",\"180\":\"/static/bundles/metro/NewTermsConfirmPage.js/b6292113a3f5.js\",\"181\":\"/static/bundles/metro/ContactInvitesOptOutStatusPage.js/908c77e4047a.js\",\"182\":\"/static/bundles/metro/CreationModules.js/7b5b8918c6e6.js\",\"183\":\"/static/bundles/metro/StoryCreationPage.js/a0f43e208e29.js\",\"184\":\"/static/bundles/metro/PostCommentInput.js/179091766cba.js\",\"187\":\"/static/bundles/metro/PostModalEntrypoint.js/735c7d3e24f6.js\",\"188\":\"/static/bundles/metro/PostComments.js/c3d1b06098b2.js\",\"189\":\"/static/bundles/metro/LikedByListContainer.js/55f8e8c9374c.js\",\"190\":\"/static/bundles/metro/CommentLikedByListContainer.js/5945f7255d60.js\",\"191\":\"/static/bundles/metro/shaka-player.ui.js/3f7b6e36c82f.js\",\"192\":\"/static/bundles/metro/DynamicExploreMediaPage.js/346c4005cb89.js\",\"193\":\"/static/bundles/metro/DiscoverMediaPageContainer.js/b381002fe5f9.js\",\"194\":\"/static/bundles/metro/DiscoverPeoplePageContainer.js/2a3f87555647.js\",\"195\":\"/static/bundles/metro/EmailConfirmationPage.js/68b51cc3d480.js\",\"196\":\"/static/bundles/metro/EmailReportBadPasswordResetPage.js/b012b297110e.js\",\"197\":\"/static/bundles/metro/FBSignupPage.js/798d67e6af04.js\",\"198\":\"/static/bundles/metro/NewUserInterstitial.js/4fc342bf8aed.js\",\"199\":\"/static/bundles/metro/MultiStepSignupPage.js/893e7056ecea.js\",\"200\":\"/static/bundles/metro/EmptyFeedPage.js/db9bbefdc0c5.js\",\"201\":\"/static/bundles/metro/NewUserActivatorsUnit.js/42b21ab34b4a.js\",\"202\":\"/static/bundles/metro/FeedEndSuggestedUserUnit.js/144b9dba5a7a.js\",\"203\":\"/static/bundles/metro/FeedSidebarContainer.js/89d4ec6f1b14.js\",\"204\":\"/static/bundles/metro/SuggestedUserFeedUnitContainer.js/6f345c29b631.js\",\"205\":\"/static/bundles/metro/InFeedStoryTray.js/d76e1c14ace7.js\",\"206\":\"/static/bundles/metro/FeedPageContainer.js/14d7a0ea8119.js\",\"207\":\"/static/bundles/metro/FollowListModal.js/1608c82a79e3.js\",\"208\":\"/static/bundles/metro/FollowListPage.js/22b549cf145e.js\",\"209\":\"/static/bundles/metro/SimilarAccountsPage.js/2bfec80054f6.js\",\"210\":\"/static/bundles/metro/LiveBroadcastPage.js/a2924bd23fca.js\",\"211\":\"/static/bundles/metro/FalseInformationLandingPage.js/0d2a9d047da2.js\",\"212\":\"/static/bundles/metro/LandingPage.js/7b91df4dfb5a.js\",\"213\":\"/static/bundles/metro/LocationsDirectoryCountryPage.js/2c964da89cfa.js\",\"214\":\"/static/bundles/metro/LocationsDirectoryCityPage.js/fca83193ede0.js\",\"215\":\"/static/bundles/metro/LocationPageContainer.js/0608488bf01a.js\",\"216\":\"/static/bundles/metro/LocationsDirectoryLandingPage.js/f977b5e0b14a.js\",\"217\":\"/static/bundles/metro/LoginAndSignupPage.js/de026a808ddf.js\",\"218\":\"/static/bundles/metro/FXCalLinkingAuthForm.js/21e394886f41.js\",\"219\":\"/static/bundles/metro/UpdateIGAppForHelpPage.js/279e43904596.js\",\"220\":\"/static/bundles/metro/ResetPasswordPageContainer.js/84056e4b271d.js\",\"221\":\"/static/bundles/metro/MobileAllCommentsPage.js/f912c5783c4a.js\",\"222\":\"/static/bundles/metro/MediaChainingPageContainer.js/a9359e06d635.js\",\"223\":\"/static/bundles/metro/PostPageContainer.js/0632a0c45754.js\",\"224\":\"/static/bundles/metro/ProfilesDirectoryLandingPage.js/e2fd3d8a165a.js\",\"225\":\"/static/bundles/metro/HashtagsDirectoryLandingPage.js/4973fde9b4e2.js\",\"226\":\"/static/bundles/metro/SuggestedDirectoryLandingPage.js/e039ef662787.js\",\"227\":\"/static/bundles/metro/TagPageContainer.js/f67212f4cd1a.js\",\"228\":\"/static/bundles/metro/PhoneConfirmPage.js/10cf660b32a1.js\",\"229\":\"/static/bundles/metro/SimilarAccountsModal.js/5a42230453ee.js\",\"230\":\"/static/bundles/metro/ProfilePageContainer.js/280ccef90af6.js\",\"231\":\"/static/bundles/metro/HttpErrorPage.js/c7c5ff17840b.js\",\"232\":\"/static/bundles/metro/IGTVVideoDraftsPageContainer.js/909f6a9b4f66.js\",\"233\":\"/static/bundles/metro/IGTVVideoUploadPageContainer.js/4b54f25e4adb.js\",\"234\":\"/static/bundles/metro/OAuthPermissionsPage.js/39a61a21f7ae.js\",\"235\":\"/static/bundles/metro/MobileDirectPage.js/8f5e8c7f73a5.js\",\"236\":\"/static/bundles/metro/DesktopDirectPage.js/8c9738bdd61b.js\",\"237\":\"/static/bundles/metro/GuidePage.js/ba9f9cda951b.js\",\"238\":\"/static/bundles/metro/OneTapUpsell.js/0906f32a1f7e.js\",\"239\":\"/static/bundles/metro/NametagLandingPage.js/17c1e724c17b.js\",\"240\":\"/static/bundles/metro/LocalDevTransactionToolSelectorPage.js/f89bd7cee0e1.js\",\"241\":\"/static/bundles/metro/FBEAppStoreErrorPage.js/62c921599fc4.js\",\"242\":\"/static/bundles/metro/BloksShellPage.js/ccc011e65d48.js\",\"243\":\"/static/bundles/metro/BusinessCategoryPageContainer.js/179afb7c5676.js\",\"244\":\"/static/bundles/metro/ActivityFeedBox.js/5b3f178ffec2.js\",\"245\":\"/static/bundles/metro/DirectMQTT.js/701047003531.js\",\"246\":\"/static/bundles/metro/DebugInfoNub.js/c4a17dbb620b.js\",\"248\":\"/static/bundles/metro/Consumer.js/bf98dbd2ada8.js\",\"249\":\"/static/bundles/metro/Challenge.js/7b2bf1ec5533.js\",\"250\":\"/static/bundles/metro/NotificationLandingPage.js/739dd41cddaa.js\",\"268\":\"/static/bundles/metro/EmbedAsyncLogger.js/f5b234c37948.js\",\"270\":\"/static/bundles/metro/EmbedVideoWrapper.js/ce69dc2416a9.js\",\"271\":\"/static/bundles/metro/EmbedSidecarEntrypoint.js/040e04bf4712.js\",\"272\":\"/static/bundles/metro/EmbedRich.js/03a4f1c671b6.js\"},\"css\":{\"147\":\"/static/bundles/metro/MobileStoriesLoginPage.css/63c8b55730f8.css\",\"148\":\"/static/bundles/metro/DesktopStoriesLoginPage.css/eddb32f57044.css\",\"149\":\"/static/bundles/metro/AvenyFont.css/25fd69ff2266.css\",\"150\":\"/static/bundles/metro/DirectSearchUserContainer.css/ee79587484d2.css\",\"151\":\"/static/bundles/metro/MobileStoriesPage.css/c25ac24ea04c.css\",\"152\":\"/static/bundles/metro/DesktopStoriesPage.css/8c70943b7240.css\",\"153\":\"/static/bundles/metro/ActivityFeedPage.css/8724a6024a6f.css\",\"154\":\"/static/bundles/metro/AdsSettingsPage.css/5293e36a780d.css\",\"155\":\"/static/bundles/metro/DonateCheckoutPage.css/5293e36a780d.css\",\"156\":\"/static/bundles/metro/CameraPage.css/6a60610e77f3.css\",\"157\":\"/static/bundles/metro/SettingsModules.css/e1e09a4fbbb6.css\",\"158\":\"/static/bundles/metro/ContactHistoryPage.css/6450a9697d3b.css\",\"159\":\"/static/bundles/metro/AccessToolPage.css/34921b2f36dd.css\",\"160\":\"/static/bundles/metro/AccessToolViewAllPage.css/ddca305d0cd5.css\",\"161\":\"/static/bundles/metro/AccountPrivacyBugPage.css/b084aece73a3.css\",\"164\":\"/static/bundles/metro/ShoppingBagLandingPage.css/9ea9da8878b6.css\",\"169\":\"/static/bundles/metro/AndroidBetaPrivacyBugPage.css/158f7ff45015.css\",\"170\":\"/static/bundles/metro/DataControlsSupportPage.css/2c93110330b6.css\",\"171\":\"/static/bundles/metro/DataDownloadRequestPage.css/e1c17cd74c8c.css\",\"172\":\"/static/bundles/metro/DataDownloadRequestConfirmPage.css/1e9cdea74d83.css\",\"173\":\"/static/bundles/metro/CheckpointUnderageAppealPage.css/696e09a280c9.css\",\"174\":\"/static/bundles/metro/AccountRecoveryLandingPage.css/ec80e8c27b35.css\",\"175\":\"/static/bundles/metro/ContactInvitesOptOutPage.css/16fb0ada266f.css\",\"176\":\"/static/bundles/metro/ParentalConsentPage.css/ae79aa7843e4.css\",\"177\":\"/static/bundles/metro/ParentalConsentNotParentPage.css/6308e4086754.css\",\"178\":\"/static/bundles/metro/TermsAcceptPage.css/f93160eb7986.css\",\"179\":\"/static/bundles/metro/TermsUnblockPage.css/a3ac7fdd5ad3.css\",\"180\":\"/static/bundles/metro/NewTermsConfirmPage.css/44b571a6a961.css\",\"181\":\"/static/bundles/metro/ContactInvitesOptOutStatusPage.css/c71af4588c9c.css\",\"182\":\"/static/bundles/metro/CreationModules.css/6627367f2cd9.css\",\"183\":\"/static/bundles/metro/StoryCreationPage.css/a5c65c300576.css\",\"184\":\"/static/bundles/metro/PostCommentInput.css/94eff2a7019d.css\",\"187\":\"/static/bundles/metro/PostModalEntrypoint.css/22326130afec.css\",\"188\":\"/static/bundles/metro/PostComments.css/2c4993169770.css\",\"189\":\"/static/bundles/metro/LikedByListContainer.css/cfbb06eb7d39.css\",\"190\":\"/static/bundles/metro/CommentLikedByListContainer.css/cfbb06eb7d39.css\",\"192\":\"/static/bundles/metro/DynamicExploreMediaPage.css/3c806298f0c1.css\",\"193\":\"/static/bundles/metro/DiscoverMediaPageContainer.css/5c7b7524b83c.css\",\"194\":\"/static/bundles/metro/DiscoverPeoplePageContainer.css/9675385ad57c.css\",\"195\":\"/static/bundles/metro/EmailConfirmationPage.css/d3ff48c961de.css\",\"196\":\"/static/bundles/metro/EmailReportBadPasswordResetPage.css/e4462019534b.css\",\"197\":\"/static/bundles/metro/FBSignupPage.css/5e365c4760d1.css\",\"198\":\"/static/bundles/metro/NewUserInterstitial.css/985ba0d5ab88.css\",\"199\":\"/static/bundles/metro/MultiStepSignupPage.css/a68014a02954.css\",\"200\":\"/static/bundles/metro/EmptyFeedPage.css/aca00e00c692.css\",\"202\":\"/static/bundles/metro/FeedEndSuggestedUserUnit.css/97ff07a6ffa3.css\",\"203\":\"/static/bundles/metro/FeedSidebarContainer.css/a5a0913586eb.css\",\"204\":\"/static/bundles/metro/SuggestedUserFeedUnitContainer.css/cbc64528fb4d.css\",\"205\":\"/static/bundles/metro/InFeedStoryTray.css/2f6c17556f2d.css\",\"206\":\"/static/bundles/metro/FeedPageContainer.css/ee147bc4227f.css\",\"207\":\"/static/bundles/metro/FollowListModal.css/d7b3e1b5a813.css\",\"208\":\"/static/bundles/metro/FollowListPage.css/e86b8808fd5f.css\",\"209\":\"/static/bundles/metro/SimilarAccountsPage.css/0d522d620a5f.css\",\"210\":\"/static/bundles/metro/LiveBroadcastPage.css/00214dc782ca.css\",\"212\":\"/static/bundles/metro/LandingPage.css/9e1e686a9abd.css\",\"213\":\"/static/bundles/metro/LocationsDirectoryCountryPage.css/4dacfdb3fce0.css\",\"214\":\"/static/bundles/metro/LocationsDirectoryCityPage.css/4dacfdb3fce0.css\",\"215\":\"/static/bundles/metro/LocationPageContainer.css/e59a8204f1fc.css\",\"216\":\"/static/bundles/metro/LocationsDirectoryLandingPage.css/8d8beac67daf.css\",\"217\":\"/static/bundles/metro/LoginAndSignupPage.css/6a800c588f0a.css\",\"218\":\"/static/bundles/metro/FXCalLinkingAuthForm.css/5755af3a0372.css\",\"219\":\"/static/bundles/metro/UpdateIGAppForHelpPage.css/6fb2336f846b.css\",\"220\":\"/static/bundles/metro/ResetPasswordPageContainer.css/68d92b16f480.css\",\"221\":\"/static/bundles/metro/MobileAllCommentsPage.css/0da816d28cac.css\",\"222\":\"/static/bundles/metro/MediaChainingPageContainer.css/931fc36543ba.css\",\"223\":\"/static/bundles/metro/PostPageContainer.css/293183b85aba.css\",\"224\":\"/static/bundles/metro/ProfilesDirectoryLandingPage.css/b406e80cc262.css\",\"225\":\"/static/bundles/metro/HashtagsDirectoryLandingPage.css/b406e80cc262.css\",\"226\":\"/static/bundles/metro/SuggestedDirectoryLandingPage.css/b406e80cc262.css\",\"227\":\"/static/bundles/metro/TagPageContainer.css/2644eef1878a.css\",\"228\":\"/static/bundles/metro/PhoneConfirmPage.css/d899349b3a7b.css\",\"230\":\"/static/bundles/metro/ProfilePageContainer.css/ddaba3685adb.css\",\"231\":\"/static/bundles/metro/HttpErrorPage.css/97acfee23c4f.css\",\"232\":\"/static/bundles/metro/IGTVVideoDraftsPageContainer.css/fb2011d7dca4.css\",\"233\":\"/static/bundles/metro/IGTVVideoUploadPageContainer.css/8f1406ecfdde.css\",\"234\":\"/static/bundles/metro/OAuthPermissionsPage.css/f127ac651626.css\",\"235\":\"/static/bundles/metro/MobileDirectPage.css/975ef0d3ce04.css\",\"236\":\"/static/bundles/metro/DesktopDirectPage.css/dcea9bc9bb1d.css\",\"237\":\"/static/bundles/metro/GuidePage.css/bfd8fab92546.css\",\"238\":\"/static/bundles/metro/OneTapUpsell.css/6749fb274e6d.css\",\"239\":\"/static/bundles/metro/NametagLandingPage.css/a354587c3fd6.css\",\"240\":\"/static/bundles/metro/LocalDevTransactionToolSelectorPage.css/3f8f9bb4c8a7.css\",\"241\":\"/static/bundles/metro/FBEAppStoreErrorPage.css/37c4f5efdab6.css\",\"242\":\"/static/bundles/metro/BloksShellPage.css/37e723bd93bb.css\",\"243\":\"/static/bundles/metro/BusinessCategoryPageContainer.css/b077c4372cce.css\",\"244\":\"/static/bundles/metro/ActivityFeedBox.css/e4504d071c5f.css\",\"246\":\"/static/bundles/metro/DebugInfoNub.css/4bc325bd3e84.css\",\"248\":\"/static/bundles/metro/Consumer.css/3e0c88f3bf5f.css\",\"249\":\"/static/bundles/metro/Challenge.css/5d5008948b86.css\",\"270\":\"/static/bundles/metro/EmbedVideoWrapper.css/5ad11e7c904b.css\",\"271\":\"/static/bundles/metro/EmbedSidecarEntrypoint.css/bb920a294a50.css\",\"272\":\"/static/bundles/metro/EmbedRich.css/cf14d8f1a45b.css\"}}</script>\\n<script type=\"text/javascript\" src=\"/static/bundles/metro/Polyfills.js/403a1e4e9d95.js\" crossorigin=\"anonymous\"></script>\\n<script type=\"text/javascript\" src=\"/static/bundles/metro/Vendor.js/5a56d51ae30f.js\" crossorigin=\"anonymous\"></script>\\n<script type=\"text/javascript\" src=\"/static/bundles/metro/en_US.js/8e3da7b52644.js\" crossorigin=\"anonymous\"></script>\\n<script type=\"text/javascript\" src=\"/static/bundles/metro/ConsumerLibCommons.js/05410ad63474.js\" crossorigin=\"anonymous\"></script>\\n<script type=\"text/javascript\" src=\"/static/bundles/metro/ConsumerUICommons.js/43a9329f0abc.js\" crossorigin=\"anonymous\"></script>\\n<script type=\"text/javascript\" src=\"/static/bundles/metro/ConsumerAsyncCommons.js/e4644ebe45be.js\" crossorigin=\"anonymous\"></script>\\n<script type=\"text/javascript\" src=\"/static/bundles/metro/Consumer.js/bf98dbd2ada8.js\" crossorigin=\"anonymous\" charset=\"utf-8\" async=\"\"></script>\\n<script type=\"text/javascript\" src=\"/static/bundles/metro/PostPageContainer.js/0632a0c45754.js\" crossorigin=\"anonymous\" charset=\"utf-8\" async=\"\"></script>\\n\\n            \\n        \\n\\n        <script type=\"text/javascript\">\\n(function(){\\n  function normalizeError(err) {\\n    var errorInfo = err.error || {};\\n    var getConfigProp = function(propName, defaultValueIfNotTruthy) {\\n      var propValue = window._sharedData && window._sharedData[propName];\\n      return propValue ? propValue : defaultValueIfNotTruthy;\\n    };\\n    is_canary = getConfigProp(\\'is_canary\\', false);\\n    is_c1 = getConfigProp(\\'is_c1\\', is_canary);\\n    return {\\n      line: err.line || errorInfo.message || 0,\\n      column: err.column || 0,\\n      name: \\'InitError\\',\\n      message: err.message || errorInfo.message || \\'\\',\\n      script: errorInfo.script || \\'\\',\\n      stack: errorInfo.stackTrace || errorInfo.stack || \\'\\',\\n      timestamp: Date.now(),\\n      ref: window.location.href,\\n      deployment_stage: getConfigProp(\\'deployment_stage\\', \\'\\'),\\n      is_c1: is_c1,\\n      is_canary: is_canary,\\n      rollout_hash: getConfigProp(\\'rollout_hash\\', \\'\\'),\\n      is_prerelease: window.__PRERELEASE__ || false,\\n      bundle_variant: getConfigProp(\\'bundle_variant\\', null),\\n      request_url: err.url || window.location.href,\\n      response_status_code: errorInfo.statusCode || 0\\n    }\\n  }\\n  window.addEventListener(\\'load\\', function(){\\n    if (window.__bufferedErrors && window.__bufferedErrors.length) {\\n      if (window.caches && window.caches.keys && window.caches.delete) {\\n        window.caches.keys().then(function(keys) {\\n          keys.forEach(function(key) {\\n            window.caches.delete(key)\\n          })\\n        })\\n      }\\n      window.__bufferedErrors.map(function(error) {\\n        return normalizeError(error)\\n      }).forEach(function(normalizedError) {\\n        var request = new XMLHttpRequest();\\n        request.open(\\'POST\\', \\'/client_error/\\', true);\\n        request.setRequestHeader(\\'Content-Type\\', \\'application/json; charset=utf-8\\');\\n        request.send(JSON.stringify(normalizedError));\\n      })\\n    }\\n  })\\n}());\\n</script>\\n    </body>\\n</html>\\n'"
      ]
     },
     "execution_count": 28,
     "metadata": {},
     "output_type": "execute_result"
    }
   ],
   "source": [
    "r.text"
   ]
  },
  {
   "cell_type": "code",
   "execution_count": 52,
   "metadata": {
    "ExecuteTime": {
     "end_time": "2020-05-28T16:53:19.679031Z",
     "start_time": "2020-05-28T16:53:19.674614Z"
    }
   },
   "outputs": [
    {
     "data": {
      "text/plain": [
       "22246"
      ]
     },
     "execution_count": 52,
     "metadata": {},
     "output_type": "execute_result"
    }
   ],
   "source": [
    "r.text.find('hd')"
   ]
  },
  {
   "cell_type": "code",
   "execution_count": 51,
   "metadata": {
    "ExecuteTime": {
     "end_time": "2020-05-28T16:52:57.816969Z",
     "start_time": "2020-05-28T16:52:57.812419Z"
    }
   },
   "outputs": [
    {
     "data": {
      "text/plain": [
       "'\\n'"
      ]
     },
     "execution_count": 51,
     "metadata": {},
     "output_type": "execute_result"
    }
   ],
   "source": [
    "r.text[-1:]"
   ]
  },
  {
   "cell_type": "code",
   "execution_count": 56,
   "metadata": {
    "ExecuteTime": {
     "end_time": "2020-05-28T17:11:23.899021Z",
     "start_time": "2020-05-28T17:11:23.894030Z"
    }
   },
   "outputs": [
    {
     "name": "stdout",
     "output_type": "stream",
     "text": [
      "aeeaaaohello\n"
     ]
    }
   ],
   "source": [
    "import unicodedata\n",
    "\n",
    "def normalize_text(text):\n",
    "    try:\n",
    "        text = unicode(text, 'utf-8')\n",
    "    except NameError: # unicode is a default on python 3 \n",
    "        pass\n",
    "    text = unicodedata.normalize('NFD', text)\\\n",
    "           .encode('ascii', 'ignore')\\\n",
    "           .decode(\"utf-8\")\n",
    "    return str(text).lower()\n",
    "\n",
    "s = normalize_text('àéêAAAöhello')\n",
    "\n",
    "print(s)"
   ]
  },
  {
   "cell_type": "code",
   "execution_count": null,
   "metadata": {},
   "outputs": [],
   "source": []
  }
 ],
 "metadata": {
  "kernelspec": {
   "display_name": "Python 3",
   "language": "python",
   "name": "python3"
  },
  "varInspector": {
   "cols": {
    "lenName": 16,
    "lenType": 16,
    "lenVar": 40
   },
   "kernels_config": {
    "python": {
     "delete_cmd_postfix": "",
     "delete_cmd_prefix": "del ",
     "library": "var_list.py",
     "varRefreshCmd": "print(var_dic_list())"
    },
    "r": {
     "delete_cmd_postfix": ") ",
     "delete_cmd_prefix": "rm(",
     "library": "var_list.r",
     "varRefreshCmd": "cat(var_dic_list()) "
    }
   },
   "types_to_exclude": [
    "module",
    "function",
    "builtin_function_or_method",
    "instance",
    "_Feature"
   ],
   "window_display": false
  }
 },
 "nbformat": 4,
 "nbformat_minor": 4
}
