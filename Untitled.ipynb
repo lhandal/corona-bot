{
 "cells": [
  {
   "cell_type": "code",
   "execution_count": 21,
   "metadata": {
    "ExecuteTime": {
     "end_time": "2020-05-28T16:43:35.063290Z",
     "start_time": "2020-05-28T16:43:32.489480Z"
    }
   },
   "outputs": [],
   "source": [
    "import emoji\n",
    "from twilio.twiml.messaging_response import MessagingResponse\n",
    "from flask import request\n",
    "import requests\n",
    "from bs4 import BeautifulSoup\n",
    "import pandas as pd\n",
    "import re"
   ]
  },
  {
   "cell_type": "code",
   "execution_count": 11,
   "metadata": {
    "ExecuteTime": {
     "end_time": "2020-05-28T00:37:45.528399Z",
     "start_time": "2020-05-28T00:37:45.523685Z"
    }
   },
   "outputs": [],
   "source": [
    "resp = MessagingResponse()\n",
    "msg = resp.message()\n",
    "responded = False\n",
    "\n",
    "text = 'Hola! :wave:'\n",
    "# text = emoji.emojize(f'*Hola! :wave:*', use_aliases=True)\n",
    "msg = msg.body(emoji.emojize(text, use_aliases=True))\n",
    "responded = True"
   ]
  },
  {
   "cell_type": "code",
   "execution_count": 225,
   "metadata": {
    "ExecuteTime": {
     "end_time": "2020-05-28T03:07:54.494974Z",
     "start_time": "2020-05-28T03:07:53.754145Z"
    }
   },
   "outputs": [
    {
     "name": "stdout",
     "output_type": "stream",
     "text": [
      "7,768 280 689\n"
     ]
    },
    {
     "ename": "NameError",
     "evalue": "name 'nacional' is not defined",
     "output_type": "error",
     "traceback": [
      "\u001b[0;31m---------------------------------------------------------------------------\u001b[0m",
      "\u001b[0;31mNameError\u001b[0m                                 Traceback (most recent call last)",
      "\u001b[0;32m<ipython-input-225-2e75aaff1944>\u001b[0m in \u001b[0;36m<module>\u001b[0;34m\u001b[0m\n\u001b[1;32m     35\u001b[0m     \u001b[0mstep\u001b[0m\u001b[0;34m+=\u001b[0m\u001b[0;36m5\u001b[0m\u001b[0;34m\u001b[0m\u001b[0;34m\u001b[0m\u001b[0m\n\u001b[1;32m     36\u001b[0m \u001b[0;34m\u001b[0m\u001b[0m\n\u001b[0;32m---> 37\u001b[0;31m \u001b[0mnacional\u001b[0m\u001b[0;34m\u001b[0m\u001b[0;34m\u001b[0m\u001b[0m\n\u001b[0m\u001b[1;32m     38\u001b[0m \u001b[0;34m\u001b[0m\u001b[0m\n\u001b[1;32m     39\u001b[0m \u001b[0;34m\u001b[0m\u001b[0m\n",
      "\u001b[0;31mNameError\u001b[0m: name 'nacional' is not defined"
     ]
    }
   ],
   "source": [
    "page = requests.get('https://www.boliviasegura.gob.bo/')\n",
    "\n",
    "soup = BeautifulSoup(page.content, 'html.parser')\n",
    "\n",
    "item = soup.select('body > div.container > div.row.mapa > div > div:nth-child(2) > div > div.col-lg-5.col-md-5.col-sm-12.mapanuevos')\n",
    "\n",
    "def cleanhtml(raw_html):\n",
    "    raw_html = str(raw_html)\n",
    "    cleanr = re.compile('<.*?>')\n",
    "    cleantext = re.sub(cleanr, '', raw_html)\n",
    "    return cleantext\n",
    "\n",
    "fecha = cleanhtml(soup.find_all('h5')[0])\n",
    "fecha\n",
    "\n",
    "nacional_hoy = cleanhtml(soup.find_all('h4')[0])\n",
    "nacional_hoy\n",
    "\n",
    "nacional_total = cleanhtml(soup.find_all('td')[:3][0])\n",
    "nacional_decesos = cleanhtml(soup.find_all('td')[:3][1])\n",
    "nacional_recuperados = cleanhtml(soup.find_all('td')[:3][2])\n",
    "print(nacional_total,\n",
    "nacional_decesos,\n",
    "nacional_recuperados)\n",
    "\n",
    "ls = []\n",
    "for element in soup.find_all('td')[3:48]:\n",
    "    ls.append(cleanhtml(element))\n",
    "\n",
    "departamentos = ls[0::5]\n",
    "\n",
    "step=0\n",
    "for dep in departamentos:\n",
    "    exec(str(dep.lower().replace(' ','_'))+f'={ls[step:5+step]}')\n",
    "    step+=5\n",
    "\n",
    "nacional\n",
    "\n",
    "\n"
   ]
  },
  {
   "cell_type": "code",
   "execution_count": 77,
   "metadata": {
    "ExecuteTime": {
     "end_time": "2020-05-28T01:33:39.849633Z",
     "start_time": "2020-05-28T01:33:39.805109Z"
    }
   },
   "outputs": [],
   "source": [
    "soup = BeautifulSoup(page.content, 'html.parser')"
   ]
  },
  {
   "cell_type": "code",
   "execution_count": 83,
   "metadata": {
    "ExecuteTime": {
     "end_time": "2020-05-28T01:39:15.817575Z",
     "start_time": "2020-05-28T01:39:15.798496Z"
    }
   },
   "outputs": [],
   "source": [
    "item = soup.select('body > div.container > div.row.mapa > div > div:nth-child(2) > div > div.col-lg-5.col-md-5.col-sm-12.mapanuevos')"
   ]
  },
  {
   "cell_type": "code",
   "execution_count": 138,
   "metadata": {
    "ExecuteTime": {
     "end_time": "2020-05-28T01:52:41.136377Z",
     "start_time": "2020-05-28T01:52:41.132684Z"
    }
   },
   "outputs": [],
   "source": [
    "def cleanhtml(raw_html):\n",
    "    raw_html = str(raw_html)\n",
    "    cleanr = re.compile('<.*?>')\n",
    "    cleantext = re.sub(cleanr, '', raw_html)\n",
    "    return cleantext"
   ]
  },
  {
   "cell_type": "code",
   "execution_count": 154,
   "metadata": {
    "ExecuteTime": {
     "end_time": "2020-05-28T01:57:14.540919Z",
     "start_time": "2020-05-28T01:57:14.523931Z"
    }
   },
   "outputs": [
    {
     "data": {
      "text/plain": [
       "'Martes, 26 de Mayo de 2020'"
      ]
     },
     "execution_count": 154,
     "metadata": {},
     "output_type": "execute_result"
    }
   ],
   "source": [
    "fecha = cleanhtml(soup.find_all('h5')[0])\n",
    "fecha"
   ]
  },
  {
   "cell_type": "code",
   "execution_count": 155,
   "metadata": {
    "ExecuteTime": {
     "end_time": "2020-05-28T01:57:19.028581Z",
     "start_time": "2020-05-28T01:57:19.020739Z"
    }
   },
   "outputs": [
    {
     "data": {
      "text/plain": [
       "'CONFIRMADOS HOY: 476'"
      ]
     },
     "execution_count": 155,
     "metadata": {},
     "output_type": "execute_result"
    }
   ],
   "source": [
    "nacional_hoy = cleanhtml(soup.find_all('h4')[0])\n",
    "nacional_hoy"
   ]
  },
  {
   "cell_type": "code",
   "execution_count": 158,
   "metadata": {
    "ExecuteTime": {
     "end_time": "2020-05-28T01:58:37.434495Z",
     "start_time": "2020-05-28T01:58:37.427511Z"
    }
   },
   "outputs": [
    {
     "name": "stdout",
     "output_type": "stream",
     "text": [
      "7,136 274 677\n"
     ]
    }
   ],
   "source": [
    "nacional_total = cleanhtml(soup.find_all('td')[:3][0])\n",
    "nacional_decesos = cleanhtml(soup.find_all('td')[:3][1])\n",
    "nacional_recuperados = cleanhtml(soup.find_all('td')[:3][2])\n",
    "print(nacional_total,\n",
    "nacional_decesos,\n",
    "nacional_recuperados)"
   ]
  },
  {
   "cell_type": "code",
   "execution_count": 170,
   "metadata": {
    "ExecuteTime": {
     "end_time": "2020-05-28T02:02:08.127349Z",
     "start_time": "2020-05-28T02:02:08.121323Z"
    }
   },
   "outputs": [],
   "source": [
    "ls = []\n",
    "for element in soup.find_all('td')[3:48]:\n",
    "    ls.append(cleanhtml(element))"
   ]
  },
  {
   "cell_type": "code",
   "execution_count": 207,
   "metadata": {
    "ExecuteTime": {
     "end_time": "2020-05-28T02:24:37.780600Z",
     "start_time": "2020-05-28T02:24:37.777397Z"
    }
   },
   "outputs": [],
   "source": [
    "departamentos = ls[0::5]"
   ]
  },
  {
   "cell_type": "code",
   "execution_count": 208,
   "metadata": {
    "ExecuteTime": {
     "end_time": "2020-05-28T02:24:38.220808Z",
     "start_time": "2020-05-28T02:24:38.216920Z"
    }
   },
   "outputs": [],
   "source": [
    "step=0\n",
    "for dep in departamentos:\n",
    "    exec(str(dep.lower().replace(' ','_'))+f'={ls[step:5+step]}')\n",
    "    step+=5"
   ]
  },
  {
   "cell_type": "code",
   "execution_count": 210,
   "metadata": {
    "ExecuteTime": {
     "end_time": "2020-05-28T02:25:15.783326Z",
     "start_time": "2020-05-28T02:25:15.779256Z"
    }
   },
   "outputs": [
    {
     "data": {
      "text/plain": [
       "['La Paz', '7', '410', '24', '219']"
      ]
     },
     "execution_count": 210,
     "metadata": {},
     "output_type": "execute_result"
    }
   ],
   "source": [
    "la_paz"
   ]
  },
  {
   "cell_type": "code",
   "execution_count": null,
   "metadata": {},
   "outputs": [],
   "source": []
  },
  {
   "cell_type": "code",
   "execution_count": 177,
   "metadata": {
    "ExecuteTime": {
     "end_time": "2020-05-28T02:09:53.973071Z",
     "start_time": "2020-05-28T02:09:53.969751Z"
    }
   },
   "outputs": [],
   "source": [
    "departamentos = ls[0::5]\n",
    "dep_hoy = ls[1::5]\n",
    "dep_total = ls[2::5]\n",
    "dep_decesos = ls[3::5]\n",
    "dep_recuperadps = ls[4::5]"
   ]
  },
  {
   "cell_type": "code",
   "execution_count": 188,
   "metadata": {
    "ExecuteTime": {
     "end_time": "2020-05-28T02:16:12.069108Z",
     "start_time": "2020-05-28T02:16:12.050944Z"
    }
   },
   "outputs": [
    {
     "data": {
      "text/html": [
       "<div>\n",
       "<style scoped>\n",
       "    .dataframe tbody tr th:only-of-type {\n",
       "        vertical-align: middle;\n",
       "    }\n",
       "\n",
       "    .dataframe tbody tr th {\n",
       "        vertical-align: top;\n",
       "    }\n",
       "\n",
       "    .dataframe thead th {\n",
       "        text-align: right;\n",
       "    }\n",
       "</style>\n",
       "<table border=\"1\" class=\"dataframe\">\n",
       "  <thead>\n",
       "    <tr style=\"text-align: right;\">\n",
       "      <th></th>\n",
       "      <th>dep_hoy</th>\n",
       "      <th>dep_total</th>\n",
       "      <th>dep_recuperadps</th>\n",
       "      <th>dep_decesos</th>\n",
       "    </tr>\n",
       "  </thead>\n",
       "  <tbody>\n",
       "    <tr>\n",
       "      <th>Beni</th>\n",
       "      <td>100</td>\n",
       "      <td>77</td>\n",
       "      <td>1,242</td>\n",
       "      <td>8</td>\n",
       "    </tr>\n",
       "    <tr>\n",
       "      <th>Chuquisaca</th>\n",
       "      <td>0</td>\n",
       "      <td>2</td>\n",
       "      <td>22</td>\n",
       "      <td>11</td>\n",
       "    </tr>\n",
       "    <tr>\n",
       "      <th>Cochabamba</th>\n",
       "      <td>6</td>\n",
       "      <td>18</td>\n",
       "      <td>345</td>\n",
       "      <td>60</td>\n",
       "    </tr>\n",
       "    <tr>\n",
       "      <th>La Paz</th>\n",
       "      <td>7</td>\n",
       "      <td>24</td>\n",
       "      <td>410</td>\n",
       "      <td>219</td>\n",
       "    </tr>\n",
       "    <tr>\n",
       "      <th>Oruro</th>\n",
       "      <td>2</td>\n",
       "      <td>13</td>\n",
       "      <td>153</td>\n",
       "      <td>72</td>\n",
       "    </tr>\n",
       "    <tr>\n",
       "      <th>Pando</th>\n",
       "      <td>0</td>\n",
       "      <td>1</td>\n",
       "      <td>13</td>\n",
       "      <td>7</td>\n",
       "    </tr>\n",
       "    <tr>\n",
       "      <th>Potosí</th>\n",
       "      <td>0</td>\n",
       "      <td>1</td>\n",
       "      <td>44</td>\n",
       "      <td>20</td>\n",
       "    </tr>\n",
       "    <tr>\n",
       "      <th>Santa Cruz</th>\n",
       "      <td>361</td>\n",
       "      <td>135</td>\n",
       "      <td>4,888</td>\n",
       "      <td>273</td>\n",
       "    </tr>\n",
       "    <tr>\n",
       "      <th>Tarija</th>\n",
       "      <td>0</td>\n",
       "      <td>3</td>\n",
       "      <td>19</td>\n",
       "      <td>7</td>\n",
       "    </tr>\n",
       "  </tbody>\n",
       "</table>\n",
       "</div>"
      ],
      "text/plain": [
       "           dep_hoy dep_total dep_recuperadps dep_decesos\n",
       "Beni           100        77           1,242           8\n",
       "Chuquisaca       0         2              22          11\n",
       "Cochabamba       6        18             345          60\n",
       "La Paz           7        24             410         219\n",
       "Oruro            2        13             153          72\n",
       "Pando            0         1              13           7\n",
       "Potosí           0         1              44          20\n",
       "Santa Cruz     361       135           4,888         273\n",
       "Tarija           0         3              19           7"
      ]
     },
     "execution_count": 188,
     "metadata": {},
     "output_type": "execute_result"
    }
   ],
   "source": [
    "df = pd.DataFrame(index=departamentos)\n",
    "df['dep_hoy'] = dep_hoy\n",
    "df['dep_total'] = dep_decesos\n",
    "df['dep_recuperadps'] = dep_total\n",
    "df['dep_decesos'] = dep_recuperadps\n",
    "df"
   ]
  },
  {
   "cell_type": "code",
   "execution_count": 190,
   "metadata": {
    "ExecuteTime": {
     "end_time": "2020-05-28T02:17:43.821527Z",
     "start_time": "2020-05-28T02:17:43.748750Z"
    }
   },
   "outputs": [
    {
     "ename": "TypeError",
     "evalue": "Cannot index by location index with a non-integer key",
     "output_type": "error",
     "traceback": [
      "\u001b[0;31m---------------------------------------------------------------------------\u001b[0m",
      "\u001b[0;31mTypeError\u001b[0m                                 Traceback (most recent call last)",
      "\u001b[0;32m<ipython-input-190-53951446c978>\u001b[0m in \u001b[0;36m<module>\u001b[0;34m\u001b[0m\n\u001b[0;32m----> 1\u001b[0;31m \u001b[0mdf\u001b[0m\u001b[0;34m.\u001b[0m\u001b[0miloc\u001b[0m\u001b[0;34m[\u001b[0m\u001b[0;34m'Beni'\u001b[0m\u001b[0;34m]\u001b[0m\u001b[0;34m\u001b[0m\u001b[0;34m\u001b[0m\u001b[0m\n\u001b[0m",
      "\u001b[0;32m/opt/anaconda3/envs/wa/lib/python3.6/site-packages/pandas/core/indexing.py\u001b[0m in \u001b[0;36m__getitem__\u001b[0;34m(self, key)\u001b[0m\n\u001b[1;32m   1766\u001b[0m \u001b[0;34m\u001b[0m\u001b[0m\n\u001b[1;32m   1767\u001b[0m             \u001b[0mmaybe_callable\u001b[0m \u001b[0;34m=\u001b[0m \u001b[0mcom\u001b[0m\u001b[0;34m.\u001b[0m\u001b[0mapply_if_callable\u001b[0m\u001b[0;34m(\u001b[0m\u001b[0mkey\u001b[0m\u001b[0;34m,\u001b[0m \u001b[0mself\u001b[0m\u001b[0;34m.\u001b[0m\u001b[0mobj\u001b[0m\u001b[0;34m)\u001b[0m\u001b[0;34m\u001b[0m\u001b[0;34m\u001b[0m\u001b[0m\n\u001b[0;32m-> 1768\u001b[0;31m             \u001b[0;32mreturn\u001b[0m \u001b[0mself\u001b[0m\u001b[0;34m.\u001b[0m\u001b[0m_getitem_axis\u001b[0m\u001b[0;34m(\u001b[0m\u001b[0mmaybe_callable\u001b[0m\u001b[0;34m,\u001b[0m \u001b[0maxis\u001b[0m\u001b[0;34m=\u001b[0m\u001b[0maxis\u001b[0m\u001b[0;34m)\u001b[0m\u001b[0;34m\u001b[0m\u001b[0;34m\u001b[0m\u001b[0m\n\u001b[0m\u001b[1;32m   1769\u001b[0m \u001b[0;34m\u001b[0m\u001b[0m\n\u001b[1;32m   1770\u001b[0m     \u001b[0;32mdef\u001b[0m \u001b[0m_is_scalar_access\u001b[0m\u001b[0;34m(\u001b[0m\u001b[0mself\u001b[0m\u001b[0;34m,\u001b[0m \u001b[0mkey\u001b[0m\u001b[0;34m:\u001b[0m \u001b[0mTuple\u001b[0m\u001b[0;34m)\u001b[0m\u001b[0;34m:\u001b[0m\u001b[0;34m\u001b[0m\u001b[0;34m\u001b[0m\u001b[0m\n",
      "\u001b[0;32m/opt/anaconda3/envs/wa/lib/python3.6/site-packages/pandas/core/indexing.py\u001b[0m in \u001b[0;36m_getitem_axis\u001b[0;34m(self, key, axis)\u001b[0m\n\u001b[1;32m   2133\u001b[0m             \u001b[0mkey\u001b[0m \u001b[0;34m=\u001b[0m \u001b[0mitem_from_zerodim\u001b[0m\u001b[0;34m(\u001b[0m\u001b[0mkey\u001b[0m\u001b[0;34m)\u001b[0m\u001b[0;34m\u001b[0m\u001b[0;34m\u001b[0m\u001b[0m\n\u001b[1;32m   2134\u001b[0m             \u001b[0;32mif\u001b[0m \u001b[0;32mnot\u001b[0m \u001b[0mis_integer\u001b[0m\u001b[0;34m(\u001b[0m\u001b[0mkey\u001b[0m\u001b[0;34m)\u001b[0m\u001b[0;34m:\u001b[0m\u001b[0;34m\u001b[0m\u001b[0;34m\u001b[0m\u001b[0m\n\u001b[0;32m-> 2135\u001b[0;31m                 \u001b[0;32mraise\u001b[0m \u001b[0mTypeError\u001b[0m\u001b[0;34m(\u001b[0m\u001b[0;34m\"Cannot index by location index with a non-integer key\"\u001b[0m\u001b[0;34m)\u001b[0m\u001b[0;34m\u001b[0m\u001b[0;34m\u001b[0m\u001b[0m\n\u001b[0m\u001b[1;32m   2136\u001b[0m \u001b[0;34m\u001b[0m\u001b[0m\n\u001b[1;32m   2137\u001b[0m             \u001b[0;31m# validate the location\u001b[0m\u001b[0;34m\u001b[0m\u001b[0;34m\u001b[0m\u001b[0;34m\u001b[0m\u001b[0m\n",
      "\u001b[0;31mTypeError\u001b[0m: Cannot index by location index with a non-integer key"
     ]
    }
   ],
   "source": [
    "df.iloc[]"
   ]
  },
  {
   "cell_type": "code",
   "execution_count": null,
   "metadata": {},
   "outputs": [],
   "source": []
  },
  {
   "cell_type": "code",
   "execution_count": 214,
   "metadata": {
    "ExecuteTime": {
     "end_time": "2020-05-28T02:51:00.920191Z",
     "start_time": "2020-05-28T02:51:00.917691Z"
    }
   },
   "outputs": [],
   "source": [
    "incoming ='la paz'"
   ]
  },
  {
   "cell_type": "code",
   "execution_count": 217,
   "metadata": {
    "ExecuteTime": {
     "end_time": "2020-05-28T02:51:58.513503Z",
     "start_time": "2020-05-28T02:51:58.509281Z"
    }
   },
   "outputs": [
    {
     "data": {
      "text/plain": [
       "['Beni',\n",
       " 'Chuquisaca',\n",
       " 'Cochabamba',\n",
       " 'La Paz',\n",
       " 'Oruro',\n",
       " 'Pando',\n",
       " 'Potosí',\n",
       " 'Santa Cruz',\n",
       " 'Tarija']"
      ]
     },
     "execution_count": 217,
     "metadata": {},
     "output_type": "execute_result"
    }
   ],
   "source": [
    "departamentos"
   ]
  },
  {
   "cell_type": "code",
   "execution_count": 223,
   "metadata": {
    "ExecuteTime": {
     "end_time": "2020-05-28T02:55:38.732873Z",
     "start_time": "2020-05-28T02:55:38.727577Z"
    }
   },
   "outputs": [
    {
     "name": "stdout",
     "output_type": "stream",
     "text": [
      "la_paz\n"
     ]
    }
   ],
   "source": [
    "if any(dep.lower().replace(' ','_') in incoming.lower().replace(' ','_') for dep in departamentos):\n",
    "    print(incoming.lower().replace(' ','_'))"
   ]
  },
  {
   "cell_type": "code",
   "execution_count": null,
   "metadata": {},
   "outputs": [],
   "source": []
  },
  {
   "cell_type": "code",
   "execution_count": null,
   "metadata": {},
   "outputs": [],
   "source": []
  },
  {
   "cell_type": "code",
   "execution_count": null,
   "metadata": {},
   "outputs": [],
   "source": []
  },
  {
   "cell_type": "code",
   "execution_count": null,
   "metadata": {},
   "outputs": [],
   "source": []
  },
  {
   "cell_type": "code",
   "execution_count": 3,
   "metadata": {
    "ExecuteTime": {
     "end_time": "2020-05-28T16:19:46.807425Z",
     "start_time": "2020-05-28T16:19:46.804685Z"
    }
   },
   "outputs": [],
   "source": [
    "from twilio.rest import Client"
   ]
  },
  {
   "cell_type": "code",
   "execution_count": 57,
   "metadata": {
    "ExecuteTime": {
     "end_time": "2020-05-28T18:09:42.071006Z",
     "start_time": "2020-05-28T18:09:41.226006Z"
    }
   },
   "outputs": [
    {
     "name": "stdout",
     "output_type": "stream",
     "text": [
      "SM0a7d2f7573ad43a485224165e64a7553\n"
     ]
    }
   ],
   "source": [
    "account_sid = 'AC667fbac37254b78ca7b095a9c0f3276a'\n",
    "auth_token = '20008dd197eaee728fdcfca628a428dc'\n",
    "client = Client(account_sid, auth_token)\n",
    "\n",
    "message = client.messages.create(\n",
    "                              body='testing.com--> result a hyperlink on whatsapp testing. com--> result as text',\n",
    "                              from_='whatsapp:+14155238886',\n",
    "                              to='whatsapp:+34695686937'\n",
    "                          )\n",
    "\n",
    "print(message.sid)"
   ]
  },
  {
   "cell_type": "code",
   "execution_count": null,
   "metadata": {},
   "outputs": [],
   "source": [
    "https://www.boliviasegura.gob.bo/archivos/noticia119.jpg"
   ]
  },
  {
   "cell_type": "code",
   "execution_count": 63,
   "metadata": {
    "ExecuteTime": {
     "end_time": "2020-05-28T18:49:52.721517Z",
     "start_time": "2020-05-28T18:49:52.717983Z"
    }
   },
   "outputs": [
    {
     "name": "stdout",
     "output_type": "stream",
     "text": [
      "https://www.boliviasegura.gob.bo/archivos/noticia130.jpg\n",
      "https://www.boliviasegura.gob.bo/archivos/noticia129.jpg\n",
      "https://www.boliviasegura.gob.bo/archivos/noticia128.jpg\n",
      "https://www.boliviasegura.gob.bo/archivos/noticia127.jpg\n",
      "https://www.boliviasegura.gob.bo/archivos/noticia126.jpg\n",
      "https://www.boliviasegura.gob.bo/archivos/noticia125.jpg\n",
      "https://www.boliviasegura.gob.bo/archivos/noticia124.jpg\n",
      "https://www.boliviasegura.gob.bo/archivos/noticia123.jpg\n",
      "https://www.boliviasegura.gob.bo/archivos/noticia122.jpg\n",
      "https://www.boliviasegura.gob.bo/archivos/noticia121.jpg\n"
     ]
    }
   ],
   "source": [
    "for i in range(130,120,-1):\n",
    "    print(f'https://www.boliviasegura.gob.bo/archivos/noticia{str(i)}.jpg')"
   ]
  },
  {
   "cell_type": "code",
   "execution_count": 134,
   "metadata": {
    "ExecuteTime": {
     "end_time": "2020-05-28T19:23:31.116988Z",
     "start_time": "2020-05-28T19:23:29.497992Z"
    }
   },
   "outputs": [],
   "source": [
    "def get_comm():\n",
    "    x = requests.get(f'https://www.boliviasegura.gob.bo/comunicados.php').text.find('COMUNICADO ')\n",
    "    text = requests.get(f'https://www.boliviasegura.gob.bo/comunicados.php').text[x:].split('><img')[0]\n",
    "    num = text.split('?Seleccion=')[1][:-1]\n",
    "    jpg = f\"https://www.boliviasegura.gob.bo/archivos/noticia{num}.jpg\"\n",
    "    header = text.split('</a>')[0]\n",
    "    \n",
    "    return header, jpg"
   ]
  },
  {
   "cell_type": "code",
   "execution_count": 129,
   "metadata": {
    "ExecuteTime": {
     "end_time": "2020-05-28T19:21:16.184597Z",
     "start_time": "2020-05-28T19:21:16.180013Z"
    }
   },
   "outputs": [
    {
     "data": {
      "text/plain": [
       "[]"
      ]
     },
     "execution_count": 129,
     "metadata": {},
     "output_type": "execute_result"
    }
   ],
   "source": []
  },
  {
   "cell_type": "code",
   "execution_count": 74,
   "metadata": {
    "ExecuteTime": {
     "end_time": "2020-05-28T18:54:29.875884Z",
     "start_time": "2020-05-28T18:54:29.202444Z"
    }
   },
   "outputs": [
    {
     "name": "stdout",
     "output_type": "stream",
     "text": [
      "https://www.boliviasegura.gob.bo/archivos/noticia150.jpg\n",
      "https://www.boliviasegura.gob.bo/comunicados_proc.php?Seleccion=150\n"
     ]
    }
   ],
   "source": [
    "for i in range(150,120,-1):\n",
    "    try:\n",
    "        requests.get(f'https://www.boliviasegura.gob.bo/archivos/noticia{str(i)}.jpg')\n",
    "        path = f'https://www.boliviasegura.gob.bo/comunicados_proc.php?Seleccion={i}'\n",
    "        img = f'https://www.boliviasegura.gob.bo/archivos/noticia{str(i)}.jpg'\n",
    "        print(img)\n",
    "        print(path)\n",
    "        break\n",
    "    except:\n",
    "        pass"
   ]
  },
  {
   "cell_type": "code",
   "execution_count": 58,
   "metadata": {
    "ExecuteTime": {
     "end_time": "2020-05-28T18:45:15.060522Z",
     "start_time": "2020-05-28T18:45:11.947164Z"
    }
   },
   "outputs": [],
   "source": [
    "r = requests.get('https://www.boliviasegura.gob.bo/comunicados.php')"
   ]
  },
  {
   "cell_type": "code",
   "execution_count": 86,
   "metadata": {
    "ExecuteTime": {
     "end_time": "2020-05-28T18:58:47.761612Z",
     "start_time": "2020-05-28T18:58:47.724482Z"
    }
   },
   "outputs": [],
   "source": [
    "soup = BeautifulSoup(r.content, 'html.parser')\n",
    "\n",
    "# item = soup.select('body > div.container > div.row.mapa > div > div:nth-child(2) > div > div.col-lg-5.col-md-5.col-sm-12.mapanuevos')"
   ]
  },
  {
   "cell_type": "code",
   "execution_count": 103,
   "metadata": {
    "ExecuteTime": {
     "end_time": "2020-05-28T19:10:40.800727Z",
     "start_time": "2020-05-28T19:10:40.733972Z"
    }
   },
   "outputs": [
    {
     "data": {
      "text/plain": [
       "<!DOCTYPE html>\n",
       "\n",
       "<html lang=\"es\">\n",
       "<head>\n",
       "<meta charset=\"utf-8\"/>\n",
       "<meta content=\"width=device-width, initial-scale=1, shrink-to-fit=no\" name=\"viewport\"/>\n",
       "<meta content=\"ie=edge\" http-equiv=\"x-ua-compatible\"/>\n",
       "<link href=\"favicon.ico\" rel=\"shortcut icon\"/>\n",
       "<link href=\"css/bootstrap.min.css\" rel=\"stylesheet\"/>\n",
       "<link href=\"css/main.css\" rel=\"stylesheet\"/>\n",
       "<link href=\"https://stackpath.bootstrapcdn.com/font-awesome/4.7.0/css/font-awesome.min.css\" rel=\"stylesheet\"/>\n",
       "<title> - Bolivia Segura</title>\n",
       "<meta content=\"\" name=\"description\"/>\n",
       "<meta content=\"Bolivia Segura, sitio oficial del Gobierno de Bolivia sobre el COVID-19\" name=\"abstract\"/>\n",
       "<meta content=\"Bolivia, COVID-19, coronavirus, cuarentena\" name=\"keywords\"/>\n",
       "<meta content=\"ES\" http-equiv=\"Content-Language\"/>\n",
       "<meta content=\"Roberto Maldonado C.  \" name=\"author\"/>\n",
       "<meta content=\"Global\" name=\"distribution\"/>\n",
       "<meta content=\"©Khainata - Web Designers \" name=\"copyright\"/>\n",
       "<meta content=\"FOLLOW,INDEX\" name=\"robots\"/>\n",
       "<link href=\"https://boliviasegura.gob.bo/archivos/.jpg\" rel=\"image_src\"/>\n",
       "</head>\n",
       "<body>\n",
       "<div style=\"display:none;\" xmlns:og=\"http://ogp.me/ns#\"> <![CDATA[ <!--OpenGraph section-->\n",
       "<meta property=\"og:image\" content=\"http://boliviasegura.gob.bo/archivos/.jpg\">\n",
       "<meta property=\"og:title\" content=\"\">\n",
       "<meta property=\"og:url\" content=\"http://boliviasegura.gob.bo/noticia_proc.php?Seleccion=\">\n",
       "<meta property=\"og:type\" content=\"article\">\n",
       "<meta property=\"og:site_name\" content=\"BoliviaSegura\">\n",
       "<meta property=\"og:description\" content=\"\">\n",
       "<meta property=\"article:published_time\" content=\"\">\n",
       "<meta property=\"article:modified_time\" content=\"\">\n",
       "<meta property=\"og:locale\" content=\"es_ES\">\n",
       "]]> </div>\n",
       "<div class=\"container\">\n",
       "<header id=\"header\">\n",
       "<div class=\"row\">\n",
       "<div class=\"col-lg-4 col-md-12 col-sm-12 logo align-content-center\"><a href=\"index.php\"><img alt=\"Bolivia Segura, sitio oficial del Gobierno de Bolivia sobre el COVID-19\" src=\"images/logo.png\"/></a></div>\n",
       "<div class=\"col-lg-6 col-md-12 col-sm-12 slogan text-center\">Sitio oficial del Gobierno de Bolivia sobre el COVID-19\n",
       "<span><br/>Llama a nuestras líneas gratuitas 800-10-1104 y 800-10-1106</span>\n",
       "</div>\n",
       "<div class=\"col-lg-2 col-md-12 col-sm-12 estado align-content-end text-right\"><a href=\"https://www.comunicacion.gob.bo/\" target=\"_blank\"><img alt=\"Gobierno del Estado Plurinacional de Bolivia\" class=\"opacity\" src=\"images/logo_estado.png\"/></a></div>\n",
       "</div>\n",
       "</header>\n",
       "<nav class=\"navbar navbar-expand-lg navbar-light bg-light row\">\n",
       "<div class=\"Derecha\">\n",
       "<button class=\"navbar-toggler\" data-target=\"#navbar-collapse\" data-toggle=\"collapse\" type=\"button\">☰</button>\n",
       "</div>\n",
       "<div class=\"collapse navbar-collapse\" id=\"navbar-collapse\">\n",
       "<ul class=\"navbar-nav mr-auto\">\n",
       "<li class=\"nav-item\">\n",
       "<a class=\"nav-link\" href=\"index.php\">Página de Inicio</a>\n",
       "</li>\n",
       "<li class=\"nav-item\">\n",
       "<a class=\"nav-link\" href=\"boliviasegura.php\">Acerca de BoliviaSegura</a>\n",
       "</li>\n",
       "<li class=\"nav-item\">\n",
       "<a class=\"nav-link\" href=\"autoevaluacion.php\">Autoevaluación COVID-19</a>\n",
       "</li>\n",
       "<li class=\"nav-item\">\n",
       "<a class=\"nav-link\" href=\"covid-19.php\">¿Qué es el COVID-19?</a>\n",
       "</li>\n",
       "<li class=\"nav-item dropdown active\">\n",
       "<a aria-expanded=\"false\" aria-haspopup=\"true\" class=\"nav-link dropdown-toggle\" data-toggle=\"dropdown\" href=\"#\" id=\"navbarDropdown\" role=\"button\">\n",
       "Información General <span class=\"sr-only\">(current)</span>\n",
       "</a>\n",
       "<div aria-labelledby=\"navbarDropdown\" class=\"dropdown-menu\"> <a class=\"dropdown-item\" href=\"informacion.php\">Población General</a>\n",
       "<a class=\"dropdown-item\" href=\"paciente-en-casa.php\">Paciente en Casa</a>\n",
       "<a class=\"dropdown-item\" href=\"adultos.php\">Adultos Mayores</a>\n",
       "<a class=\"dropdown-item\" href=\"salud.php\">Personal de Salud</a>\n",
       "<a class=\"dropdown-item\" href=\"protocolos.php\">Protocolos</a>\n",
       "<a class=\"dropdown-item\" href=\"comunicados.php\">Comunicados Oficiales</a>\n",
       "<a class=\"dropdown-item\" href=\"boliviaverifica.php\">Bolivia Verifica</a>\n",
       "</div>\n",
       "</li>\n",
       "<li class=\"nav-item\">\n",
       "<a class=\"nav-link\" href=\"medidas.php\">Medidas y Recomendaciones</a>\n",
       "</li>\n",
       "<li class=\"nav-item\">\n",
       "<a class=\"nav-link\" href=\"normativa.php\">Decretos y Normativas</a>\n",
       "</li>\n",
       "<li class=\"nav-item\">\n",
       "<a class=\"nav-link\" href=\"transparencia.php\">Transparencia Institucional</a>\n",
       "</li>\n",
       "</ul>\n",
       "<form action=\"buscador.php\" method=\"post\">\n",
       "<div class=\"form-row\">\n",
       "<div class=\"col\">\n",
       "<input aria-label=\"Buscar\" class=\"form-control form-control-sm\" id=\"Buscador\" maxlength=\"50\" name=\"Buscador\" placeholder=\"Buscar\" required=\"\" type=\"search\"/>\n",
       "</div>\n",
       "<div class=\"col\">\n",
       "<button class=\"btn btn-sm btn-secondary\" type=\"submit\"><i class=\"fa fa-search\"></i> Buscar</button>\n",
       "</div>\n",
       "</div>\n",
       "</form>\n",
       "</div>\n",
       "</nav>\n",
       "<div class=\"row main\">\n",
       "<div class=\"card\" style=\"width:100%;\">\n",
       "<div class=\"card-body\">\n",
       "<h2 class=\"card-title\">Comunicados Oficiales</h2>\n",
       "</div>\n",
       "<div class=\"card-body\">\n",
       "<div class=\"row\">\n",
       "<div class=\"col-lg-12 col-md-12 col-sm-12 noticias\">\n",
       "<meta content=\"\" itemprop=\"postId\">\n",
       "<meta content=\"http://boliviasegura.gob.bo/noticias_proc.php?Seleccion=\" itemprop=\"url\">\n",
       "<meta content=\"http://boliviasegura.gob.bo/archivos/.jpg\" itemprop=\"image_url\">\n",
       "<h1 align=\"center\" itemprop=\"headline\"></h1>\n",
       "<p itemprop=\"description\"></p>\n",
       "<div class=\"Espacio\"></div>\n",
       "<div><strong>Publicado el Miércoles, 0 de de </strong></div>\n",
       "<div class=\"Espacio\"></div>\n",
       "<div><a href=\"comunicados.php\"><button class=\"btn btn-sm btn-primary\" type=\"button\">Ver más Comunicados</button></a></div>\n",
       "</meta></meta></meta></div>\n",
       "</div>\n",
       "<div class=\"card-body\">\n",
       "<p class=\"text-right\"><a href=\"index.php\"><button class=\"btn btn-sm btn-success\" type=\"button\">Volver al inicio</button></a></p>\n",
       "</div>\n",
       "</div>\n",
       "</div>\n",
       "<div class=\"row cards\">\n",
       "<div class=\"col-lg-8 col-md-12 col-sm-12 cards1\">\n",
       "<div class=\"row cards\">\n",
       "<div class=\"card-deck\">\n",
       "<div class=\"card\">\n",
       "<div class=\"card-body\">\n",
       "<h5 class=\"card-title\">¿Qué es el Coronavirus COVID-19?</h5>\n",
       "<p class=\"card-text\"><img align=\"left\" src=\"images/virus.png\"/>Toda la información que necesitas para entender el COVID-19 y la pandemia mundial</p>\n",
       "<p class=\"text-right\"><a href=\"covid-19.php\"><button class=\"btn btn-warning\" type=\"button\">Más información</button></a></p>\n",
       "</div>\n",
       "</div>\n",
       "<div class=\"card\">\n",
       "<div class=\"card-body\">\n",
       "<h5 class=\"card-title\">Si crees que tienes COVID-19</h5>\n",
       "<p class=\"card-text\"><img align=\"left\" src=\"images/autoevaluacion.png\" width=\"128\"/>¿Te sientes enfermo?<br/>\n",
       "Responde el siguiente test y te orientaremos sobre un posible contagio de COVID-19</p>\n",
       "<p class=\"text-right\"><a href=\"autoevaluacion.php\"><button class=\"btn btn-danger\" type=\"button\">Autoevaluación</button></a></p>\n",
       "</div>\n",
       "</div>\n",
       "<div class=\"card\">\n",
       "<div class=\"card-body\">\n",
       "<h5 class=\"card-title\">Información para el Paciente en Casa</h5>\n",
       "<p class=\"card-text\"><img align=\"left\" alt=\"Paciente en casa\" src=\"images/paciente-en-casa.png\"/>¿Qué hacer con un paciente de COVID-19 en casa? - Todos los cuidados y recomendaciones para los pacientes aislados en casa</p>\n",
       "<p class=\"text-right\"><a href=\"paciente-en-casa.php\"><button class=\"btn btn-warning\" type=\"button\">Más información</button></a></p>\n",
       "</div>\n",
       "</div>\n",
       "<div class=\"card\">\n",
       "<div class=\"card-body\">\n",
       "<h5 class=\"card-title\">Comunicados Oficiales</h5>\n",
       "<p class=\"card-text\"><img align=\"left\" src=\"images/comunicados.png\"/>Encuentra los reportes diarios del Ministerio de Salud, con los datos del Sistema de Vigilancia Epidemiológica sobre la Pandemia</p>\n",
       "<p class=\"text-right\"><a href=\"comunicados.php\"><button class=\"btn btn-warning\" type=\"button\">Más información</button></a></p>\n",
       "</div>\n",
       "</div>\n",
       "</div>\n",
       "</div>\n",
       "<div class=\"row cards\">\n",
       "<div class=\"card-deck\">\n",
       "<div class=\"card\">\n",
       "<div class=\"card-body\">\n",
       "<h5 class=\"card-title\">Información oficial para Población General</h5>\n",
       "<p class=\"card-text\"><img align=\"left\" src=\"images/people.png\" width=\"60\"/>Prevención y cuidados, síntomas, preguntas frecuentes y mitos que necesitas conocer</p>\n",
       "<p class=\"text-right\"><a href=\"informacion.php\"><button class=\"btn btn-warning\" type=\"button\">Más información</button></a></p>\n",
       "</div>\n",
       "</div>\n",
       "<div class=\"card\">\n",
       "<div class=\"card-body\">\n",
       "<h5 class=\"card-title\">Protocolos</h5>\n",
       "<p class=\"card-text\"><img align=\"left\" src=\"images/protocolo.png\"/>Procedimientos y manuales necesarios para distintas actividades específicas relacionadas al COVID-19</p>\n",
       "<p class=\"text-right\"><a href=\"protocolos.php\"><button class=\"btn btn-warning\" type=\"button\">Más información</button></a></p>\n",
       "</div>\n",
       "</div>\n",
       "<div class=\"card\">\n",
       "<div class=\"card-body\">\n",
       "<h5 class=\"card-title\">Bolivia Verifica (Fake News)</h5>\n",
       "<p class=\"card-text\"><img align=\"left\" src=\"images/boliviafake.jpg\"/>Medio digital, sin fines de lucro ni tendencia política que se dedica a la verificación de noticias falsas</p>\n",
       "<p class=\"text-right\"><a href=\"boliviaverifica.php\"><button class=\"btn btn-warning\" type=\"button\">Más información</button></a></p>\n",
       "</div>\n",
       "</div>\n",
       "<div class=\"card\">\n",
       "<div class=\"card-body\">\n",
       "<h5 class=\"card-title\">Líneas gratuitas</h5>\n",
       "<p class=\"card-text\"><img align=\"left\" src=\"images/phone.png\"/>Si tienes dudas sobre el COVID-19 o necesitas ayuda. Comunícate con las lineas de asistencia</p>\n",
       "<p><div class=\"alert alert-danger text-center\" role=\"alert\"><i class=\"fa fa-phone\"></i> 800 10 1104</div><p></p>\n",
       "<p><div class=\"alert alert-danger text-center\" role=\"alert\"><i class=\"fa fa-phone\"></i> 800 10 1106</div><p></p>\n",
       "</p></p></div>\n",
       "</div>\n",
       "</div>\n",
       "</div>\n",
       "</div>\n",
       "<div class=\"col-lg-4 col-md-12 col-sm-12 titulares\">\n",
       "<div class=\"card\">\n",
       "<div class=\"card-body\">\n",
       "<h5 class=\"card-title\"><a href=\"noticias.php\">Noticias</a></h5>\n",
       "</div>\n",
       "<ul class=\"list-group list-group-flush\">\n",
       "<li class=\"list-group-item\">\n",
       "<a href=\"noticias_proc.php?Seleccion=122\"><img align=\"left\" class=\"opacity\" height=\"150\" src=\"archivos/noticia122_b.jpg\" width=\"150\"/><span class=\"fuente3\">ABI</span>Gobierno envía 10 ambulancias y personal médico para reforzar la lucha contra la pandemia en el Beni</a>\n",
       "</li>\n",
       "<li class=\"list-group-item\">\n",
       "<a href=\"noticias_proc.php?Seleccion=121\"><img align=\"left\" class=\"opacity\" height=\"150\" src=\"archivos/noticia121_b.jpg\" width=\"150\"/><span class=\"fuente3\">ABI</span>Bonos del Gobierno llegaron a 7 millones de pagos durante la cuarentena</a>\n",
       "</li>\n",
       "<li class=\"list-group-item\">\n",
       "<a href=\"noticias_proc.php?Seleccion=120\"><img align=\"left\" class=\"opacity\" height=\"150\" src=\"archivos/noticia120_b.jpg\" width=\"150\"/><span class=\"fuente3\">ABI</span>Gobierno consolidó en horas el movimiento de emergencia en salud más grande en la historia del país a favor del Beni</a>\n",
       "</li>\n",
       "<li class=\"list-group-item\">\n",
       "<a href=\"noticias_proc.php?Seleccion=118\"><img align=\"left\" class=\"opacity\" height=\"150\" src=\"archivos/noticia118_b.jpg\" width=\"150\"/><span class=\"fuente3\">ABI</span>Bolivia reporta la cifra más alta de contagios en un día, con 632 casos nuevos de coronavirus</a>\n",
       "</li>\n",
       "<li class=\"list-group-item\">\n",
       "<a href=\"noticias_proc.php?Seleccion=117\"><img align=\"left\" class=\"opacity\" height=\"150\" src=\"archivos/noticia117_b.jpg\" width=\"150\"/><span class=\"fuente3\">ABI</span>López: Ya no hay espacio para las irresponsabilidades, se aplicará la \"madre de las cuarentenas\" en el Beni</a>\n",
       "</li>\n",
       "<li class=\"list-group-item\">\n",
       "<a href=\"noticias_proc.php?Seleccion=114\"><img align=\"left\" class=\"opacity\" height=\"150\" src=\"archivos/noticia114_b.jpg\" width=\"150\"/><span class=\"fuente3\">ABI</span>Bolivia registra su pico más alto de casos nuevos de coronavirus con 476 contagios</a>\n",
       "</li>\n",
       "</ul>\n",
       "<div class=\"card-body\">\n",
       "<p class=\"text-right\"><a href=\"noticias.php\"><button class=\"btn btn-success\" type=\"button\">Más noticias</button></a></p>\n",
       "</div>\n",
       "</div>\n",
       "</div>\n",
       "</div>\n",
       "<footer class=\"row align-items-end\" id=\"footer\">\n",
       "<div class=\"col-lg-12 col-md-12 col-sm-12 slogan text-center\">Sitio oficial del Gobierno de Bolivia sobre el COVID-19<br/>\n",
       "<br/>\n",
       "<a href=\"https://www.comunicacion.gob.bo/\" target=\"_blank\"><img alt=\"Gobierno del Estado Plurinacional de Bolivia\" class=\"opacity\" src=\"images/logo_estado.png\"/></a>\n",
       "</div>\n",
       "<div class=\"col-lg-6 col-md-6 col-sm-12 text-left\">\n",
       "<script src=\"//s7.addthis.com/js/300/addthis_widget.js#pubid=ra-5ea2ff16cdc991f8\" type=\"text/javascript\"></script>\n",
       "</div>\n",
       "<div class=\"col-lg-6 col-md-6 col-sm-12 estado align-content-end text-right\">\n",
       "<table align=\"right\" border=\"0\" cellpadding=\"0\" cellspacing=\"0\">\n",
       "<tr>\n",
       "<td align=\"right\" colspan=\"3\">Con el apoyo de:<br/> </td>\n",
       "</tr>\n",
       "<tr>\n",
       "<td><a href=\"https://www.paho.org/es\" target=\"_blank\"><img alt=\"OPS\" class=\"opacity\" src=\"images/ops.png\"/></a></td>\n",
       "<td>    </td>\n",
       "<td><a href=\"https://www.agetic.gob.bo/#/\" target=\"_blank\"><img alt=\"AGETIC\" class=\"opacity\" src=\"images/agetic.png\"/></a></td>\n",
       "</tr>\n",
       "</table>\n",
       "</div>\n",
       "<div class=\"col-lg-12 col-md-12 col-sm-12 slogan text-center\"> <br/> </div>\n",
       "</footer>\n",
       "</div>\n",
       "<script src=\"https://code.jquery.com/jquery-1.9.1.min.js\"></script>\n",
       "<script crossorigin=\"anonymous\" integrity=\"sha384-ApNbgh9B+Y1QKtv3Rn7W3mgPxhU9K/ScQsAP7hUibX39j7fakFPskvXusvfa0b4Q\" src=\"https://cdnjs.cloudflare.com/ajax/libs/popper.js/1.12.9/umd/popper.min.js\"></script>\n",
       "<script src=\"js/bootstrap.min.js\"></script>\n",
       "<script>\n",
       "  !function(f,b,e,v,n,t,s)\n",
       "  {if(f.fbq)return;n=f.fbq=function(){n.callMethod?\n",
       "  n.callMethod.apply(n,arguments):n.queue.push(arguments)};\n",
       "  if(!f._fbq)f._fbq=n;n.push=n;n.loaded=!0;n.version='2.0';\n",
       "  n.queue=[];t=b.createElement(e);t.async=!0;\n",
       "  t.src=v;s=b.getElementsByTagName(e)[0];\n",
       "  s.parentNode.insertBefore(t,s)}(window, document,'script',\n",
       "  'https://connect.facebook.net/en_US/fbevents.js');\n",
       "  fbq('init', '669135653874525');\n",
       "  fbq('track', 'PageView');\n",
       "</script>\n",
       "<noscript><img height=\"1\" src=\"https://www.facebook.com/tr?id=669135653874525&amp;ev=PageView&amp;noscript=1\" style=\"display:none\" width=\"1\"/></noscript>\n",
       "<script>\n",
       "  !function(f,b,e,v,n,t,s)\n",
       "  {if(f.fbq)return;n=f.fbq=function(){n.callMethod?\n",
       "  n.callMethod.apply(n,arguments):n.queue.push(arguments)};\n",
       "  if(!f._fbq)f._fbq=n;n.push=n;n.loaded=!0;n.version='2.0';\n",
       "  n.queue=[];t=b.createElement(e);t.async=!0;\n",
       "  t.src=v;s=b.getElementsByTagName(e)[0];\n",
       "  s.parentNode.insertBefore(t,s)}(window, document,'script',\n",
       "  'https://connect.facebook.net/en_US/fbevents.js');\n",
       "  fbq('init', '226959791906533');\n",
       "  fbq('track', 'PageView');\n",
       "</script>\n",
       "<noscript><img height=\"1\" src=\"https://www.facebook.com/tr?id=226959791906533&amp;ev=PageView&amp;noscript=1\" style=\"display:none\" width=\"1\"/></noscript>\n",
       "<script>\n",
       "\t$(document).ready(function() {\n",
       "\t\t// Gets the video src from the data-src on each button\n",
       "\t\tvar $imageSrc;  \n",
       "\t\t$('.gallery img').click(function() {\n",
       "\t\t\t$imageSrc = $(this).data('bigimage');\n",
       "\t\t});\n",
       "\t\tconsole.log($imageSrc);\n",
       "\t\t// when the modal is opened autoplay it  \n",
       "\t\t$('#myModal').on('shown.bs.modal', function (e) {\n",
       "\t\t\t\n",
       "\t\t// set the video src to autoplay and not to show related video. Youtube related video is like a box of chocolates... you never know what you're gonna get\n",
       "\t\t\n",
       "\t\t$(\"#image\").attr('src', $imageSrc  ); \n",
       "\t})\n",
       "\t  \n",
       "\t  \n",
       "\t// reset the modal image\n",
       "\t$('#myModal').on('hide.bs.modal', function (e) {\n",
       "\t\t// a poor man's stop video\n",
       "\t\t$(\"#image\").attr('src',''); \n",
       "\t}) \n",
       "\t\t\n",
       "\t// document ready  \n",
       "\t});\n",
       "</script>\n",
       "<script async=\"\" src=\"https://www.googletagmanager.com/gtag/js?id=UA-4875821-64\"></script>\n",
       "<script>\n",
       "  window.dataLayer = window.dataLayer || [];\n",
       "  function gtag(){dataLayer.push(arguments);}\n",
       "  gtag('js', new Date());\n",
       "\n",
       "  gtag('config', 'UA-4875821-64');\n",
       "</script>\n",
       "<script>\n",
       "function confirmSubmit()\n",
       "{\n",
       "var where_to= confirm(\"Al salir de BoliviaSegura la navegación deja de ser gratuita, seguro que desea continuar?\");\n",
       "if (where_to== true)\n",
       "{\n",
       "return true ;\n",
       "}\n",
       "else\n",
       "{\n",
       "return false ;\n",
       "}\n",
       "}\n",
       "</script>\n",
       "</div></body>\n",
       "</html>"
      ]
     },
     "execution_count": 103,
     "metadata": {},
     "output_type": "execute_result"
    }
   ],
   "source": [
    "soup"
   ]
  },
  {
   "cell_type": "code",
   "execution_count": 102,
   "metadata": {
    "ExecuteTime": {
     "end_time": "2020-05-28T19:10:21.034192Z",
     "start_time": "2020-05-28T19:10:21.028768Z"
    }
   },
   "outputs": [
    {
     "data": {
      "text/plain": [
       "[<a href=\"boliviaverifica.php\"><button class=\"btn btn-warning\" type=\"button\">Más información</button></a>,\n",
       " <a href=\"noticias.php\">Noticias</a>,\n",
       " <a href=\"noticias_proc.php?Seleccion=122\"><img align=\"left\" class=\"opacity\" height=\"150\" src=\"archivos/noticia122_b.jpg\" width=\"150\"/><span class=\"fuente3\">ABI</span>Gobierno envía 10 ambulancias y personal médico para reforzar la lucha contra la pandemia en el Beni</a>,\n",
       " <a href=\"noticias_proc.php?Seleccion=121\"><img align=\"left\" class=\"opacity\" height=\"150\" src=\"archivos/noticia121_b.jpg\" width=\"150\"/><span class=\"fuente3\">ABI</span>Bonos del Gobierno llegaron a 7 millones de pagos durante la cuarentena</a>,\n",
       " <a href=\"noticias_proc.php?Seleccion=120\"><img align=\"left\" class=\"opacity\" height=\"150\" src=\"archivos/noticia120_b.jpg\" width=\"150\"/><span class=\"fuente3\">ABI</span>Gobierno consolidó en horas el movimiento de emergencia en salud más grande en la historia del país a favor del Beni</a>,\n",
       " <a href=\"noticias_proc.php?Seleccion=118\"><img align=\"left\" class=\"opacity\" height=\"150\" src=\"archivos/noticia118_b.jpg\" width=\"150\"/><span class=\"fuente3\">ABI</span>Bolivia reporta la cifra más alta de contagios en un día, con 632 casos nuevos de coronavirus</a>,\n",
       " <a href=\"noticias_proc.php?Seleccion=117\"><img align=\"left\" class=\"opacity\" height=\"150\" src=\"archivos/noticia117_b.jpg\" width=\"150\"/><span class=\"fuente3\">ABI</span>López: Ya no hay espacio para las irresponsabilidades, se aplicará la \"madre de las cuarentenas\" en el Beni</a>,\n",
       " <a href=\"noticias_proc.php?Seleccion=114\"><img align=\"left\" class=\"opacity\" height=\"150\" src=\"archivos/noticia114_b.jpg\" width=\"150\"/><span class=\"fuente3\">ABI</span>Bolivia registra su pico más alto de casos nuevos de coronavirus con 476 contagios</a>]"
      ]
     },
     "execution_count": 102,
     "metadata": {},
     "output_type": "execute_result"
    }
   ],
   "source": [
    "soup.find_all('a')[25:33]"
   ]
  },
  {
   "cell_type": "code",
   "execution_count": 52,
   "metadata": {
    "ExecuteTime": {
     "end_time": "2020-05-28T16:53:19.679031Z",
     "start_time": "2020-05-28T16:53:19.674614Z"
    }
   },
   "outputs": [
    {
     "data": {
      "text/plain": [
       "22246"
      ]
     },
     "execution_count": 52,
     "metadata": {},
     "output_type": "execute_result"
    }
   ],
   "source": [
    "r.text.find('hd')"
   ]
  },
  {
   "cell_type": "code",
   "execution_count": 51,
   "metadata": {
    "ExecuteTime": {
     "end_time": "2020-05-28T16:52:57.816969Z",
     "start_time": "2020-05-28T16:52:57.812419Z"
    }
   },
   "outputs": [
    {
     "data": {
      "text/plain": [
       "'\\n'"
      ]
     },
     "execution_count": 51,
     "metadata": {},
     "output_type": "execute_result"
    }
   ],
   "source": [
    "r.text[-1:]"
   ]
  },
  {
   "cell_type": "code",
   "execution_count": 56,
   "metadata": {
    "ExecuteTime": {
     "end_time": "2020-05-28T17:11:23.899021Z",
     "start_time": "2020-05-28T17:11:23.894030Z"
    }
   },
   "outputs": [
    {
     "name": "stdout",
     "output_type": "stream",
     "text": [
      "aeeaaaohello\n"
     ]
    }
   ],
   "source": [
    "import unicodedata\n",
    "\n",
    "def normalize_text(text):\n",
    "    try:\n",
    "        text = unicode(text, 'utf-8')\n",
    "    except NameError: # unicode is a default on python 3 \n",
    "        pass\n",
    "    text = unicodedata.normalize('NFD', text)\\\n",
    "           .encode('ascii', 'ignore')\\\n",
    "           .decode(\"utf-8\")\n",
    "    return str(text).lower()\n",
    "\n",
    "s = normalize_text('àéêAAAöhello')\n",
    "\n",
    "print(s)"
   ]
  },
  {
   "cell_type": "code",
   "execution_count": 164,
   "metadata": {
    "ExecuteTime": {
     "end_time": "2020-05-28T20:04:12.930372Z",
     "start_time": "2020-05-28T20:04:11.998899Z"
    }
   },
   "outputs": [
    {
     "name": "stdout",
     "output_type": "stream",
     "text": [
      "Name: facebook-scraper\r\n",
      "Version: 0.1.12\r\n",
      "Summary: Scrape Facebook public pages without an API key.\r\n",
      "Home-page: https://github.com/kevinzg/facebook-scraper\r\n",
      "Author: Kevin Zúñiga\r\n",
      "Author-email: kevin.zun@gmail.com\r\n",
      "License: MIT\r\n",
      "Location: /opt/anaconda3/envs/wa/lib/python3.6/site-packages\r\n",
      "Requires: requests-html\r\n",
      "Required-by: \r\n"
     ]
    }
   ],
   "source": [
    "!pip show facebook-scraper"
   ]
  },
  {
   "cell_type": "code",
   "execution_count": 166,
   "metadata": {
    "ExecuteTime": {
     "end_time": "2020-05-28T20:05:13.972271Z",
     "start_time": "2020-05-28T20:05:13.969316Z"
    }
   },
   "outputs": [],
   "source": [
    "from facebook_scraper import get_posts\n",
    "\n",
    "def plague():\n",
    "    for post in get_posts('GlobalNewsCovid19', pages=1):\n",
    "        jpg = post['image']\n",
    "        break\n",
    "    return jpg"
   ]
  },
  {
   "cell_type": "code",
   "execution_count": 167,
   "metadata": {
    "ExecuteTime": {
     "end_time": "2020-05-28T20:05:18.870563Z",
     "start_time": "2020-05-28T20:05:17.988882Z"
    }
   },
   "outputs": [
    {
     "data": {
      "text/plain": [
       "'https://scontent.flpb2-1.fna.fbcdn.net/v/t1.0-9/100996790_145523580414487_9213037387762892800_n.png?_nc_cat=107&_nc_sid=8024bb&_nc_ohc=p5lSGb6fWWEAX_W14CO&_nc_ht=scontent.flpb2-1.fna&oh=faec39e0e1d1da8fb27c5d482c27ce44&oe=5EF7325A'"
      ]
     },
     "execution_count": 167,
     "metadata": {},
     "output_type": "execute_result"
    }
   ],
   "source": [
    "plague()"
   ]
  },
  {
   "cell_type": "code",
   "execution_count": null,
   "metadata": {},
   "outputs": [],
   "source": []
  }
 ],
 "metadata": {
  "kernelspec": {
   "display_name": "Python 3",
   "language": "python",
   "name": "python3"
  },
  "language_info": {
   "codemirror_mode": {
    "name": "ipython",
    "version": 3
   },
   "file_extension": ".py",
   "mimetype": "text/x-python",
   "name": "python",
   "nbconvert_exporter": "python",
   "pygments_lexer": "ipython3",
   "version": "3.6.10"
  },
  "varInspector": {
   "cols": {
    "lenName": 16,
    "lenType": 16,
    "lenVar": 40
   },
   "kernels_config": {
    "python": {
     "delete_cmd_postfix": "",
     "delete_cmd_prefix": "del ",
     "library": "var_list.py",
     "varRefreshCmd": "print(var_dic_list())"
    },
    "r": {
     "delete_cmd_postfix": ") ",
     "delete_cmd_prefix": "rm(",
     "library": "var_list.r",
     "varRefreshCmd": "cat(var_dic_list()) "
    }
   },
   "types_to_exclude": [
    "module",
    "function",
    "builtin_function_or_method",
    "instance",
    "_Feature"
   ],
   "window_display": false
  }
 },
 "nbformat": 4,
 "nbformat_minor": 4
}
