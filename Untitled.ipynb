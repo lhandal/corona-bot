{
 "cells": [
  {
   "cell_type": "code",
   "execution_count": 181,
   "metadata": {
    "ExecuteTime": {
     "end_time": "2020-05-28T02:11:33.365900Z",
     "start_time": "2020-05-28T02:11:31.457316Z"
    }
   },
   "outputs": [],
   "source": [
    "import emoji\n",
    "from twilio.twiml.messaging_response import MessagingResponse\n",
    "from flask import request\n",
    "import requests\n",
    "from bs4 import BeautifulSoup\n",
    "import pandas as pd\n",
    "import re"
   ]
  },
  {
   "cell_type": "code",
   "execution_count": 11,
   "metadata": {
    "ExecuteTime": {
     "end_time": "2020-05-28T00:37:45.528399Z",
     "start_time": "2020-05-28T00:37:45.523685Z"
    }
   },
   "outputs": [],
   "source": [
    "resp = MessagingResponse()\n",
    "msg = resp.message()\n",
    "responded = False\n",
    "\n",
    "text = 'Hola! :wave:'\n",
    "# text = emoji.emojize(f'*Hola! :wave:*', use_aliases=True)\n",
    "msg = msg.body(emoji.emojize(text, use_aliases=True))\n",
    "responded = True"
   ]
  },
  {
   "cell_type": "code",
   "execution_count": 76,
   "metadata": {
    "ExecuteTime": {
     "end_time": "2020-05-28T01:33:39.048764Z",
     "start_time": "2020-05-28T01:33:38.466574Z"
    }
   },
   "outputs": [],
   "source": [
    "page = requests.get('https://www.boliviasegura.gob.bo/')\n",
    "\n",
    "soup = BeautifulSoup(page.content, 'html.parser')\n",
    "\n",
    "item = soup.select('body > div.container > div.row.mapa > div > div:nth-child(2) > div > div.col-lg-5.col-md-5.col-sm-12.mapanuevos')\n",
    "\n",
    "def cleanhtml(raw_html):\n",
    "    raw_html = str(raw_html)\n",
    "    cleanr = re.compile('<.*?>')\n",
    "    cleantext = re.sub(cleanr, '', raw_html)\n",
    "    return cleantext\n",
    "\n",
    "fecha = cleanhtml(soup.find_all('h5')[0])\n",
    "fecha\n",
    "\n",
    "nacional_hoy = cleanhtml(soup.find_all('h4')[0])\n",
    "nacional_hoy\n",
    "\n",
    "nacional_total = cleanhtml(soup.find_all('td')[:3][0])\n",
    "nacional_decesos = cleanhtml(soup.find_all('td')[:3][1])\n",
    "nacional_recuperados = cleanhtml(soup.find_all('td')[:3][2])\n",
    "print(nacional_total,\n",
    "nacional_decesos,\n",
    "nacional_recuperados)\n",
    "\n",
    "ls = []\n",
    "for element in soup.find_all('td')[3:48]:\n",
    "    ls.append(cleanhtml(element))\n",
    "\n",
    "departamentos = ls[0::5]\n",
    "\n",
    "step=0\n",
    "for dep in departamentos:\n",
    "    exec(str(dep.lower().replace(' ','_'))+f'={ls[step:5+step]}')\n",
    "    step+=5\n",
    "\n",
    "la_paz"
   ]
  },
  {
   "cell_type": "code",
   "execution_count": 77,
   "metadata": {
    "ExecuteTime": {
     "end_time": "2020-05-28T01:33:39.849633Z",
     "start_time": "2020-05-28T01:33:39.805109Z"
    }
   },
   "outputs": [],
   "source": [
    "soup = BeautifulSoup(page.content, 'html.parser')"
   ]
  },
  {
   "cell_type": "code",
   "execution_count": 83,
   "metadata": {
    "ExecuteTime": {
     "end_time": "2020-05-28T01:39:15.817575Z",
     "start_time": "2020-05-28T01:39:15.798496Z"
    }
   },
   "outputs": [],
   "source": [
    "item = soup.select('body > div.container > div.row.mapa > div > div:nth-child(2) > div > div.col-lg-5.col-md-5.col-sm-12.mapanuevos')"
   ]
  },
  {
   "cell_type": "code",
   "execution_count": 138,
   "metadata": {
    "ExecuteTime": {
     "end_time": "2020-05-28T01:52:41.136377Z",
     "start_time": "2020-05-28T01:52:41.132684Z"
    }
   },
   "outputs": [],
   "source": [
    "def cleanhtml(raw_html):\n",
    "    raw_html = str(raw_html)\n",
    "    cleanr = re.compile('<.*?>')\n",
    "    cleantext = re.sub(cleanr, '', raw_html)\n",
    "    return cleantext"
   ]
  },
  {
   "cell_type": "code",
   "execution_count": 154,
   "metadata": {
    "ExecuteTime": {
     "end_time": "2020-05-28T01:57:14.540919Z",
     "start_time": "2020-05-28T01:57:14.523931Z"
    }
   },
   "outputs": [
    {
     "data": {
      "text/plain": [
       "'Martes, 26 de Mayo de 2020'"
      ]
     },
     "execution_count": 154,
     "metadata": {},
     "output_type": "execute_result"
    }
   ],
   "source": [
    "fecha = cleanhtml(soup.find_all('h5')[0])\n",
    "fecha"
   ]
  },
  {
   "cell_type": "code",
   "execution_count": 155,
   "metadata": {
    "ExecuteTime": {
     "end_time": "2020-05-28T01:57:19.028581Z",
     "start_time": "2020-05-28T01:57:19.020739Z"
    }
   },
   "outputs": [
    {
     "data": {
      "text/plain": [
       "'CONFIRMADOS HOY: 476'"
      ]
     },
     "execution_count": 155,
     "metadata": {},
     "output_type": "execute_result"
    }
   ],
   "source": [
    "nacional_hoy = cleanhtml(soup.find_all('h4')[0])\n",
    "nacional_hoy"
   ]
  },
  {
   "cell_type": "code",
   "execution_count": 158,
   "metadata": {
    "ExecuteTime": {
     "end_time": "2020-05-28T01:58:37.434495Z",
     "start_time": "2020-05-28T01:58:37.427511Z"
    }
   },
   "outputs": [
    {
     "name": "stdout",
     "output_type": "stream",
     "text": [
      "7,136 274 677\n"
     ]
    }
   ],
   "source": [
    "nacional_total = cleanhtml(soup.find_all('td')[:3][0])\n",
    "nacional_decesos = cleanhtml(soup.find_all('td')[:3][1])\n",
    "nacional_recuperados = cleanhtml(soup.find_all('td')[:3][2])\n",
    "print(nacional_total,\n",
    "nacional_decesos,\n",
    "nacional_recuperados)"
   ]
  },
  {
   "cell_type": "code",
   "execution_count": 170,
   "metadata": {
    "ExecuteTime": {
     "end_time": "2020-05-28T02:02:08.127349Z",
     "start_time": "2020-05-28T02:02:08.121323Z"
    }
   },
   "outputs": [],
   "source": [
    "ls = []\n",
    "for element in soup.find_all('td')[3:48]:\n",
    "    ls.append(cleanhtml(element))"
   ]
  },
  {
   "cell_type": "code",
   "execution_count": 207,
   "metadata": {
    "ExecuteTime": {
     "end_time": "2020-05-28T02:24:37.780600Z",
     "start_time": "2020-05-28T02:24:37.777397Z"
    }
   },
   "outputs": [],
   "source": [
    "departamentos = ls[0::5]"
   ]
  },
  {
   "cell_type": "code",
   "execution_count": 208,
   "metadata": {
    "ExecuteTime": {
     "end_time": "2020-05-28T02:24:38.220808Z",
     "start_time": "2020-05-28T02:24:38.216920Z"
    }
   },
   "outputs": [],
   "source": [
    "step=0\n",
    "for dep in departamentos:\n",
    "    exec(str(dep.lower().replace(' ','_'))+f'={ls[step:5+step]}')\n",
    "    step+=5"
   ]
  },
  {
   "cell_type": "code",
   "execution_count": 210,
   "metadata": {
    "ExecuteTime": {
     "end_time": "2020-05-28T02:25:15.783326Z",
     "start_time": "2020-05-28T02:25:15.779256Z"
    }
   },
   "outputs": [
    {
     "data": {
      "text/plain": [
       "['La Paz', '7', '410', '24', '219']"
      ]
     },
     "execution_count": 210,
     "metadata": {},
     "output_type": "execute_result"
    }
   ],
   "source": [
    "la_paz"
   ]
  },
  {
   "cell_type": "code",
   "execution_count": null,
   "metadata": {},
   "outputs": [],
   "source": []
  },
  {
   "cell_type": "code",
   "execution_count": 177,
   "metadata": {
    "ExecuteTime": {
     "end_time": "2020-05-28T02:09:53.973071Z",
     "start_time": "2020-05-28T02:09:53.969751Z"
    }
   },
   "outputs": [],
   "source": [
    "departamentos = ls[0::5]\n",
    "dep_hoy = ls[1::5]\n",
    "dep_total = ls[2::5]\n",
    "dep_decesos = ls[3::5]\n",
    "dep_recuperadps = ls[4::5]"
   ]
  },
  {
   "cell_type": "code",
   "execution_count": 188,
   "metadata": {
    "ExecuteTime": {
     "end_time": "2020-05-28T02:16:12.069108Z",
     "start_time": "2020-05-28T02:16:12.050944Z"
    }
   },
   "outputs": [
    {
     "data": {
      "text/html": [
       "<div>\n",
       "<style scoped>\n",
       "    .dataframe tbody tr th:only-of-type {\n",
       "        vertical-align: middle;\n",
       "    }\n",
       "\n",
       "    .dataframe tbody tr th {\n",
       "        vertical-align: top;\n",
       "    }\n",
       "\n",
       "    .dataframe thead th {\n",
       "        text-align: right;\n",
       "    }\n",
       "</style>\n",
       "<table border=\"1\" class=\"dataframe\">\n",
       "  <thead>\n",
       "    <tr style=\"text-align: right;\">\n",
       "      <th></th>\n",
       "      <th>dep_hoy</th>\n",
       "      <th>dep_total</th>\n",
       "      <th>dep_recuperadps</th>\n",
       "      <th>dep_decesos</th>\n",
       "    </tr>\n",
       "  </thead>\n",
       "  <tbody>\n",
       "    <tr>\n",
       "      <th>Beni</th>\n",
       "      <td>100</td>\n",
       "      <td>77</td>\n",
       "      <td>1,242</td>\n",
       "      <td>8</td>\n",
       "    </tr>\n",
       "    <tr>\n",
       "      <th>Chuquisaca</th>\n",
       "      <td>0</td>\n",
       "      <td>2</td>\n",
       "      <td>22</td>\n",
       "      <td>11</td>\n",
       "    </tr>\n",
       "    <tr>\n",
       "      <th>Cochabamba</th>\n",
       "      <td>6</td>\n",
       "      <td>18</td>\n",
       "      <td>345</td>\n",
       "      <td>60</td>\n",
       "    </tr>\n",
       "    <tr>\n",
       "      <th>La Paz</th>\n",
       "      <td>7</td>\n",
       "      <td>24</td>\n",
       "      <td>410</td>\n",
       "      <td>219</td>\n",
       "    </tr>\n",
       "    <tr>\n",
       "      <th>Oruro</th>\n",
       "      <td>2</td>\n",
       "      <td>13</td>\n",
       "      <td>153</td>\n",
       "      <td>72</td>\n",
       "    </tr>\n",
       "    <tr>\n",
       "      <th>Pando</th>\n",
       "      <td>0</td>\n",
       "      <td>1</td>\n",
       "      <td>13</td>\n",
       "      <td>7</td>\n",
       "    </tr>\n",
       "    <tr>\n",
       "      <th>Potosí</th>\n",
       "      <td>0</td>\n",
       "      <td>1</td>\n",
       "      <td>44</td>\n",
       "      <td>20</td>\n",
       "    </tr>\n",
       "    <tr>\n",
       "      <th>Santa Cruz</th>\n",
       "      <td>361</td>\n",
       "      <td>135</td>\n",
       "      <td>4,888</td>\n",
       "      <td>273</td>\n",
       "    </tr>\n",
       "    <tr>\n",
       "      <th>Tarija</th>\n",
       "      <td>0</td>\n",
       "      <td>3</td>\n",
       "      <td>19</td>\n",
       "      <td>7</td>\n",
       "    </tr>\n",
       "  </tbody>\n",
       "</table>\n",
       "</div>"
      ],
      "text/plain": [
       "           dep_hoy dep_total dep_recuperadps dep_decesos\n",
       "Beni           100        77           1,242           8\n",
       "Chuquisaca       0         2              22          11\n",
       "Cochabamba       6        18             345          60\n",
       "La Paz           7        24             410         219\n",
       "Oruro            2        13             153          72\n",
       "Pando            0         1              13           7\n",
       "Potosí           0         1              44          20\n",
       "Santa Cruz     361       135           4,888         273\n",
       "Tarija           0         3              19           7"
      ]
     },
     "execution_count": 188,
     "metadata": {},
     "output_type": "execute_result"
    }
   ],
   "source": [
    "df = pd.DataFrame(index=departamentos)\n",
    "df['dep_hoy'] = dep_hoy\n",
    "df['dep_total'] = dep_decesos\n",
    "df['dep_recuperadps'] = dep_total\n",
    "df['dep_decesos'] = dep_recuperadps\n",
    "df"
   ]
  },
  {
   "cell_type": "code",
   "execution_count": 190,
   "metadata": {
    "ExecuteTime": {
     "end_time": "2020-05-28T02:17:43.821527Z",
     "start_time": "2020-05-28T02:17:43.748750Z"
    }
   },
   "outputs": [
    {
     "ename": "TypeError",
     "evalue": "Cannot index by location index with a non-integer key",
     "output_type": "error",
     "traceback": [
      "\u001b[0;31m---------------------------------------------------------------------------\u001b[0m",
      "\u001b[0;31mTypeError\u001b[0m                                 Traceback (most recent call last)",
      "\u001b[0;32m<ipython-input-190-53951446c978>\u001b[0m in \u001b[0;36m<module>\u001b[0;34m\u001b[0m\n\u001b[0;32m----> 1\u001b[0;31m \u001b[0mdf\u001b[0m\u001b[0;34m.\u001b[0m\u001b[0miloc\u001b[0m\u001b[0;34m[\u001b[0m\u001b[0;34m'Beni'\u001b[0m\u001b[0;34m]\u001b[0m\u001b[0;34m\u001b[0m\u001b[0;34m\u001b[0m\u001b[0m\n\u001b[0m",
      "\u001b[0;32m/opt/anaconda3/envs/wa/lib/python3.6/site-packages/pandas/core/indexing.py\u001b[0m in \u001b[0;36m__getitem__\u001b[0;34m(self, key)\u001b[0m\n\u001b[1;32m   1766\u001b[0m \u001b[0;34m\u001b[0m\u001b[0m\n\u001b[1;32m   1767\u001b[0m             \u001b[0mmaybe_callable\u001b[0m \u001b[0;34m=\u001b[0m \u001b[0mcom\u001b[0m\u001b[0;34m.\u001b[0m\u001b[0mapply_if_callable\u001b[0m\u001b[0;34m(\u001b[0m\u001b[0mkey\u001b[0m\u001b[0;34m,\u001b[0m \u001b[0mself\u001b[0m\u001b[0;34m.\u001b[0m\u001b[0mobj\u001b[0m\u001b[0;34m)\u001b[0m\u001b[0;34m\u001b[0m\u001b[0;34m\u001b[0m\u001b[0m\n\u001b[0;32m-> 1768\u001b[0;31m             \u001b[0;32mreturn\u001b[0m \u001b[0mself\u001b[0m\u001b[0;34m.\u001b[0m\u001b[0m_getitem_axis\u001b[0m\u001b[0;34m(\u001b[0m\u001b[0mmaybe_callable\u001b[0m\u001b[0;34m,\u001b[0m \u001b[0maxis\u001b[0m\u001b[0;34m=\u001b[0m\u001b[0maxis\u001b[0m\u001b[0;34m)\u001b[0m\u001b[0;34m\u001b[0m\u001b[0;34m\u001b[0m\u001b[0m\n\u001b[0m\u001b[1;32m   1769\u001b[0m \u001b[0;34m\u001b[0m\u001b[0m\n\u001b[1;32m   1770\u001b[0m     \u001b[0;32mdef\u001b[0m \u001b[0m_is_scalar_access\u001b[0m\u001b[0;34m(\u001b[0m\u001b[0mself\u001b[0m\u001b[0;34m,\u001b[0m \u001b[0mkey\u001b[0m\u001b[0;34m:\u001b[0m \u001b[0mTuple\u001b[0m\u001b[0;34m)\u001b[0m\u001b[0;34m:\u001b[0m\u001b[0;34m\u001b[0m\u001b[0;34m\u001b[0m\u001b[0m\n",
      "\u001b[0;32m/opt/anaconda3/envs/wa/lib/python3.6/site-packages/pandas/core/indexing.py\u001b[0m in \u001b[0;36m_getitem_axis\u001b[0;34m(self, key, axis)\u001b[0m\n\u001b[1;32m   2133\u001b[0m             \u001b[0mkey\u001b[0m \u001b[0;34m=\u001b[0m \u001b[0mitem_from_zerodim\u001b[0m\u001b[0;34m(\u001b[0m\u001b[0mkey\u001b[0m\u001b[0;34m)\u001b[0m\u001b[0;34m\u001b[0m\u001b[0;34m\u001b[0m\u001b[0m\n\u001b[1;32m   2134\u001b[0m             \u001b[0;32mif\u001b[0m \u001b[0;32mnot\u001b[0m \u001b[0mis_integer\u001b[0m\u001b[0;34m(\u001b[0m\u001b[0mkey\u001b[0m\u001b[0;34m)\u001b[0m\u001b[0;34m:\u001b[0m\u001b[0;34m\u001b[0m\u001b[0;34m\u001b[0m\u001b[0m\n\u001b[0;32m-> 2135\u001b[0;31m                 \u001b[0;32mraise\u001b[0m \u001b[0mTypeError\u001b[0m\u001b[0;34m(\u001b[0m\u001b[0;34m\"Cannot index by location index with a non-integer key\"\u001b[0m\u001b[0;34m)\u001b[0m\u001b[0;34m\u001b[0m\u001b[0;34m\u001b[0m\u001b[0m\n\u001b[0m\u001b[1;32m   2136\u001b[0m \u001b[0;34m\u001b[0m\u001b[0m\n\u001b[1;32m   2137\u001b[0m             \u001b[0;31m# validate the location\u001b[0m\u001b[0;34m\u001b[0m\u001b[0;34m\u001b[0m\u001b[0;34m\u001b[0m\u001b[0m\n",
      "\u001b[0;31mTypeError\u001b[0m: Cannot index by location index with a non-integer key"
     ]
    }
   ],
   "source": [
    "df.iloc[]"
   ]
  },
  {
   "cell_type": "code",
   "execution_count": null,
   "metadata": {},
   "outputs": [],
   "source": []
  },
  {
   "cell_type": "code",
   "execution_count": null,
   "metadata": {
    "ExecuteTime": {
     "end_time": "2020-05-28T02:30:42.769541Z",
     "start_time": "2020-05-28T02:30:29.155Z"
    }
   },
   "outputs": [],
   "source": [
    "ptint(a)"
   ]
  }
 ],
 "metadata": {
  "kernelspec": {
   "display_name": "Python 3",
   "language": "python",
   "name": "python3"
  },
  "language_info": {
   "codemirror_mode": {
    "name": "ipython",
    "version": 3
   },
   "file_extension": ".py",
   "mimetype": "text/x-python",
   "name": "python",
   "nbconvert_exporter": "python",
   "pygments_lexer": "ipython3",
   "version": "3.6.10"
  },
  "varInspector": {
   "cols": {
    "lenName": 16,
    "lenType": 16,
    "lenVar": 40
   },
   "kernels_config": {
    "python": {
     "delete_cmd_postfix": "",
     "delete_cmd_prefix": "del ",
     "library": "var_list.py",
     "varRefreshCmd": "print(var_dic_list())"
    },
    "r": {
     "delete_cmd_postfix": ") ",
     "delete_cmd_prefix": "rm(",
     "library": "var_list.r",
     "varRefreshCmd": "cat(var_dic_list()) "
    }
   },
   "types_to_exclude": [
    "module",
    "function",
    "builtin_function_or_method",
    "instance",
    "_Feature"
   ],
   "window_display": false
  }
 },
 "nbformat": 4,
 "nbformat_minor": 4
}
